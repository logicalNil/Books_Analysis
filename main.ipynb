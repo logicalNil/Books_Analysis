{
 "cells": [
  {
   "cell_type": "markdown",
   "id": "832f2806",
   "metadata": {},
   "source": [
    "## Book Rating Prediction Using a Model"
   ]
  },
  {
   "cell_type": "code",
   "execution_count": 1,
   "id": "061133ee",
   "metadata": {
    "ExecuteTime": {
     "end_time": "2024-05-27T08:06:48.466490Z",
     "start_time": "2024-05-27T08:06:48.321716700Z"
    }
   },
   "outputs": [],
   "source": [
    "import numpy as np\n",
    "import pandas as pd\n",
    "import matplotlib.pyplot as plt\n",
    "import seaborn as sns"
   ]
  },
  {
   "cell_type": "markdown",
   "id": "fe848b92",
   "metadata": {},
   "source": [
    "####  IMPORT BOOKS DATA FROM CSV FILE"
   ]
  },
  {
   "cell_type": "code",
   "execution_count": 2,
   "id": "7ee6a53b",
   "metadata": {
    "ExecuteTime": {
     "end_time": "2024-05-27T08:06:48.520065Z",
     "start_time": "2024-05-27T08:06:48.325715500Z"
    }
   },
   "outputs": [],
   "source": [
    "books_df = pd.read_csv(r\"Books.csv\",sep=\",\",index_col=\"bookID\")"
   ]
  },
  {
   "cell_type": "markdown",
   "id": "a498034f",
   "metadata": {},
   "source": [
    "### 1.  Feature Engineering "
   ]
  },
  {
   "cell_type": "code",
   "execution_count": 3,
   "id": "d618e493",
   "metadata": {
    "ExecuteTime": {
     "end_time": "2024-05-27T08:06:48.552994200Z",
     "start_time": "2024-05-27T08:06:48.416561700Z"
    }
   },
   "outputs": [
    {
     "data": {
      "text/plain": "                                                    title  \\\nbookID                                                      \n2034    Comoediae 1: Acharenses/Equites/Nubes/Vespae/P...   \n2560                    Willem de Kooning: Late Paintings   \n2843    Literature Circle Guide: Bridge to Terabithia:...   \n4287    Middlesex Borough (Images of America: New Jersey)   \n14741   Zone of the Enders: The 2nd Runner Official St...   \n\n                                     authors  average_rating        isbn  \\\nbookID                                                                     \n2034     Aristophanes/F.W. Hall/W.M. Geldart             5.0  0198145047   \n2560         Julie Sylvester/David Sylvester             5.0  382960226X   \n2843                          Tara MacCarthy             5.0  0439271711   \n4287    Middlesex Borough Heritage Committee             5.0  0738511676   \n14741                             Tim Bogenn             5.0  0744002354   \n\n              isbn13 language_code  num_pages  ratings_count  \\\nbookID                                                         \n2034    9.780200e+12           grc        364              0   \n2560    9.783830e+12           eng         83              1   \n2843    9.780440e+12           eng         32              4   \n4287    9.780740e+12           eng        128              2   \n14741   9.780740e+12           eng        128              2   \n\n        text_reviews_count publication_date                     publisher  \nbookID                                                                     \n2034                   0.0        2/22/1922  Oxford University Press  USA  \n2560                   0.0         9/1/2006                Schirmer Mosel  \n2843                   1.0         1/1/2002            Teaching Resources  \n4287                   0.0        3/17/2003            Arcadia Publishing  \n14741                  0.0         3/6/2003                    BradyGames  ",
      "text/html": "<div>\n<style scoped>\n    .dataframe tbody tr th:only-of-type {\n        vertical-align: middle;\n    }\n\n    .dataframe tbody tr th {\n        vertical-align: top;\n    }\n\n    .dataframe thead th {\n        text-align: right;\n    }\n</style>\n<table border=\"1\" class=\"dataframe\">\n  <thead>\n    <tr style=\"text-align: right;\">\n      <th></th>\n      <th>title</th>\n      <th>authors</th>\n      <th>average_rating</th>\n      <th>isbn</th>\n      <th>isbn13</th>\n      <th>language_code</th>\n      <th>num_pages</th>\n      <th>ratings_count</th>\n      <th>text_reviews_count</th>\n      <th>publication_date</th>\n      <th>publisher</th>\n    </tr>\n    <tr>\n      <th>bookID</th>\n      <th></th>\n      <th></th>\n      <th></th>\n      <th></th>\n      <th></th>\n      <th></th>\n      <th></th>\n      <th></th>\n      <th></th>\n      <th></th>\n      <th></th>\n    </tr>\n  </thead>\n  <tbody>\n    <tr>\n      <th>2034</th>\n      <td>Comoediae 1: Acharenses/Equites/Nubes/Vespae/P...</td>\n      <td>Aristophanes/F.W. Hall/W.M. Geldart</td>\n      <td>5.0</td>\n      <td>0198145047</td>\n      <td>9.780200e+12</td>\n      <td>grc</td>\n      <td>364</td>\n      <td>0</td>\n      <td>0.0</td>\n      <td>2/22/1922</td>\n      <td>Oxford University Press  USA</td>\n    </tr>\n    <tr>\n      <th>2560</th>\n      <td>Willem de Kooning: Late Paintings</td>\n      <td>Julie Sylvester/David Sylvester</td>\n      <td>5.0</td>\n      <td>382960226X</td>\n      <td>9.783830e+12</td>\n      <td>eng</td>\n      <td>83</td>\n      <td>1</td>\n      <td>0.0</td>\n      <td>9/1/2006</td>\n      <td>Schirmer Mosel</td>\n    </tr>\n    <tr>\n      <th>2843</th>\n      <td>Literature Circle Guide: Bridge to Terabithia:...</td>\n      <td>Tara MacCarthy</td>\n      <td>5.0</td>\n      <td>0439271711</td>\n      <td>9.780440e+12</td>\n      <td>eng</td>\n      <td>32</td>\n      <td>4</td>\n      <td>1.0</td>\n      <td>1/1/2002</td>\n      <td>Teaching Resources</td>\n    </tr>\n    <tr>\n      <th>4287</th>\n      <td>Middlesex Borough (Images of America: New Jersey)</td>\n      <td>Middlesex Borough Heritage Committee</td>\n      <td>5.0</td>\n      <td>0738511676</td>\n      <td>9.780740e+12</td>\n      <td>eng</td>\n      <td>128</td>\n      <td>2</td>\n      <td>0.0</td>\n      <td>3/17/2003</td>\n      <td>Arcadia Publishing</td>\n    </tr>\n    <tr>\n      <th>14741</th>\n      <td>Zone of the Enders: The 2nd Runner Official St...</td>\n      <td>Tim Bogenn</td>\n      <td>5.0</td>\n      <td>0744002354</td>\n      <td>9.780740e+12</td>\n      <td>eng</td>\n      <td>128</td>\n      <td>2</td>\n      <td>0.0</td>\n      <td>3/6/2003</td>\n      <td>BradyGames</td>\n    </tr>\n  </tbody>\n</table>\n</div>"
     },
     "execution_count": 3,
     "metadata": {},
     "output_type": "execute_result"
    }
   ],
   "source": [
    " # View the books dataset to see is loaded correctly\n",
    "books_df.head()"
   ]
  },
  {
   "cell_type": "code",
   "execution_count": 4,
   "id": "f372d98c",
   "metadata": {
    "ExecuteTime": {
     "end_time": "2024-05-27T08:06:48.748640100Z",
     "start_time": "2024-05-27T08:06:48.439304800Z"
    }
   },
   "outputs": [
    {
     "data": {
      "text/plain": "       average_rating        isbn13     num_pages  ratings_count  \\\ncount    11127.000000  1.112700e+04  11127.000000   1.112700e+04   \nmean         3.933631  9.759888e+12    336.376921   1.793641e+04   \nstd          0.352445  4.428964e+11    241.127305   1.124794e+05   \nmin          0.000000  8.987060e+09      0.000000   0.000000e+00   \n25%          3.770000  9.780350e+12    192.000000   1.040000e+02   \n50%          3.960000  9.780590e+12    299.000000   7.450000e+02   \n75%          4.135000  9.780870e+12    416.000000   4.993500e+03   \nmax          5.000000  9.790010e+12   6576.000000   4.597666e+06   \n\n       text_reviews_count  \ncount        11123.000000  \nmean           542.048099  \nstd           2576.619589  \nmin              0.000000  \n25%              9.000000  \n50%             47.000000  \n75%            238.000000  \nmax          94265.000000  ",
      "text/html": "<div>\n<style scoped>\n    .dataframe tbody tr th:only-of-type {\n        vertical-align: middle;\n    }\n\n    .dataframe tbody tr th {\n        vertical-align: top;\n    }\n\n    .dataframe thead th {\n        text-align: right;\n    }\n</style>\n<table border=\"1\" class=\"dataframe\">\n  <thead>\n    <tr style=\"text-align: right;\">\n      <th></th>\n      <th>average_rating</th>\n      <th>isbn13</th>\n      <th>num_pages</th>\n      <th>ratings_count</th>\n      <th>text_reviews_count</th>\n    </tr>\n  </thead>\n  <tbody>\n    <tr>\n      <th>count</th>\n      <td>11127.000000</td>\n      <td>1.112700e+04</td>\n      <td>11127.000000</td>\n      <td>1.112700e+04</td>\n      <td>11123.000000</td>\n    </tr>\n    <tr>\n      <th>mean</th>\n      <td>3.933631</td>\n      <td>9.759888e+12</td>\n      <td>336.376921</td>\n      <td>1.793641e+04</td>\n      <td>542.048099</td>\n    </tr>\n    <tr>\n      <th>std</th>\n      <td>0.352445</td>\n      <td>4.428964e+11</td>\n      <td>241.127305</td>\n      <td>1.124794e+05</td>\n      <td>2576.619589</td>\n    </tr>\n    <tr>\n      <th>min</th>\n      <td>0.000000</td>\n      <td>8.987060e+09</td>\n      <td>0.000000</td>\n      <td>0.000000e+00</td>\n      <td>0.000000</td>\n    </tr>\n    <tr>\n      <th>25%</th>\n      <td>3.770000</td>\n      <td>9.780350e+12</td>\n      <td>192.000000</td>\n      <td>1.040000e+02</td>\n      <td>9.000000</td>\n    </tr>\n    <tr>\n      <th>50%</th>\n      <td>3.960000</td>\n      <td>9.780590e+12</td>\n      <td>299.000000</td>\n      <td>7.450000e+02</td>\n      <td>47.000000</td>\n    </tr>\n    <tr>\n      <th>75%</th>\n      <td>4.135000</td>\n      <td>9.780870e+12</td>\n      <td>416.000000</td>\n      <td>4.993500e+03</td>\n      <td>238.000000</td>\n    </tr>\n    <tr>\n      <th>max</th>\n      <td>5.000000</td>\n      <td>9.790010e+12</td>\n      <td>6576.000000</td>\n      <td>4.597666e+06</td>\n      <td>94265.000000</td>\n    </tr>\n  </tbody>\n</table>\n</div>"
     },
     "execution_count": 4,
     "metadata": {},
     "output_type": "execute_result"
    }
   ],
   "source": [
    "# Basic statistical analysis on the dataset\n",
    "# The number of records in the dataset is 11,127\n",
    "books_df.describe()"
   ]
  },
  {
   "cell_type": "code",
   "execution_count": 5,
   "id": "d33b25f1",
   "metadata": {
    "ExecuteTime": {
     "end_time": "2024-05-27T08:06:48.778209500Z",
     "start_time": "2024-05-27T08:06:48.473706Z"
    }
   },
   "outputs": [
    {
     "data": {
      "text/plain": "title                  object\nauthors                object\naverage_rating        float64\nisbn                   object\nisbn13                float64\nlanguage_code          object\nnum_pages               int64\nratings_count           int64\ntext_reviews_count    float64\npublication_date       object\npublisher              object\ndtype: object"
     },
     "execution_count": 5,
     "metadata": {},
     "output_type": "execute_result"
    }
   ],
   "source": [
    "# Identify the datatypes for the columns\n",
    "books_df.dtypes"
   ]
  },
  {
   "cell_type": "code",
   "outputs": [
    {
     "data": {
      "text/plain": "title                 0\nauthors               0\naverage_rating        0\nisbn                  1\nisbn13                0\nlanguage_code         4\nnum_pages             0\nratings_count         0\ntext_reviews_count    4\npublication_date      2\npublisher             4\ndtype: int64"
     },
     "execution_count": 6,
     "metadata": {},
     "output_type": "execute_result"
    }
   ],
   "source": [
    "# Check for null values\n",
    "books_df.isna().sum()"
   ],
   "metadata": {
    "ExecuteTime": {
     "end_time": "2024-05-27T08:06:48.800756600Z",
     "start_time": "2024-05-27T08:06:48.484658200Z"
    }
   },
   "id": "23062ec0",
   "execution_count": 6
  },
  {
   "cell_type": "markdown",
   "source": [
    "## ISBN stands for International Standard Book Number. It is a unique numeric identifier assigned to each edition and variation of a book.\n",
    "\n",
    "### ISBN-10: The original ISBN format, consisting of 10 digits. It was used before 2007.\n",
    "### ISBN-13: The newer ISBN format, consisting of 13 digits. It was introduced in 2007 to increase the capacity of the ISBN system and is now the standard format."
   ],
   "metadata": {
    "collapsed": false
   },
   "id": "e0f0e69ca9c6de94"
  },
  {
   "cell_type": "code",
   "execution_count": 7,
   "id": "ec62a4de",
   "metadata": {
    "ExecuteTime": {
     "end_time": "2024-05-27T08:06:48.820469300Z",
     "start_time": "2024-05-27T08:06:48.504795600Z"
    }
   },
   "outputs": [],
   "source": [
    "# Drop the columns isbn and isbn13, because it has no impact on the target variable \"Average rating\"\n",
    "books_df = books_df.drop([\"isbn\",\"isbn13\"],axis=1)"
   ]
  },
  {
   "cell_type": "markdown",
   "id": "825236b6",
   "metadata": {},
   "source": [
    "#####  Cleaning the column \"language_code\" "
   ]
  },
  {
   "cell_type": "code",
   "execution_count": 8,
   "id": "7338e90c",
   "metadata": {
    "ExecuteTime": {
     "end_time": "2024-05-27T08:06:48.889836Z",
     "start_time": "2024-05-27T08:06:48.514069600Z"
    }
   },
   "outputs": [
    {
     "data": {
      "text/plain": "                                                    title  \\\nbookID                                                      \n12224   Streetcar Suburbs: The Process of Growth in Bo...   \n16914                   The Tolkien Fan's Medieval Reader   \n22128                      Patriots (The Coming Collapse)   \n34889   Brown's Star Atlas: Showing All The Bright Sta...   \n\n                                         authors  average_rating  \\\nbookID                                                             \n12224                            Sam Bass Warner            3.58   \n16914   David E. Smith (Turgon of TheOneRing.net            3.58   \n22128                               James Wesley            3.63   \n34889                                      Brown            0.00   \n\n       language_code  num_pages  ratings_count  text_reviews_count  \\\nbookID                                                               \n12224            NaN        236             61                 NaN   \n16914            NaN        400             26                 NaN   \n22128            NaN        342             38                 NaN   \n34889            NaN         49              0                 NaN   \n\n       publication_date publisher  \nbookID                             \n12224         4/20/2004       NaN  \n16914          4/6/2004       NaN  \n22128         1/15/1999       NaN  \n34889          5/1/1977       NaN  ",
      "text/html": "<div>\n<style scoped>\n    .dataframe tbody tr th:only-of-type {\n        vertical-align: middle;\n    }\n\n    .dataframe tbody tr th {\n        vertical-align: top;\n    }\n\n    .dataframe thead th {\n        text-align: right;\n    }\n</style>\n<table border=\"1\" class=\"dataframe\">\n  <thead>\n    <tr style=\"text-align: right;\">\n      <th></th>\n      <th>title</th>\n      <th>authors</th>\n      <th>average_rating</th>\n      <th>language_code</th>\n      <th>num_pages</th>\n      <th>ratings_count</th>\n      <th>text_reviews_count</th>\n      <th>publication_date</th>\n      <th>publisher</th>\n    </tr>\n    <tr>\n      <th>bookID</th>\n      <th></th>\n      <th></th>\n      <th></th>\n      <th></th>\n      <th></th>\n      <th></th>\n      <th></th>\n      <th></th>\n      <th></th>\n    </tr>\n  </thead>\n  <tbody>\n    <tr>\n      <th>12224</th>\n      <td>Streetcar Suburbs: The Process of Growth in Bo...</td>\n      <td>Sam Bass Warner</td>\n      <td>3.58</td>\n      <td>NaN</td>\n      <td>236</td>\n      <td>61</td>\n      <td>NaN</td>\n      <td>4/20/2004</td>\n      <td>NaN</td>\n    </tr>\n    <tr>\n      <th>16914</th>\n      <td>The Tolkien Fan's Medieval Reader</td>\n      <td>David E. Smith (Turgon of TheOneRing.net</td>\n      <td>3.58</td>\n      <td>NaN</td>\n      <td>400</td>\n      <td>26</td>\n      <td>NaN</td>\n      <td>4/6/2004</td>\n      <td>NaN</td>\n    </tr>\n    <tr>\n      <th>22128</th>\n      <td>Patriots (The Coming Collapse)</td>\n      <td>James Wesley</td>\n      <td>3.63</td>\n      <td>NaN</td>\n      <td>342</td>\n      <td>38</td>\n      <td>NaN</td>\n      <td>1/15/1999</td>\n      <td>NaN</td>\n    </tr>\n    <tr>\n      <th>34889</th>\n      <td>Brown's Star Atlas: Showing All The Bright Sta...</td>\n      <td>Brown</td>\n      <td>0.00</td>\n      <td>NaN</td>\n      <td>49</td>\n      <td>0</td>\n      <td>NaN</td>\n      <td>5/1/1977</td>\n      <td>NaN</td>\n    </tr>\n  </tbody>\n</table>\n</div>"
     },
     "execution_count": 8,
     "metadata": {},
     "output_type": "execute_result"
    }
   ],
   "source": [
    "# select null values for language_code\n",
    "books_df.loc[books_df.language_code.isna(),:]"
   ]
  },
  {
   "cell_type": "code",
   "execution_count": 9,
   "id": "7c756fd1",
   "metadata": {
    "ExecuteTime": {
     "end_time": "2024-05-27T08:06:48.908960500Z",
     "start_time": "2024-05-27T08:06:48.529252500Z"
    }
   },
   "outputs": [],
   "source": [
    "# Replace the null values with the language code \"eng\", I choose \"eng\" because the \"title\" of the books are in english and the Authors as well .\n",
    "books_df.loc[books_df.language_code.isna(),\"language_code\"] = \"eng\""
   ]
  },
  {
   "cell_type": "code",
   "execution_count": 10,
   "id": "43700b96",
   "metadata": {
    "ExecuteTime": {
     "end_time": "2024-05-27T08:06:48.924960Z",
     "start_time": "2024-05-27T08:06:48.537103600Z"
    }
   },
   "outputs": [
    {
     "data": {
      "text/plain": "eng      8912\nen-US    1408\nspa       218\nen-GB     214\nfre       144\nger        99\njpn        46\nmul        19\nzho        14\ngrc        11\npor        10\nen-CA       7\nita         5\nlat         3\nenm         3\nrus         2\nswe         2\nara         1\nglg         1\nnor         1\ntur         1\nmsa         1\nnl          1\nale         1\ngla         1\nwel         1\nsrp         1\nName: language_code, dtype: int64"
     },
     "execution_count": 10,
     "metadata": {},
     "output_type": "execute_result"
    }
   ],
   "source": [
    "# find distinct values for language_code, and whenever there are different codes with the same meanining we merge to become one.\n",
    "books_df.language_code.value_counts()"
   ]
  },
  {
   "cell_type": "code",
   "execution_count": 11,
   "id": "13373970",
   "metadata": {
    "ExecuteTime": {
     "end_time": "2024-05-27T08:06:48.947139700Z",
     "start_time": "2024-05-27T08:06:48.547126600Z"
    }
   },
   "outputs": [
    {
     "data": {
      "text/plain": "{'ale',\n 'ara',\n 'en-CA',\n 'en-GB',\n 'en-US',\n 'eng',\n 'enm',\n 'fre',\n 'ger',\n 'gla',\n 'glg',\n 'grc',\n 'ita',\n 'jpn',\n 'lat',\n 'msa',\n 'mul',\n 'nl',\n 'nor',\n 'por',\n 'rus',\n 'spa',\n 'srp',\n 'swe',\n 'tur',\n 'wel',\n 'zho'}"
     },
     "execution_count": 11,
     "metadata": {},
     "output_type": "execute_result"
    }
   ],
   "source": [
    "# Merge the Language codes: en-US, en-GB,en-CA to eng\n",
    "# select the language_code as series and then convert it into a Set\n",
    "list_of_lang = set(books_df[\"language_code\"])\n",
    "list_of_lang"
   ]
  },
  {
   "cell_type": "code",
   "execution_count": 12,
   "id": "40b479bd",
   "metadata": {
    "ExecuteTime": {
     "end_time": "2024-05-27T08:06:48.951118500Z",
     "start_time": "2024-05-27T08:06:48.564141400Z"
    }
   },
   "outputs": [],
   "source": [
    "# Create a uniformity in the columm 'language_code' by looping through the list\n",
    "for i in list_of_lang:\n",
    "    if i == \"English\":\n",
    "        books_df.loc[books_df['language_code'] == i,\"language_code\"] = \"eng\"\n",
    "    elif i == \"en-US\":\n",
    "        books_df.loc[books_df['language_code'] == i,\"language_code\"] = \"eng\"  \n",
    "    elif i == \"en-GB\":\n",
    "        books_df.loc[books_df['language_code'] == i,\"language_code\"] = \"eng\"\n",
    "    elif i == \"en-CA\":\n",
    "        books_df.loc[books_df['language_code'] == i,\"language_code\"] = \"eng\"\n",
    "    elif i == \"French\":\n",
    "        books_df.loc[books_df['language_code'] == i,\"language_code\"] = \"fre\""
   ]
  },
  {
   "cell_type": "code",
   "execution_count": 13,
   "id": "cf7526df",
   "metadata": {
    "ExecuteTime": {
     "end_time": "2024-05-27T08:06:48.965123800Z",
     "start_time": "2024-05-27T08:06:48.574696200Z"
    }
   },
   "outputs": [
    {
     "data": {
      "text/plain": "eng    10541\nspa      218\nfre      144\nger       99\njpn       46\nmul       19\nzho       14\ngrc       11\npor       10\nita        5\nlat        3\nenm        3\nrus        2\nswe        2\ngla        1\ntur        1\nale        1\nnl         1\nmsa        1\nwel        1\nnor        1\nara        1\nglg        1\nsrp        1\nName: language_code, dtype: int64"
     },
     "execution_count": 13,
     "metadata": {},
     "output_type": "execute_result"
    }
   ],
   "source": [
    "# View the distinct values for language_code after merging identical Language code\n",
    "books_df.language_code.value_counts()"
   ]
  },
  {
   "cell_type": "markdown",
   "id": "9b0dfbb1",
   "metadata": {},
   "source": [
    "#####  Cleaning the column \"publication_date\""
   ]
  },
  {
   "cell_type": "code",
   "execution_count": 14,
   "id": "3a7d2022",
   "metadata": {
    "ExecuteTime": {
     "end_time": "2024-05-27T08:06:48.970125Z",
     "start_time": "2024-05-27T08:06:48.586801200Z"
    }
   },
   "outputs": [
    {
     "data": {
      "text/plain": "                                                    title  \\\nbookID                                                      \n31373   In Pursuit of the Proper Sinner (Inspector Lyn...   \n45531          Montaillou  village occitan de 1294 à 1324   \n\n                                                authors  average_rating  \\\nbookID                                                                    \n31373                                 Elizabeth  George            4.10   \n45531   Emmanuel Le Roy Ladurie/Emmanuel Le Roy-Ladurie            3.96   \n\n       language_code  num_pages  ratings_count  text_reviews_count  \\\nbookID                                                               \n31373            eng        718          10608               295.0   \n45531            fre        640             15                 2.0   \n\n       publication_date       publisher  \nbookID                                   \n31373               NaN    Bantam Books  \n45531               NaN  Folio histoire  ",
      "text/html": "<div>\n<style scoped>\n    .dataframe tbody tr th:only-of-type {\n        vertical-align: middle;\n    }\n\n    .dataframe tbody tr th {\n        vertical-align: top;\n    }\n\n    .dataframe thead th {\n        text-align: right;\n    }\n</style>\n<table border=\"1\" class=\"dataframe\">\n  <thead>\n    <tr style=\"text-align: right;\">\n      <th></th>\n      <th>title</th>\n      <th>authors</th>\n      <th>average_rating</th>\n      <th>language_code</th>\n      <th>num_pages</th>\n      <th>ratings_count</th>\n      <th>text_reviews_count</th>\n      <th>publication_date</th>\n      <th>publisher</th>\n    </tr>\n    <tr>\n      <th>bookID</th>\n      <th></th>\n      <th></th>\n      <th></th>\n      <th></th>\n      <th></th>\n      <th></th>\n      <th></th>\n      <th></th>\n      <th></th>\n    </tr>\n  </thead>\n  <tbody>\n    <tr>\n      <th>31373</th>\n      <td>In Pursuit of the Proper Sinner (Inspector Lyn...</td>\n      <td>Elizabeth  George</td>\n      <td>4.10</td>\n      <td>eng</td>\n      <td>718</td>\n      <td>10608</td>\n      <td>295.0</td>\n      <td>NaN</td>\n      <td>Bantam Books</td>\n    </tr>\n    <tr>\n      <th>45531</th>\n      <td>Montaillou  village occitan de 1294 à 1324</td>\n      <td>Emmanuel Le Roy Ladurie/Emmanuel Le Roy-Ladurie</td>\n      <td>3.96</td>\n      <td>fre</td>\n      <td>640</td>\n      <td>15</td>\n      <td>2.0</td>\n      <td>NaN</td>\n      <td>Folio histoire</td>\n    </tr>\n  </tbody>\n</table>\n</div>"
     },
     "execution_count": 14,
     "metadata": {},
     "output_type": "execute_result"
    }
   ],
   "source": [
    "# view null values for publication date\n",
    "books_df.loc[books_df.publication_date.isna(),:]"
   ]
  },
  {
   "cell_type": "code",
   "execution_count": 15,
   "id": "b5d79493",
   "metadata": {
    "ExecuteTime": {
     "end_time": "2024-05-27T08:06:49.234793400Z",
     "start_time": "2024-05-27T08:06:48.592595900Z"
    }
   },
   "outputs": [
    {
     "data": {
      "text/plain": "                                                    title  \\\nbookID                                                      \n45529              Montaillou: The Promised Land of Error   \n45530   Montaillou: Cathars and Catholics in a French ...   \n45531          Montaillou  village occitan de 1294 à 1324   \n45533   Montaillou: Cathars and Catholics in a French ...   \n\n                                                authors  average_rating  \\\nbookID                                                                    \n45529              Emmanuel Le Roy Ladurie/Barbara Bray            3.96   \n45530              Emmanuel Le Roy Ladurie/Barbara Bray            3.96   \n45531   Emmanuel Le Roy Ladurie/Emmanuel Le Roy-Ladurie            3.96   \n45533              Emmanuel Le Roy Ladurie/Barbara Bray            3.96   \n\n       language_code  num_pages  ratings_count  text_reviews_count  \\\nbookID                                                               \n45529            eng        416           1142                62.0   \n45530            eng        400             80                14.0   \n45531            fre        640             15                 2.0   \n45533            eng        400             17                 2.0   \n\n       publication_date                  publisher  \nbookID                                              \n45529         7/12/1979  Vintage/Random House (NY)  \n45530         12/5/2002                    Penguin  \n45531               NaN             Folio histoire  \n45533         5/29/1980         Penguin Books Ltd.  ",
      "text/html": "<div>\n<style scoped>\n    .dataframe tbody tr th:only-of-type {\n        vertical-align: middle;\n    }\n\n    .dataframe tbody tr th {\n        vertical-align: top;\n    }\n\n    .dataframe thead th {\n        text-align: right;\n    }\n</style>\n<table border=\"1\" class=\"dataframe\">\n  <thead>\n    <tr style=\"text-align: right;\">\n      <th></th>\n      <th>title</th>\n      <th>authors</th>\n      <th>average_rating</th>\n      <th>language_code</th>\n      <th>num_pages</th>\n      <th>ratings_count</th>\n      <th>text_reviews_count</th>\n      <th>publication_date</th>\n      <th>publisher</th>\n    </tr>\n    <tr>\n      <th>bookID</th>\n      <th></th>\n      <th></th>\n      <th></th>\n      <th></th>\n      <th></th>\n      <th></th>\n      <th></th>\n      <th></th>\n      <th></th>\n    </tr>\n  </thead>\n  <tbody>\n    <tr>\n      <th>45529</th>\n      <td>Montaillou: The Promised Land of Error</td>\n      <td>Emmanuel Le Roy Ladurie/Barbara Bray</td>\n      <td>3.96</td>\n      <td>eng</td>\n      <td>416</td>\n      <td>1142</td>\n      <td>62.0</td>\n      <td>7/12/1979</td>\n      <td>Vintage/Random House (NY)</td>\n    </tr>\n    <tr>\n      <th>45530</th>\n      <td>Montaillou: Cathars and Catholics in a French ...</td>\n      <td>Emmanuel Le Roy Ladurie/Barbara Bray</td>\n      <td>3.96</td>\n      <td>eng</td>\n      <td>400</td>\n      <td>80</td>\n      <td>14.0</td>\n      <td>12/5/2002</td>\n      <td>Penguin</td>\n    </tr>\n    <tr>\n      <th>45531</th>\n      <td>Montaillou  village occitan de 1294 à 1324</td>\n      <td>Emmanuel Le Roy Ladurie/Emmanuel Le Roy-Ladurie</td>\n      <td>3.96</td>\n      <td>fre</td>\n      <td>640</td>\n      <td>15</td>\n      <td>2.0</td>\n      <td>NaN</td>\n      <td>Folio histoire</td>\n    </tr>\n    <tr>\n      <th>45533</th>\n      <td>Montaillou: Cathars and Catholics in a French ...</td>\n      <td>Emmanuel Le Roy Ladurie/Barbara Bray</td>\n      <td>3.96</td>\n      <td>eng</td>\n      <td>400</td>\n      <td>17</td>\n      <td>2.0</td>\n      <td>5/29/1980</td>\n      <td>Penguin Books Ltd.</td>\n    </tr>\n  </tbody>\n</table>\n</div>"
     },
     "execution_count": 15,
     "metadata": {},
     "output_type": "execute_result"
    }
   ],
   "source": [
    "# Identify records with the same title but with not null publication date. To replace the null date. \n",
    "books_df[books_df['title'].str.contains('Montaillou', na=False)]"
   ]
  },
  {
   "cell_type": "code",
   "execution_count": 16,
   "id": "b954bdce",
   "metadata": {
    "ExecuteTime": {
     "end_time": "2024-05-27T08:06:49.287896Z",
     "start_time": "2024-05-27T08:06:48.609265700Z"
    }
   },
   "outputs": [
    {
     "data": {
      "text/plain": "(11127, 9)"
     },
     "execution_count": 16,
     "metadata": {},
     "output_type": "execute_result"
    }
   ],
   "source": [
    "# Number of DataFrame rows and columns (including NA elements)\n",
    "books_df.shape"
   ]
  },
  {
   "cell_type": "code",
   "execution_count": 17,
   "id": "bf102afd",
   "metadata": {
    "ExecuteTime": {
     "end_time": "2024-05-27T08:06:49.328976800Z",
     "start_time": "2024-05-27T08:06:48.616891800Z"
    }
   },
   "outputs": [],
   "source": [
    "# only one record for the title with null publication date.It can therefore be dropped\n",
    "# Remove the records that have publication_date null\n",
    "books_df = books_df.loc[books_df['publication_date'].notna(),:]"
   ]
  },
  {
   "cell_type": "code",
   "execution_count": 18,
   "id": "a1a5575b",
   "metadata": {
    "ExecuteTime": {
     "end_time": "2024-05-27T08:06:49.378834200Z",
     "start_time": "2024-05-27T08:06:48.625005300Z"
    }
   },
   "outputs": [
    {
     "data": {
      "text/plain": "Series([], Name: publication_date, dtype: object)"
     },
     "execution_count": 18,
     "metadata": {},
     "output_type": "execute_result"
    }
   ],
   "source": [
    "# Clean incorrect date value \n",
    "books_df.loc[books_df['publication_date']==\"1/1/1900 0:00\",\"publication_date\"]"
   ]
  },
  {
   "cell_type": "code",
   "execution_count": 19,
   "id": "d2feb545",
   "metadata": {
    "scrolled": true,
    "ExecuteTime": {
     "end_time": "2024-05-27T08:06:49.383834800Z",
     "start_time": "2024-05-27T08:06:48.646379400Z"
    }
   },
   "outputs": [],
   "source": [
    "# Convert object/string to date type\n",
    "books_df.loc[:,\"Date\"] = pd.to_datetime(books_df['publication_date'])"
   ]
  },
  {
   "cell_type": "code",
   "execution_count": 20,
   "id": "823f2671",
   "metadata": {
    "ExecuteTime": {
     "end_time": "2024-05-27T08:06:49.434212100Z",
     "start_time": "2024-05-27T08:06:48.651386600Z"
    }
   },
   "outputs": [],
   "source": [
    "# Select year from the date\n",
    "books_df['year'] = books_df['Date'].dt.year\n"
   ]
  },
  {
   "cell_type": "code",
   "execution_count": 21,
   "id": "53cc79ce",
   "metadata": {
    "ExecuteTime": {
     "end_time": "2024-05-27T08:06:49.462354900Z",
     "start_time": "2024-05-27T08:06:48.659768800Z"
    }
   },
   "outputs": [],
   "source": [
    "# Select month from the date\n",
    "books_df['month'] = books_df['Date'].dt.month"
   ]
  },
  {
   "cell_type": "code",
   "execution_count": 22,
   "id": "324eac0a",
   "metadata": {
    "ExecuteTime": {
     "end_time": "2024-05-27T08:06:49.476462200Z",
     "start_time": "2024-05-27T08:06:48.674814Z"
    }
   },
   "outputs": [
    {
     "data": {
      "text/plain": "                                                    title  \\\nbookID                                                      \n2034    Comoediae 1: Acharenses/Equites/Nubes/Vespae/P...   \n2560                    Willem de Kooning: Late Paintings   \n2843    Literature Circle Guide: Bridge to Terabithia:...   \n4287    Middlesex Borough (Images of America: New Jersey)   \n14741   Zone of the Enders: The 2nd Runner Official St...   \n\n                                     authors  average_rating language_code  \\\nbookID                                                                       \n2034     Aristophanes/F.W. Hall/W.M. Geldart             5.0           grc   \n2560         Julie Sylvester/David Sylvester             5.0           eng   \n2843                          Tara MacCarthy             5.0           eng   \n4287    Middlesex Borough Heritage Committee             5.0           eng   \n14741                             Tim Bogenn             5.0           eng   \n\n        num_pages  ratings_count  text_reviews_count publication_date  \\\nbookID                                                                  \n2034          364              0                 0.0        2/22/1922   \n2560           83              1                 0.0         9/1/2006   \n2843           32              4                 1.0         1/1/2002   \n4287          128              2                 0.0        3/17/2003   \n14741         128              2                 0.0         3/6/2003   \n\n                           publisher       Date  year  month  \nbookID                                                        \n2034    Oxford University Press  USA 1922-02-22  1922      2  \n2560                  Schirmer Mosel 2006-09-01  2006      9  \n2843              Teaching Resources 2002-01-01  2002      1  \n4287              Arcadia Publishing 2003-03-17  2003      3  \n14741                     BradyGames 2003-03-06  2003      3  ",
      "text/html": "<div>\n<style scoped>\n    .dataframe tbody tr th:only-of-type {\n        vertical-align: middle;\n    }\n\n    .dataframe tbody tr th {\n        vertical-align: top;\n    }\n\n    .dataframe thead th {\n        text-align: right;\n    }\n</style>\n<table border=\"1\" class=\"dataframe\">\n  <thead>\n    <tr style=\"text-align: right;\">\n      <th></th>\n      <th>title</th>\n      <th>authors</th>\n      <th>average_rating</th>\n      <th>language_code</th>\n      <th>num_pages</th>\n      <th>ratings_count</th>\n      <th>text_reviews_count</th>\n      <th>publication_date</th>\n      <th>publisher</th>\n      <th>Date</th>\n      <th>year</th>\n      <th>month</th>\n    </tr>\n    <tr>\n      <th>bookID</th>\n      <th></th>\n      <th></th>\n      <th></th>\n      <th></th>\n      <th></th>\n      <th></th>\n      <th></th>\n      <th></th>\n      <th></th>\n      <th></th>\n      <th></th>\n      <th></th>\n    </tr>\n  </thead>\n  <tbody>\n    <tr>\n      <th>2034</th>\n      <td>Comoediae 1: Acharenses/Equites/Nubes/Vespae/P...</td>\n      <td>Aristophanes/F.W. Hall/W.M. Geldart</td>\n      <td>5.0</td>\n      <td>grc</td>\n      <td>364</td>\n      <td>0</td>\n      <td>0.0</td>\n      <td>2/22/1922</td>\n      <td>Oxford University Press  USA</td>\n      <td>1922-02-22</td>\n      <td>1922</td>\n      <td>2</td>\n    </tr>\n    <tr>\n      <th>2560</th>\n      <td>Willem de Kooning: Late Paintings</td>\n      <td>Julie Sylvester/David Sylvester</td>\n      <td>5.0</td>\n      <td>eng</td>\n      <td>83</td>\n      <td>1</td>\n      <td>0.0</td>\n      <td>9/1/2006</td>\n      <td>Schirmer Mosel</td>\n      <td>2006-09-01</td>\n      <td>2006</td>\n      <td>9</td>\n    </tr>\n    <tr>\n      <th>2843</th>\n      <td>Literature Circle Guide: Bridge to Terabithia:...</td>\n      <td>Tara MacCarthy</td>\n      <td>5.0</td>\n      <td>eng</td>\n      <td>32</td>\n      <td>4</td>\n      <td>1.0</td>\n      <td>1/1/2002</td>\n      <td>Teaching Resources</td>\n      <td>2002-01-01</td>\n      <td>2002</td>\n      <td>1</td>\n    </tr>\n    <tr>\n      <th>4287</th>\n      <td>Middlesex Borough (Images of America: New Jersey)</td>\n      <td>Middlesex Borough Heritage Committee</td>\n      <td>5.0</td>\n      <td>eng</td>\n      <td>128</td>\n      <td>2</td>\n      <td>0.0</td>\n      <td>3/17/2003</td>\n      <td>Arcadia Publishing</td>\n      <td>2003-03-17</td>\n      <td>2003</td>\n      <td>3</td>\n    </tr>\n    <tr>\n      <th>14741</th>\n      <td>Zone of the Enders: The 2nd Runner Official St...</td>\n      <td>Tim Bogenn</td>\n      <td>5.0</td>\n      <td>eng</td>\n      <td>128</td>\n      <td>2</td>\n      <td>0.0</td>\n      <td>3/6/2003</td>\n      <td>BradyGames</td>\n      <td>2003-03-06</td>\n      <td>2003</td>\n      <td>3</td>\n    </tr>\n  </tbody>\n</table>\n</div>"
     },
     "execution_count": 22,
     "metadata": {},
     "output_type": "execute_result"
    }
   ],
   "source": [
    "# View the dataframe after data cleaning\n",
    "books_df.head()"
   ]
  },
  {
   "cell_type": "code",
   "execution_count": 23,
   "id": "1f68995b",
   "metadata": {
    "ExecuteTime": {
     "end_time": "2024-05-27T08:06:49.482548600Z",
     "start_time": "2024-05-27T08:06:48.682039400Z"
    }
   },
   "outputs": [
    {
     "data": {
      "text/plain": "title                         object\nauthors                       object\naverage_rating               float64\nlanguage_code                 object\nnum_pages                      int64\nratings_count                  int64\ntext_reviews_count           float64\npublication_date              object\npublisher                     object\nDate                  datetime64[ns]\nyear                           int64\nmonth                          int64\ndtype: object"
     },
     "execution_count": 23,
     "metadata": {},
     "output_type": "execute_result"
    }
   ],
   "source": [
    "# View the data types\n",
    "books_df.dtypes"
   ]
  },
  {
   "cell_type": "code",
   "execution_count": 24,
   "id": "a6f985e9",
   "metadata": {
    "ExecuteTime": {
     "end_time": "2024-05-27T08:06:49.486552300Z",
     "start_time": "2024-05-27T08:06:48.692539500Z"
    }
   },
   "outputs": [],
   "source": [
    "# Drop the columns \"publication_date\" and \"Date\", because it has been transformed to year and month \n",
    "books_df = books_df.drop([\"publication_date\",\"Date\"],axis=1)"
   ]
  },
  {
   "cell_type": "markdown",
   "id": "2621d58b",
   "metadata": {},
   "source": [
    "#####  Cleaning the column \"Authors\""
   ]
  },
  {
   "cell_type": "code",
   "execution_count": 25,
   "id": "403970d9",
   "metadata": {
    "ExecuteTime": {
     "end_time": "2024-05-27T08:06:49.498548900Z",
     "start_time": "2024-05-27T08:06:48.702428600Z"
    }
   },
   "outputs": [],
   "source": [
    "# Create a function to identify \"/,C\" in the column \"Authors\"\n",
    "def Update_strings(name):\n",
    "    if name.find(\"/\") != -1:\n",
    "      author_name = name.split(\"/\")[0]\n",
    "    elif name.find(\"(\") != -1:\n",
    "      author_name = name.split(\"(\")[0]  \n",
    "    else:\n",
    "      author_name = name\n",
    "    return author_name\n",
    "   "
   ]
  },
  {
   "cell_type": "code",
   "execution_count": 26,
   "id": "241a8c6b",
   "metadata": {
    "ExecuteTime": {
     "end_time": "2024-05-27T08:06:49.502548800Z",
     "start_time": "2024-05-27T08:06:48.707437500Z"
    }
   },
   "outputs": [],
   "source": [
    "# Transform the \"author\" column information to have only one author by picking the first name before the '/' or '('\n",
    "books_df.loc[:,\"authors\"] = books_df.loc[:,\"authors\"].apply(Update_strings)"
   ]
  },
  {
   "cell_type": "markdown",
   "id": "c331c0e3",
   "metadata": {},
   "source": [
    "#####  Cleaning the column \"Title\""
   ]
  },
  {
   "cell_type": "code",
   "execution_count": 27,
   "id": "1ec22f48",
   "metadata": {
    "ExecuteTime": {
     "end_time": "2024-05-27T08:06:49.515731200Z",
     "start_time": "2024-05-27T08:06:48.727562100Z"
    }
   },
   "outputs": [],
   "source": [
    "# Create function to replace special characters such as \"!$%^&*\" with white space and also '&' with and\n",
    "def processString(txt):\n",
    "  specialCharacters = \"!$%^&*¡¿\" \n",
    "  for specialChar in specialCharacters:\n",
    "    if specialChar == '&':\n",
    "        txt = txt.replace('&',' and ') \n",
    "    else:\n",
    "        txt = txt.replace(specialChar, ' ')\n",
    "  return txt"
   ]
  },
  {
   "cell_type": "code",
   "execution_count": 28,
   "id": "3da52dc6",
   "metadata": {
    "ExecuteTime": {
     "end_time": "2024-05-27T08:06:49.540822100Z",
     "start_time": "2024-05-27T08:06:48.732572500Z"
    }
   },
   "outputs": [],
   "source": [
    "# Update the title column data to bring uniformity to the column \"title\"\n",
    "# Replace double white spaces with single white space\n",
    "books_df.loc[:,\"New_title\"]= books_df.loc[:,\"title\"].apply(processString)\n",
    "books_df['New_title'] = books_df['New_title'].str.replace('  ',' ')\n",
    "\n",
    "# Create a new title column name: new_title to pick the first name of the title\n",
    "books_df.loc[:,\"New_title\"]= books_df.loc[:,\"New_title\"].apply(Update_strings)"
   ]
  },
  {
   "cell_type": "code",
   "execution_count": 29,
   "id": "7fdf6857",
   "metadata": {
    "ExecuteTime": {
     "end_time": "2024-05-27T08:06:49.558815500Z",
     "start_time": "2024-05-27T08:06:48.780210500Z"
    }
   },
   "outputs": [
    {
     "data": {
      "text/plain": "                                                    title  \\\nbookID                                                      \n2034    Comoediae 1: Acharenses/Equites/Nubes/Vespae/P...   \n2560                    Willem de Kooning: Late Paintings   \n2843    Literature Circle Guide: Bridge to Terabithia:...   \n4287    Middlesex Borough (Images of America: New Jersey)   \n14741   Zone of the Enders: The 2nd Runner Official St...   \n...                                                   ...   \n45259   Anthony Thwaite: In Conversation With Peter Da...   \n12224   Streetcar Suburbs: The Process of Growth in Bo...   \n16914                   The Tolkien Fan's Medieval Reader   \n22128                      Patriots (The Coming Collapse)   \n34889   Brown's Star Atlas: Showing All The Bright Sta...   \n\n                                                New_title  \nbookID                                                     \n2034                              Comoediae 1: Acharenses  \n2560                    Willem de Kooning: Late Paintings  \n2843    Literature Circle Guide: Bridge to Terabithia:...  \n4287                                   Middlesex Borough   \n14741   Zone of the Enders: The 2nd Runner Official St...  \n...                                                   ...  \n45259   Anthony Thwaite: In Conversation With Peter Da...  \n12224   Streetcar Suburbs: The Process of Growth in Bo...  \n16914                   The Tolkien Fan's Medieval Reader  \n22128                                           Patriots   \n34889   Brown's Star Atlas: Showing All The Bright Sta...  \n\n[11125 rows x 2 columns]",
      "text/html": "<div>\n<style scoped>\n    .dataframe tbody tr th:only-of-type {\n        vertical-align: middle;\n    }\n\n    .dataframe tbody tr th {\n        vertical-align: top;\n    }\n\n    .dataframe thead th {\n        text-align: right;\n    }\n</style>\n<table border=\"1\" class=\"dataframe\">\n  <thead>\n    <tr style=\"text-align: right;\">\n      <th></th>\n      <th>title</th>\n      <th>New_title</th>\n    </tr>\n    <tr>\n      <th>bookID</th>\n      <th></th>\n      <th></th>\n    </tr>\n  </thead>\n  <tbody>\n    <tr>\n      <th>2034</th>\n      <td>Comoediae 1: Acharenses/Equites/Nubes/Vespae/P...</td>\n      <td>Comoediae 1: Acharenses</td>\n    </tr>\n    <tr>\n      <th>2560</th>\n      <td>Willem de Kooning: Late Paintings</td>\n      <td>Willem de Kooning: Late Paintings</td>\n    </tr>\n    <tr>\n      <th>2843</th>\n      <td>Literature Circle Guide: Bridge to Terabithia:...</td>\n      <td>Literature Circle Guide: Bridge to Terabithia:...</td>\n    </tr>\n    <tr>\n      <th>4287</th>\n      <td>Middlesex Borough (Images of America: New Jersey)</td>\n      <td>Middlesex Borough</td>\n    </tr>\n    <tr>\n      <th>14741</th>\n      <td>Zone of the Enders: The 2nd Runner Official St...</td>\n      <td>Zone of the Enders: The 2nd Runner Official St...</td>\n    </tr>\n    <tr>\n      <th>...</th>\n      <td>...</td>\n      <td>...</td>\n    </tr>\n    <tr>\n      <th>45259</th>\n      <td>Anthony Thwaite: In Conversation With Peter Da...</td>\n      <td>Anthony Thwaite: In Conversation With Peter Da...</td>\n    </tr>\n    <tr>\n      <th>12224</th>\n      <td>Streetcar Suburbs: The Process of Growth in Bo...</td>\n      <td>Streetcar Suburbs: The Process of Growth in Bo...</td>\n    </tr>\n    <tr>\n      <th>16914</th>\n      <td>The Tolkien Fan's Medieval Reader</td>\n      <td>The Tolkien Fan's Medieval Reader</td>\n    </tr>\n    <tr>\n      <th>22128</th>\n      <td>Patriots (The Coming Collapse)</td>\n      <td>Patriots</td>\n    </tr>\n    <tr>\n      <th>34889</th>\n      <td>Brown's Star Atlas: Showing All The Bright Sta...</td>\n      <td>Brown's Star Atlas: Showing All The Bright Sta...</td>\n    </tr>\n  </tbody>\n</table>\n<p>11125 rows × 2 columns</p>\n</div>"
     },
     "execution_count": 29,
     "metadata": {},
     "output_type": "execute_result"
    }
   ],
   "source": [
    "# View the \"title\" transformation\n",
    "books_df[[\"title\",\"New_title\"]]"
   ]
  },
  {
   "cell_type": "code",
   "execution_count": 30,
   "id": "d77ecfb1",
   "metadata": {
    "ExecuteTime": {
     "end_time": "2024-05-27T08:06:49.582813300Z",
     "start_time": "2024-05-27T08:06:48.801756Z"
    }
   },
   "outputs": [
    {
     "data": {
      "text/plain": "The Iliad                                                                                                                                                           9\nThe Brothers Karamazov                                                                                                                                              9\nAnna Karenina                                                                                                                                                       8\nGulliver's Travels                                                                                                                                                  8\n'Salem's Lot                                                                                                                                                        8\n                                                                                                                                                                   ..\nThe Dance of Intimacy: A Woman's Guide to Courageous Acts of Change in Key Relationships                                                                            1\nThe Scarlet Pimpernel                                                                                                                                               1\nPhilosophy in the Flesh: The Embodied Mind and its Challenge to Western Thought                                                                                     1\nAir Gear  Vol. 4 (Air Gear  #4)                                                                                                                                     1\nBrown's Star Atlas: Showing All The Bright Stars With Full Instructions How To Find And Use Them For Navigational Purposes And Department Of Trade Examinations.    1\nName: title, Length: 10350, dtype: int64"
     },
     "execution_count": 30,
     "metadata": {},
     "output_type": "execute_result"
    }
   ],
   "source": [
    "# The number of counts for each title\n",
    "books_df.title.value_counts()"
   ]
  },
  {
   "cell_type": "code",
   "execution_count": 31,
   "id": "809da012",
   "metadata": {
    "ExecuteTime": {
     "end_time": "2024-05-27T08:06:49.602810700Z",
     "start_time": "2024-05-27T08:06:48.812376200Z"
    }
   },
   "outputs": [
    {
     "data": {
      "text/plain": "title                 0\nauthors               0\naverage_rating        0\nlanguage_code         0\nnum_pages             0\nratings_count         0\ntext_reviews_count    4\npublisher             4\nyear                  0\nmonth                 0\nNew_title             0\ndtype: int64"
     },
     "execution_count": 31,
     "metadata": {},
     "output_type": "execute_result"
    }
   ],
   "source": [
    "# Check for null values\n",
    "books_df.isna().sum()"
   ]
  },
  {
   "cell_type": "markdown",
   "id": "7bd527bf",
   "metadata": {},
   "source": [
    "##### Clean the column \"publisher\" "
   ]
  },
  {
   "cell_type": "code",
   "execution_count": 32,
   "id": "cfb24e53",
   "metadata": {
    "ExecuteTime": {
     "end_time": "2024-05-27T08:06:49.618059400Z",
     "start_time": "2024-05-27T08:06:48.836513800Z"
    }
   },
   "outputs": [
    {
     "data": {
      "text/plain": "                                                    title          authors  \\\nbookID                                                                       \n12224   Streetcar Suburbs: The Process of Growth in Bo...  Sam Bass Warner   \n16914                   The Tolkien Fan's Medieval Reader  David E. Smith    \n22128                      Patriots (The Coming Collapse)     James Wesley   \n34889   Brown's Star Atlas: Showing All The Bright Sta...            Brown   \n\n        average_rating language_code  num_pages  ratings_count  \\\nbookID                                                           \n12224             3.58           eng        236             61   \n16914             3.58           eng        400             26   \n22128             3.63           eng        342             38   \n34889             0.00           eng         49              0   \n\n        text_reviews_count publisher  year  month  \\\nbookID                                              \n12224                  NaN       NaN  2004      4   \n16914                  NaN       NaN  2004      4   \n22128                  NaN       NaN  1999      1   \n34889                  NaN       NaN  1977      5   \n\n                                                New_title  \nbookID                                                     \n12224   Streetcar Suburbs: The Process of Growth in Bo...  \n16914                   The Tolkien Fan's Medieval Reader  \n22128                                           Patriots   \n34889   Brown's Star Atlas: Showing All The Bright Sta...  ",
      "text/html": "<div>\n<style scoped>\n    .dataframe tbody tr th:only-of-type {\n        vertical-align: middle;\n    }\n\n    .dataframe tbody tr th {\n        vertical-align: top;\n    }\n\n    .dataframe thead th {\n        text-align: right;\n    }\n</style>\n<table border=\"1\" class=\"dataframe\">\n  <thead>\n    <tr style=\"text-align: right;\">\n      <th></th>\n      <th>title</th>\n      <th>authors</th>\n      <th>average_rating</th>\n      <th>language_code</th>\n      <th>num_pages</th>\n      <th>ratings_count</th>\n      <th>text_reviews_count</th>\n      <th>publisher</th>\n      <th>year</th>\n      <th>month</th>\n      <th>New_title</th>\n    </tr>\n    <tr>\n      <th>bookID</th>\n      <th></th>\n      <th></th>\n      <th></th>\n      <th></th>\n      <th></th>\n      <th></th>\n      <th></th>\n      <th></th>\n      <th></th>\n      <th></th>\n      <th></th>\n    </tr>\n  </thead>\n  <tbody>\n    <tr>\n      <th>12224</th>\n      <td>Streetcar Suburbs: The Process of Growth in Bo...</td>\n      <td>Sam Bass Warner</td>\n      <td>3.58</td>\n      <td>eng</td>\n      <td>236</td>\n      <td>61</td>\n      <td>NaN</td>\n      <td>NaN</td>\n      <td>2004</td>\n      <td>4</td>\n      <td>Streetcar Suburbs: The Process of Growth in Bo...</td>\n    </tr>\n    <tr>\n      <th>16914</th>\n      <td>The Tolkien Fan's Medieval Reader</td>\n      <td>David E. Smith</td>\n      <td>3.58</td>\n      <td>eng</td>\n      <td>400</td>\n      <td>26</td>\n      <td>NaN</td>\n      <td>NaN</td>\n      <td>2004</td>\n      <td>4</td>\n      <td>The Tolkien Fan's Medieval Reader</td>\n    </tr>\n    <tr>\n      <th>22128</th>\n      <td>Patriots (The Coming Collapse)</td>\n      <td>James Wesley</td>\n      <td>3.63</td>\n      <td>eng</td>\n      <td>342</td>\n      <td>38</td>\n      <td>NaN</td>\n      <td>NaN</td>\n      <td>1999</td>\n      <td>1</td>\n      <td>Patriots</td>\n    </tr>\n    <tr>\n      <th>34889</th>\n      <td>Brown's Star Atlas: Showing All The Bright Sta...</td>\n      <td>Brown</td>\n      <td>0.00</td>\n      <td>eng</td>\n      <td>49</td>\n      <td>0</td>\n      <td>NaN</td>\n      <td>NaN</td>\n      <td>1977</td>\n      <td>5</td>\n      <td>Brown's Star Atlas: Showing All The Bright Sta...</td>\n    </tr>\n  </tbody>\n</table>\n</div>"
     },
     "execution_count": 32,
     "metadata": {},
     "output_type": "execute_result"
    }
   ],
   "source": [
    "# View null values of publisher,text_reviews_count \n",
    "books_df.loc[books_df.publisher.isna(),:]"
   ]
  },
  {
   "cell_type": "code",
   "execution_count": 33,
   "id": "e80c0997",
   "metadata": {
    "ExecuteTime": {
     "end_time": "2024-05-27T08:06:49.622058200Z",
     "start_time": "2024-05-27T08:06:48.851394400Z"
    }
   },
   "outputs": [],
   "source": [
    "# Drop records for null values of \"text_reviews_count\" and \"publisher\"\n",
    "books_df = books_df.loc[books_df['text_reviews_count'].notna(),:]"
   ]
  },
  {
   "cell_type": "code",
   "execution_count": 34,
   "id": "323a25a6",
   "metadata": {
    "ExecuteTime": {
     "end_time": "2024-05-27T08:06:49.626056400Z",
     "start_time": "2024-05-27T08:06:48.859168700Z"
    }
   },
   "outputs": [],
   "source": [
    "# Drop the columns publisher from the dataframe\n",
    "books_df = books_df.drop([\"publisher\"],axis=1)\n"
   ]
  },
  {
   "cell_type": "code",
   "execution_count": 35,
   "id": "2a0af151",
   "metadata": {
    "ExecuteTime": {
     "end_time": "2024-05-27T08:06:49.631059600Z",
     "start_time": "2024-05-27T08:06:48.865748600Z"
    }
   },
   "outputs": [
    {
     "data": {
      "text/plain": "title                  object\nauthors                object\naverage_rating        float64\nlanguage_code          object\nnum_pages               int64\nratings_count           int64\ntext_reviews_count    float64\nyear                    int64\nmonth                   int64\nNew_title              object\ndtype: object"
     },
     "execution_count": 35,
     "metadata": {},
     "output_type": "execute_result"
    }
   ],
   "source": [
    "# View the data types for the columns\n",
    "books_df.dtypes"
   ]
  },
  {
   "cell_type": "code",
   "execution_count": 36,
   "id": "2ccffd79",
   "metadata": {
    "ExecuteTime": {
     "end_time": "2024-05-27T08:06:49.669414100Z",
     "start_time": "2024-05-27T08:06:48.875837200Z"
    }
   },
   "outputs": [
    {
     "data": {
      "text/plain": "                                                    title  \\\nbookID                                                      \n2034                              Comoediae 1: Acharenses   \n2560                    Willem de Kooning: Late Paintings   \n2843    Literature Circle Guide: Bridge to Terabithia:...   \n4287                                   Middlesex Borough    \n14741   Zone of the Enders: The 2nd Runner Official St...   \n...                                                   ...   \n37467   Classroom Interactions as Cross-Cultural Encou...   \n41044                                       Day and Night   \n42758   The Fantastic Vampire: Studies in the Children...   \n44705   The Leadership Challenge: Skills for Taking Ch...   \n45259   Anthony Thwaite: In Conversation With Peter Da...   \n\n                                     authors  average_rating language_code  \\\nbookID                                                                       \n2034                            Aristophanes             5.0           grc   \n2560                         Julie Sylvester             5.0           eng   \n2843                          Tara MacCarthy             5.0           eng   \n4287    Middlesex Borough Heritage Committee             5.0           eng   \n14741                             Tim Bogenn             5.0           eng   \n...                                      ...             ...           ...   \n37467                       Jasmine C.M. Luk             0.0           eng   \n41044               Better Homes and Gardens             0.0           eng   \n42758                      James Craig Holte             0.0           eng   \n44705                       Warren G. Bennis             0.0           eng   \n45259                            Peter  Dale             0.0           eng   \n\n        num_pages  ratings_count  text_reviews_count  year  month  \nbookID                                                             \n2034          364              0                 0.0  1922      2  \n2560           83              1                 0.0  2006      9  \n2843           32              4                 1.0  2002      1  \n4287          128              2                 0.0  2003      3  \n14741         128              2                 0.0  2003      3  \n...           ...            ...                 ...   ...    ...  \n37467         241              0                 0.0  2006      8  \n41044          32              0                 1.0  1989      3  \n42758         176              0                 0.0  2002      3  \n44705          60              0                 0.0  1985     12  \n45259          96              0                 0.0  1999     12  \n\n[11121 rows x 9 columns]",
      "text/html": "<div>\n<style scoped>\n    .dataframe tbody tr th:only-of-type {\n        vertical-align: middle;\n    }\n\n    .dataframe tbody tr th {\n        vertical-align: top;\n    }\n\n    .dataframe thead th {\n        text-align: right;\n    }\n</style>\n<table border=\"1\" class=\"dataframe\">\n  <thead>\n    <tr style=\"text-align: right;\">\n      <th></th>\n      <th>title</th>\n      <th>authors</th>\n      <th>average_rating</th>\n      <th>language_code</th>\n      <th>num_pages</th>\n      <th>ratings_count</th>\n      <th>text_reviews_count</th>\n      <th>year</th>\n      <th>month</th>\n    </tr>\n    <tr>\n      <th>bookID</th>\n      <th></th>\n      <th></th>\n      <th></th>\n      <th></th>\n      <th></th>\n      <th></th>\n      <th></th>\n      <th></th>\n      <th></th>\n    </tr>\n  </thead>\n  <tbody>\n    <tr>\n      <th>2034</th>\n      <td>Comoediae 1: Acharenses</td>\n      <td>Aristophanes</td>\n      <td>5.0</td>\n      <td>grc</td>\n      <td>364</td>\n      <td>0</td>\n      <td>0.0</td>\n      <td>1922</td>\n      <td>2</td>\n    </tr>\n    <tr>\n      <th>2560</th>\n      <td>Willem de Kooning: Late Paintings</td>\n      <td>Julie Sylvester</td>\n      <td>5.0</td>\n      <td>eng</td>\n      <td>83</td>\n      <td>1</td>\n      <td>0.0</td>\n      <td>2006</td>\n      <td>9</td>\n    </tr>\n    <tr>\n      <th>2843</th>\n      <td>Literature Circle Guide: Bridge to Terabithia:...</td>\n      <td>Tara MacCarthy</td>\n      <td>5.0</td>\n      <td>eng</td>\n      <td>32</td>\n      <td>4</td>\n      <td>1.0</td>\n      <td>2002</td>\n      <td>1</td>\n    </tr>\n    <tr>\n      <th>4287</th>\n      <td>Middlesex Borough</td>\n      <td>Middlesex Borough Heritage Committee</td>\n      <td>5.0</td>\n      <td>eng</td>\n      <td>128</td>\n      <td>2</td>\n      <td>0.0</td>\n      <td>2003</td>\n      <td>3</td>\n    </tr>\n    <tr>\n      <th>14741</th>\n      <td>Zone of the Enders: The 2nd Runner Official St...</td>\n      <td>Tim Bogenn</td>\n      <td>5.0</td>\n      <td>eng</td>\n      <td>128</td>\n      <td>2</td>\n      <td>0.0</td>\n      <td>2003</td>\n      <td>3</td>\n    </tr>\n    <tr>\n      <th>...</th>\n      <td>...</td>\n      <td>...</td>\n      <td>...</td>\n      <td>...</td>\n      <td>...</td>\n      <td>...</td>\n      <td>...</td>\n      <td>...</td>\n      <td>...</td>\n    </tr>\n    <tr>\n      <th>37467</th>\n      <td>Classroom Interactions as Cross-Cultural Encou...</td>\n      <td>Jasmine C.M. Luk</td>\n      <td>0.0</td>\n      <td>eng</td>\n      <td>241</td>\n      <td>0</td>\n      <td>0.0</td>\n      <td>2006</td>\n      <td>8</td>\n    </tr>\n    <tr>\n      <th>41044</th>\n      <td>Day and Night</td>\n      <td>Better Homes and Gardens</td>\n      <td>0.0</td>\n      <td>eng</td>\n      <td>32</td>\n      <td>0</td>\n      <td>1.0</td>\n      <td>1989</td>\n      <td>3</td>\n    </tr>\n    <tr>\n      <th>42758</th>\n      <td>The Fantastic Vampire: Studies in the Children...</td>\n      <td>James Craig Holte</td>\n      <td>0.0</td>\n      <td>eng</td>\n      <td>176</td>\n      <td>0</td>\n      <td>0.0</td>\n      <td>2002</td>\n      <td>3</td>\n    </tr>\n    <tr>\n      <th>44705</th>\n      <td>The Leadership Challenge: Skills for Taking Ch...</td>\n      <td>Warren G. Bennis</td>\n      <td>0.0</td>\n      <td>eng</td>\n      <td>60</td>\n      <td>0</td>\n      <td>0.0</td>\n      <td>1985</td>\n      <td>12</td>\n    </tr>\n    <tr>\n      <th>45259</th>\n      <td>Anthony Thwaite: In Conversation With Peter Da...</td>\n      <td>Peter  Dale</td>\n      <td>0.0</td>\n      <td>eng</td>\n      <td>96</td>\n      <td>0</td>\n      <td>0.0</td>\n      <td>1999</td>\n      <td>12</td>\n    </tr>\n  </tbody>\n</table>\n<p>11121 rows × 9 columns</p>\n</div>"
     },
     "execution_count": 36,
     "metadata": {},
     "output_type": "execute_result"
    }
   ],
   "source": [
    "# Replace the \"title\" column with \"new_title\" and drop the colum\n",
    "books_df.loc[:,\"title\"]= books_df.loc[:,\"New_title\"].apply(Update_strings)\n",
    "books_df = books_df.drop([\"New_title\"],axis=1)\n",
    "books_df"
   ]
  },
  {
   "cell_type": "markdown",
   "id": "f210f119",
   "metadata": {},
   "source": [
    "#### 2. Exploratory Analysis of the Data"
   ]
  },
  {
   "cell_type": "code",
   "execution_count": 37,
   "id": "e659c0c7",
   "metadata": {
    "ExecuteTime": {
     "end_time": "2024-05-27T08:06:50.522418800Z",
     "start_time": "2024-05-27T08:06:48.905961500Z"
    }
   },
   "outputs": [
    {
     "data": {
      "text/plain": "<Figure size 640x480 with 1 Axes>",
      "image/png": "[encoded data removed]"
     },
     "metadata": {},
     "output_type": "display_data"
    }
   ],
   "source": [
    "# Ratings distribution\n",
    "sns.kdeplot(books_df['average_rating'], fill=True) # Replace shade with fill\n",
    "plt.title('Rating Distribution\\n')\n",
    "plt.xlabel('Rating')\n",
    "plt.ylabel('Frequency')\n",
    "plt.show() # This will display the plot\n"
   ]
  },
  {
   "cell_type": "code",
   "execution_count": 38,
   "id": "54a1cc16",
   "metadata": {
    "ExecuteTime": {
     "end_time": "2024-05-27T08:06:50.927768800Z",
     "start_time": "2024-05-27T08:06:49.415218100Z"
    }
   },
   "outputs": [
    {
     "data": {
      "text/plain": "Text(0, 0.5, 'Frequency')"
     },
     "execution_count": 38,
     "metadata": {},
     "output_type": "execute_result"
    },
    {
     "data": {
      "text/plain": "<Figure size 640x480 with 1 Axes>",
      "image/png": "[encoded data removed]"
     },
     "metadata": {},
     "output_type": "display_data"
    }
   ],
   "source": [
    "# Top 10 Counts average ratings\n",
    "sns.barplot(x=books_df['average_rating'].value_counts().head(10).index,y=books_df['average_rating'].value_counts().head(10))\n",
    "plt.title('Number of Books Each Rating Received\\n')\n",
    "plt.xlabel('Average Ratings')\n",
    "plt.ylabel('Frequency')\n",
    "# plt.xticks(rotation=45)"
   ]
  },
  {
   "cell_type": "markdown",
   "source": [
    "### Top 4 Languages"
   ],
   "metadata": {
    "collapsed": false
   },
   "id": "ef2fc89ab9357ed1"
  },
  {
   "cell_type": "code",
   "execution_count": 39,
   "id": "54e85e01",
   "metadata": {
    "ExecuteTime": {
     "end_time": "2024-05-27T08:06:51.191696200Z",
     "start_time": "2024-05-27T08:06:49.700372700Z"
    }
   },
   "outputs": [
    {
     "data": {
      "text/plain": "<matplotlib.legend.Legend at 0x16b7a18f250>"
     },
     "execution_count": 39,
     "metadata": {},
     "output_type": "execute_result"
    },
    {
     "data": {
      "text/plain": "<Figure size 500x500 with 1 Axes>",
      "image/png": "[encoded data removed]"
     },
     "metadata": {},
     "output_type": "display_data"
    }
   ],
   "source": [
    "books_df['language_code'].value_counts().head(4).plot(kind = 'pie', autopct='%1.2f%%', figsize=(5, 5)).legend()\n"
   ]
  },
  {
   "cell_type": "code",
   "execution_count": 40,
   "id": "4f6016fa",
   "metadata": {
    "ExecuteTime": {
     "end_time": "2024-05-27T08:06:51.751233500Z",
     "start_time": "2024-05-27T08:06:49.956327Z"
    }
   },
   "outputs": [
    {
     "data": {
      "text/plain": "                                                  title  average_rating\n960                        Bill Gates: Computer Legend              5.0\n1201  Bulgakov's the Master and Margarita: The Text ...             5.0\n1544  Colossians and Philemon: A Critical and Exeget...             5.0\n1560                            Comoediae 1: Acharenses             5.0\n1875  Delwau Duon: Peintiadau Nicholas Evans = Symph...             5.0\n2465         Fanning the Flame: Bible Cross and Mission             5.0\n3188  His Princess Devotional: A Royal Encounter Wit...             5.0\n4100  Literature Circle Guide: Bridge to Terabithia:...             5.0\n4509                                 Middlesex Borough              5.0\n5003  Oliver Wendell Holmes in Paris: Medicine Theol...             5.0",
      "text/html": "<div>\n<style scoped>\n    .dataframe tbody tr th:only-of-type {\n        vertical-align: middle;\n    }\n\n    .dataframe tbody tr th {\n        vertical-align: top;\n    }\n\n    .dataframe thead th {\n        text-align: right;\n    }\n</style>\n<table border=\"1\" class=\"dataframe\">\n  <thead>\n    <tr style=\"text-align: right;\">\n      <th></th>\n      <th>title</th>\n      <th>average_rating</th>\n    </tr>\n  </thead>\n  <tbody>\n    <tr>\n      <th>960</th>\n      <td>Bill Gates: Computer Legend</td>\n      <td>5.0</td>\n    </tr>\n    <tr>\n      <th>1201</th>\n      <td>Bulgakov's the Master and Margarita: The Text ...</td>\n      <td>5.0</td>\n    </tr>\n    <tr>\n      <th>1544</th>\n      <td>Colossians and Philemon: A Critical and Exeget...</td>\n      <td>5.0</td>\n    </tr>\n    <tr>\n      <th>1560</th>\n      <td>Comoediae 1: Acharenses</td>\n      <td>5.0</td>\n    </tr>\n    <tr>\n      <th>1875</th>\n      <td>Delwau Duon: Peintiadau Nicholas Evans = Symph...</td>\n      <td>5.0</td>\n    </tr>\n    <tr>\n      <th>2465</th>\n      <td>Fanning the Flame: Bible Cross and Mission</td>\n      <td>5.0</td>\n    </tr>\n    <tr>\n      <th>3188</th>\n      <td>His Princess Devotional: A Royal Encounter Wit...</td>\n      <td>5.0</td>\n    </tr>\n    <tr>\n      <th>4100</th>\n      <td>Literature Circle Guide: Bridge to Terabithia:...</td>\n      <td>5.0</td>\n    </tr>\n    <tr>\n      <th>4509</th>\n      <td>Middlesex Borough</td>\n      <td>5.0</td>\n    </tr>\n    <tr>\n      <th>5003</th>\n      <td>Oliver Wendell Holmes in Paris: Medicine Theol...</td>\n      <td>5.0</td>\n    </tr>\n  </tbody>\n</table>\n</div>"
     },
     "execution_count": 40,
     "metadata": {},
     "output_type": "execute_result"
    }
   ],
   "source": [
    "# Find mean(average_rating) from dataframe books_df with group by \"title\" \n",
    "title_avg_rat_df = books_df.groupby([\"title\"])[\"average_rating\"].mean()\n",
    "# Convert the groupby result into a dataframe\n",
    "title_df = title_avg_rat_df.to_frame().reset_index()\n",
    "# Order by title and average_rating\n",
    "title_df.sort_values([\"average_rating\",\"title\"],ascending=[False,True]).head(10)"
   ]
  },
  {
   "cell_type": "code",
   "execution_count": 41,
   "id": "61cb6afb",
   "metadata": {
    "ExecuteTime": {
     "end_time": "2024-05-27T08:06:51.997105300Z",
     "start_time": "2024-05-27T08:06:50.034722600Z"
    }
   },
   "outputs": [
    {
     "data": {
      "text/plain": "<Axes: xlabel='average_rating', ylabel='title'>"
     },
     "execution_count": 41,
     "metadata": {},
     "output_type": "execute_result"
    },
    {
     "data": {
      "text/plain": "<Figure size 640x480 with 1 Axes>",
      "image/png": "[encoded data removed]"
     },
     "metadata": {},
     "output_type": "display_data"
    }
   ],
   "source": [
    "# Sketch the table above in an histogram\n",
    "title_top_rating = title_df.nlargest(10, ['average_rating']).set_index('title')['average_rating']\n",
    "sns.barplot(x=title_top_rating, y=title_top_rating.index)"
   ]
  },
  {
   "cell_type": "markdown",
   "source": [
    "### Top 5 Authors"
   ],
   "metadata": {
    "collapsed": false
   },
   "id": "a4de8aa7ff962e6"
  },
  {
   "cell_type": "code",
   "execution_count": 42,
   "id": "44cf8a11",
   "metadata": {
    "ExecuteTime": {
     "end_time": "2024-05-27T08:06:52.154694200Z",
     "start_time": "2024-05-27T08:06:50.394044600Z"
    }
   },
   "outputs": [
    {
     "data": {
      "text/plain": "Text(0.5, 0, 'Total Ratings')"
     },
     "execution_count": 42,
     "metadata": {},
     "output_type": "execute_result"
    },
    {
     "data": {
      "text/plain": "<Figure size 640x480 with 1 Axes>",
      "image/png": "[encoded data removed]"
     },
     "metadata": {},
     "output_type": "display_data"
    }
   ],
   "source": [
    "authors = books_df.nlargest(5, ['ratings_count']).set_index('authors')\n",
    "sns.barplot(y=authors['ratings_count'], x=authors.index, errorbar=None, hue=authors['title']) \n",
    "plt.xlabel('Total Ratings')"
   ]
  },
  {
   "cell_type": "code",
   "execution_count": 43,
   "id": "762319a0",
   "metadata": {
    "ExecuteTime": {
     "end_time": "2024-05-27T08:06:53.438562200Z",
     "start_time": "2024-05-27T08:06:50.723952200Z"
    }
   },
   "outputs": [
    {
     "data": {
      "text/plain": "<Figure size 606.361x500 with 1 Axes>",
      "image/png": "[encoded data removed]"
     },
     "metadata": {},
     "output_type": "display_data"
    }
   ],
   "source": [
    "# Visualize the relationship between Average_rating and num_pages with respect to the language code\n",
    "df_lang=books_df.loc[(books_df['language_code'] == 'eng') | (books_df['language_code'] == 'fre') | (books_df['language_code'] == 'spa') | (books_df['language_code'] == 'ger')]\n",
    "\n",
    "sns.lmplot(x=\"average_rating\", y=\"ratings_count\",hue = \"language_code\",data=df_lang);"
   ]
  },
  {
   "cell_type": "markdown",
   "id": "5f1a6509",
   "metadata": {},
   "source": [
    "#### 3. Model Training and Evaluation"
   ]
  },
  {
   "cell_type": "markdown",
   "id": "a369338f",
   "metadata": {},
   "source": [
    "##### Transforming categorical data to numeric"
   ]
  },
  {
   "cell_type": "code",
   "execution_count": 44,
   "id": "abd19828",
   "metadata": {
    "ExecuteTime": {
     "end_time": "2024-05-27T08:06:53.451679700Z",
     "start_time": "2024-05-27T08:06:52.722185900Z"
    }
   },
   "outputs": [],
   "source": [
    "# Remove titles that are non ASCII characters\n",
    "books_df = books_df.loc[~((books_df['title'].str.contains(r'[^\\x00-\\x7F]')) & ((books_df['language_code'] == 'jpn') | (books_df['language_code'] == 'zho')))]"
   ]
  },
  {
   "cell_type": "code",
   "execution_count": 45,
   "id": "eac035b2",
   "metadata": {
    "ExecuteTime": {
     "end_time": "2024-05-27T08:06:53.574122500Z",
     "start_time": "2024-05-27T08:06:52.739581500Z"
    }
   },
   "outputs": [],
   "source": [
    "# Select the top 4 counts for \"language_code\"\n",
    "df_processed = books_df.loc[(books_df['language_code'] == 'eng') | (books_df['language_code'] == 'fre') | (books_df['language_code'] == 'spa') | (books_df['language_code'] == 'ger')]"
   ]
  },
  {
   "cell_type": "code",
   "execution_count": 46,
   "id": "15ff263e",
   "metadata": {
    "ExecuteTime": {
     "end_time": "2024-05-27T08:06:53.578120700Z",
     "start_time": "2024-05-27T08:06:52.753052100Z"
    }
   },
   "outputs": [],
   "source": [
    "# this is a way to explicit the \"language_code\" column by transforming it to 4 columns corresponding to each of its values\n",
    "# this is known as encoding\n",
    "df_processed = pd.concat([df_processed,pd.get_dummies(df_processed.language_code)],axis=1).drop(columns=\"language_code\")"
   ]
  },
  {
   "cell_type": "code",
   "execution_count": 47,
   "id": "1d157f40",
   "metadata": {
    "ExecuteTime": {
     "end_time": "2024-05-27T08:06:53.615509300Z",
     "start_time": "2024-05-27T08:06:52.762438800Z"
    }
   },
   "outputs": [
    {
     "data": {
      "text/plain": "                                                    title  \\\nbookID                                                      \n2560                    Willem de Kooning: Late Paintings   \n2843    Literature Circle Guide: Bridge to Terabithia:...   \n4287                                   Middlesex Borough    \n14741   Zone of the Enders: The 2nd Runner Official St...   \n17224   The Diamond Color Meditation: Color Pathway to...   \n...                                                   ...   \n37467   Classroom Interactions as Cross-Cultural Encou...   \n41044                                       Day and Night   \n42758   The Fantastic Vampire: Studies in the Children...   \n44705   The Leadership Challenge: Skills for Taking Ch...   \n45259   Anthony Thwaite: In Conversation With Peter Da...   \n\n                                     authors  average_rating  num_pages  \\\nbookID                                                                    \n2560                         Julie Sylvester             5.0         83   \n2843                          Tara MacCarthy             5.0         32   \n4287    Middlesex Borough Heritage Committee             5.0        128   \n14741                             Tim Bogenn             5.0        128   \n17224                          John  Diamond             5.0         74   \n...                                      ...             ...        ...   \n37467                       Jasmine C.M. Luk             0.0        241   \n41044               Better Homes and Gardens             0.0         32   \n42758                      James Craig Holte             0.0        176   \n44705                       Warren G. Bennis             0.0         60   \n45259                            Peter  Dale             0.0         96   \n\n        ratings_count  text_reviews_count  year  month  eng  fre  ger  spa  \nbookID                                                                      \n2560                1                 0.0  2006      9    1    0    0    0  \n2843                4                 1.0  2002      1    1    0    0    0  \n4287                2                 0.0  2003      3    1    0    0    0  \n14741               2                 0.0  2003      3    1    0    0    0  \n17224               5                 3.0  2006      2    1    0    0    0  \n...               ...                 ...   ...    ...  ...  ...  ...  ...  \n37467               0                 0.0  2006      8    1    0    0    0  \n41044               0                 1.0  1989      3    1    0    0    0  \n42758               0                 0.0  2002      3    1    0    0    0  \n44705               0                 0.0  1985     12    1    0    0    0  \n45259               0                 0.0  1999     12    1    0    0    0  \n\n[10996 rows x 12 columns]",
      "text/html": "<div>\n<style scoped>\n    .dataframe tbody tr th:only-of-type {\n        vertical-align: middle;\n    }\n\n    .dataframe tbody tr th {\n        vertical-align: top;\n    }\n\n    .dataframe thead th {\n        text-align: right;\n    }\n</style>\n<table border=\"1\" class=\"dataframe\">\n  <thead>\n    <tr style=\"text-align: right;\">\n      <th></th>\n      <th>title</th>\n      <th>authors</th>\n      <th>average_rating</th>\n      <th>num_pages</th>\n      <th>ratings_count</th>\n      <th>text_reviews_count</th>\n      <th>year</th>\n      <th>month</th>\n      <th>eng</th>\n      <th>fre</th>\n      <th>ger</th>\n      <th>spa</th>\n    </tr>\n    <tr>\n      <th>bookID</th>\n      <th></th>\n      <th></th>\n      <th></th>\n      <th></th>\n      <th></th>\n      <th></th>\n      <th></th>\n      <th></th>\n      <th></th>\n      <th></th>\n      <th></th>\n      <th></th>\n    </tr>\n  </thead>\n  <tbody>\n    <tr>\n      <th>2560</th>\n      <td>Willem de Kooning: Late Paintings</td>\n      <td>Julie Sylvester</td>\n      <td>5.0</td>\n      <td>83</td>\n      <td>1</td>\n      <td>0.0</td>\n      <td>2006</td>\n      <td>9</td>\n      <td>1</td>\n      <td>0</td>\n      <td>0</td>\n      <td>0</td>\n    </tr>\n    <tr>\n      <th>2843</th>\n      <td>Literature Circle Guide: Bridge to Terabithia:...</td>\n      <td>Tara MacCarthy</td>\n      <td>5.0</td>\n      <td>32</td>\n      <td>4</td>\n      <td>1.0</td>\n      <td>2002</td>\n      <td>1</td>\n      <td>1</td>\n      <td>0</td>\n      <td>0</td>\n      <td>0</td>\n    </tr>\n    <tr>\n      <th>4287</th>\n      <td>Middlesex Borough</td>\n      <td>Middlesex Borough Heritage Committee</td>\n      <td>5.0</td>\n      <td>128</td>\n      <td>2</td>\n      <td>0.0</td>\n      <td>2003</td>\n      <td>3</td>\n      <td>1</td>\n      <td>0</td>\n      <td>0</td>\n      <td>0</td>\n    </tr>\n    <tr>\n      <th>14741</th>\n      <td>Zone of the Enders: The 2nd Runner Official St...</td>\n      <td>Tim Bogenn</td>\n      <td>5.0</td>\n      <td>128</td>\n      <td>2</td>\n      <td>0.0</td>\n      <td>2003</td>\n      <td>3</td>\n      <td>1</td>\n      <td>0</td>\n      <td>0</td>\n      <td>0</td>\n    </tr>\n    <tr>\n      <th>17224</th>\n      <td>The Diamond Color Meditation: Color Pathway to...</td>\n      <td>John  Diamond</td>\n      <td>5.0</td>\n      <td>74</td>\n      <td>5</td>\n      <td>3.0</td>\n      <td>2006</td>\n      <td>2</td>\n      <td>1</td>\n      <td>0</td>\n      <td>0</td>\n      <td>0</td>\n    </tr>\n    <tr>\n      <th>...</th>\n      <td>...</td>\n      <td>...</td>\n      <td>...</td>\n      <td>...</td>\n      <td>...</td>\n      <td>...</td>\n      <td>...</td>\n      <td>...</td>\n      <td>...</td>\n      <td>...</td>\n      <td>...</td>\n      <td>...</td>\n    </tr>\n    <tr>\n      <th>37467</th>\n      <td>Classroom Interactions as Cross-Cultural Encou...</td>\n      <td>Jasmine C.M. Luk</td>\n      <td>0.0</td>\n      <td>241</td>\n      <td>0</td>\n      <td>0.0</td>\n      <td>2006</td>\n      <td>8</td>\n      <td>1</td>\n      <td>0</td>\n      <td>0</td>\n      <td>0</td>\n    </tr>\n    <tr>\n      <th>41044</th>\n      <td>Day and Night</td>\n      <td>Better Homes and Gardens</td>\n      <td>0.0</td>\n      <td>32</td>\n      <td>0</td>\n      <td>1.0</td>\n      <td>1989</td>\n      <td>3</td>\n      <td>1</td>\n      <td>0</td>\n      <td>0</td>\n      <td>0</td>\n    </tr>\n    <tr>\n      <th>42758</th>\n      <td>The Fantastic Vampire: Studies in the Children...</td>\n      <td>James Craig Holte</td>\n      <td>0.0</td>\n      <td>176</td>\n      <td>0</td>\n      <td>0.0</td>\n      <td>2002</td>\n      <td>3</td>\n      <td>1</td>\n      <td>0</td>\n      <td>0</td>\n      <td>0</td>\n    </tr>\n    <tr>\n      <th>44705</th>\n      <td>The Leadership Challenge: Skills for Taking Ch...</td>\n      <td>Warren G. Bennis</td>\n      <td>0.0</td>\n      <td>60</td>\n      <td>0</td>\n      <td>0.0</td>\n      <td>1985</td>\n      <td>12</td>\n      <td>1</td>\n      <td>0</td>\n      <td>0</td>\n      <td>0</td>\n    </tr>\n    <tr>\n      <th>45259</th>\n      <td>Anthony Thwaite: In Conversation With Peter Da...</td>\n      <td>Peter  Dale</td>\n      <td>0.0</td>\n      <td>96</td>\n      <td>0</td>\n      <td>0.0</td>\n      <td>1999</td>\n      <td>12</td>\n      <td>1</td>\n      <td>0</td>\n      <td>0</td>\n      <td>0</td>\n    </tr>\n  </tbody>\n</table>\n<p>10996 rows × 12 columns</p>\n</div>"
     },
     "execution_count": 47,
     "metadata": {},
     "output_type": "execute_result"
    }
   ],
   "source": [
    "# View the dataframe to be used for machine learning\n",
    "# It has 10996 records and 12 columns\n",
    "df_processed"
   ]
  },
  {
   "cell_type": "code",
   "execution_count": 48,
   "id": "82f3c7be",
   "metadata": {
    "ExecuteTime": {
     "end_time": "2024-05-27T08:06:53.641749500Z",
     "start_time": "2024-05-27T08:06:52.778202600Z"
    }
   },
   "outputs": [],
   "source": [
    "# convert 'title' column to numeric\n",
    "df_processed['title'] = pd.factorize(df_processed['title'])[0]"
   ]
  },
  {
   "cell_type": "code",
   "execution_count": 49,
   "id": "fe186b5b",
   "metadata": {
    "ExecuteTime": {
     "end_time": "2024-05-27T08:06:53.645845300Z",
     "start_time": "2024-05-27T08:06:52.787941300Z"
    }
   },
   "outputs": [],
   "source": [
    "# convert 'authors' column to numeric\n",
    "df_processed['authors'] = pd.factorize(df_processed['authors'])[0]"
   ]
  },
  {
   "cell_type": "code",
   "execution_count": 50,
   "id": "33c29ee2",
   "metadata": {
    "ExecuteTime": {
     "end_time": "2024-05-27T08:06:53.666844Z",
     "start_time": "2024-05-27T08:06:52.791916900Z"
    }
   },
   "outputs": [
    {
     "data": {
      "text/plain": "        title  authors  average_rating  num_pages  ratings_count  \\\nbookID                                                             \n2560        0        0             5.0         83              1   \n2843        1        1             5.0         32              4   \n4287        2        2             5.0        128              2   \n14741       3        3             5.0        128              2   \n17224       4        4             5.0         74              5   \n...       ...      ...             ...        ...            ...   \n37467   10137     4203             0.0        241              0   \n41044   10138     4204             0.0         32              0   \n42758   10139     4205             0.0        176              0   \n44705   10140     4206             0.0         60              0   \n45259   10141     4207             0.0         96              0   \n\n        text_reviews_count  year  month  eng  fre  ger  spa  \nbookID                                                       \n2560                   0.0  2006      9    1    0    0    0  \n2843                   1.0  2002      1    1    0    0    0  \n4287                   0.0  2003      3    1    0    0    0  \n14741                  0.0  2003      3    1    0    0    0  \n17224                  3.0  2006      2    1    0    0    0  \n...                    ...   ...    ...  ...  ...  ...  ...  \n37467                  0.0  2006      8    1    0    0    0  \n41044                  1.0  1989      3    1    0    0    0  \n42758                  0.0  2002      3    1    0    0    0  \n44705                  0.0  1985     12    1    0    0    0  \n45259                  0.0  1999     12    1    0    0    0  \n\n[10996 rows x 12 columns]",
      "text/html": "<div>\n<style scoped>\n    .dataframe tbody tr th:only-of-type {\n        vertical-align: middle;\n    }\n\n    .dataframe tbody tr th {\n        vertical-align: top;\n    }\n\n    .dataframe thead th {\n        text-align: right;\n    }\n</style>\n<table border=\"1\" class=\"dataframe\">\n  <thead>\n    <tr style=\"text-align: right;\">\n      <th></th>\n      <th>title</th>\n      <th>authors</th>\n      <th>average_rating</th>\n      <th>num_pages</th>\n      <th>ratings_count</th>\n      <th>text_reviews_count</th>\n      <th>year</th>\n      <th>month</th>\n      <th>eng</th>\n      <th>fre</th>\n      <th>ger</th>\n      <th>spa</th>\n    </tr>\n    <tr>\n      <th>bookID</th>\n      <th></th>\n      <th></th>\n      <th></th>\n      <th></th>\n      <th></th>\n      <th></th>\n      <th></th>\n      <th></th>\n      <th></th>\n      <th></th>\n      <th></th>\n      <th></th>\n    </tr>\n  </thead>\n  <tbody>\n    <tr>\n      <th>2560</th>\n      <td>0</td>\n      <td>0</td>\n      <td>5.0</td>\n      <td>83</td>\n      <td>1</td>\n      <td>0.0</td>\n      <td>2006</td>\n      <td>9</td>\n      <td>1</td>\n      <td>0</td>\n      <td>0</td>\n      <td>0</td>\n    </tr>\n    <tr>\n      <th>2843</th>\n      <td>1</td>\n      <td>1</td>\n      <td>5.0</td>\n      <td>32</td>\n      <td>4</td>\n      <td>1.0</td>\n      <td>2002</td>\n      <td>1</td>\n      <td>1</td>\n      <td>0</td>\n      <td>0</td>\n      <td>0</td>\n    </tr>\n    <tr>\n      <th>4287</th>\n      <td>2</td>\n      <td>2</td>\n      <td>5.0</td>\n      <td>128</td>\n      <td>2</td>\n      <td>0.0</td>\n      <td>2003</td>\n      <td>3</td>\n      <td>1</td>\n      <td>0</td>\n      <td>0</td>\n      <td>0</td>\n    </tr>\n    <tr>\n      <th>14741</th>\n      <td>3</td>\n      <td>3</td>\n      <td>5.0</td>\n      <td>128</td>\n      <td>2</td>\n      <td>0.0</td>\n      <td>2003</td>\n      <td>3</td>\n      <td>1</td>\n      <td>0</td>\n      <td>0</td>\n      <td>0</td>\n    </tr>\n    <tr>\n      <th>17224</th>\n      <td>4</td>\n      <td>4</td>\n      <td>5.0</td>\n      <td>74</td>\n      <td>5</td>\n      <td>3.0</td>\n      <td>2006</td>\n      <td>2</td>\n      <td>1</td>\n      <td>0</td>\n      <td>0</td>\n      <td>0</td>\n    </tr>\n    <tr>\n      <th>...</th>\n      <td>...</td>\n      <td>...</td>\n      <td>...</td>\n      <td>...</td>\n      <td>...</td>\n      <td>...</td>\n      <td>...</td>\n      <td>...</td>\n      <td>...</td>\n      <td>...</td>\n      <td>...</td>\n      <td>...</td>\n    </tr>\n    <tr>\n      <th>37467</th>\n      <td>10137</td>\n      <td>4203</td>\n      <td>0.0</td>\n      <td>241</td>\n      <td>0</td>\n      <td>0.0</td>\n      <td>2006</td>\n      <td>8</td>\n      <td>1</td>\n      <td>0</td>\n      <td>0</td>\n      <td>0</td>\n    </tr>\n    <tr>\n      <th>41044</th>\n      <td>10138</td>\n      <td>4204</td>\n      <td>0.0</td>\n      <td>32</td>\n      <td>0</td>\n      <td>1.0</td>\n      <td>1989</td>\n      <td>3</td>\n      <td>1</td>\n      <td>0</td>\n      <td>0</td>\n      <td>0</td>\n    </tr>\n    <tr>\n      <th>42758</th>\n      <td>10139</td>\n      <td>4205</td>\n      <td>0.0</td>\n      <td>176</td>\n      <td>0</td>\n      <td>0.0</td>\n      <td>2002</td>\n      <td>3</td>\n      <td>1</td>\n      <td>0</td>\n      <td>0</td>\n      <td>0</td>\n    </tr>\n    <tr>\n      <th>44705</th>\n      <td>10140</td>\n      <td>4206</td>\n      <td>0.0</td>\n      <td>60</td>\n      <td>0</td>\n      <td>0.0</td>\n      <td>1985</td>\n      <td>12</td>\n      <td>1</td>\n      <td>0</td>\n      <td>0</td>\n      <td>0</td>\n    </tr>\n    <tr>\n      <th>45259</th>\n      <td>10141</td>\n      <td>4207</td>\n      <td>0.0</td>\n      <td>96</td>\n      <td>0</td>\n      <td>0.0</td>\n      <td>1999</td>\n      <td>12</td>\n      <td>1</td>\n      <td>0</td>\n      <td>0</td>\n      <td>0</td>\n    </tr>\n  </tbody>\n</table>\n<p>10996 rows × 12 columns</p>\n</div>"
     },
     "execution_count": 50,
     "metadata": {},
     "output_type": "execute_result"
    }
   ],
   "source": [
    "# View the dataframe again now all columns are numeric which is good for the model to be trained.\n",
    "df_processed"
   ]
  },
  {
   "cell_type": "code",
   "execution_count": 51,
   "id": "39e40b5a",
   "metadata": {
    "ExecuteTime": {
     "end_time": "2024-05-27T08:06:53.696842500Z",
     "start_time": "2024-05-27T08:06:52.808924300Z"
    }
   },
   "outputs": [],
   "source": [
    "# Copy the datafram to csv\n",
    "df_processed.to_csv('book_processed_cleaned.csv', index=False)\n",
    "books_df.to_csv('books_df_cleaned.csv', index=False)"
   ]
  },
  {
   "cell_type": "markdown",
   "id": "e42c8818",
   "metadata": {},
   "source": [
    "#####  Split the data into Train and Test "
   ]
  },
  {
   "cell_type": "code",
   "execution_count": 52,
   "id": "77cadff0",
   "metadata": {
    "ExecuteTime": {
     "end_time": "2024-05-27T08:06:53.702846300Z",
     "start_time": "2024-05-27T08:06:52.912075500Z"
    }
   },
   "outputs": [],
   "source": [
    "# Split the data into train and test for the model\n",
    "from sklearn.model_selection import train_test_split "
   ]
  },
  {
   "cell_type": "code",
   "execution_count": 53,
   "id": "acebc70c",
   "metadata": {
    "ExecuteTime": {
     "end_time": "2024-05-27T08:06:53.724913300Z",
     "start_time": "2024-05-27T08:06:53.325670600Z"
    }
   },
   "outputs": [],
   "source": [
    "# the size of the test is 20% and the train is 80%\n",
    "df_train, df_test = train_test_split(df_processed,test_size = 0.2)"
   ]
  },
  {
   "cell_type": "code",
   "execution_count": 54,
   "id": "d380c188",
   "metadata": {
    "ExecuteTime": {
     "end_time": "2024-05-27T08:06:53.750917100Z",
     "start_time": "2024-05-27T08:06:53.335984800Z"
    }
   },
   "outputs": [
    {
     "data": {
      "text/plain": "10996"
     },
     "execution_count": 54,
     "metadata": {},
     "output_type": "execute_result"
    }
   ],
   "source": [
    "# Total records for dataset\n",
    "len(df_processed)"
   ]
  },
  {
   "cell_type": "code",
   "execution_count": 55,
   "id": "7fdcfb62",
   "metadata": {
    "ExecuteTime": {
     "end_time": "2024-05-27T08:06:53.795841Z",
     "start_time": "2024-05-27T08:06:53.409660100Z"
    }
   },
   "outputs": [
    {
     "data": {
      "text/plain": "8796"
     },
     "execution_count": 55,
     "metadata": {},
     "output_type": "execute_result"
    }
   ],
   "source": [
    "# Total records for training the model\n",
    "len(df_train)"
   ]
  },
  {
   "cell_type": "code",
   "execution_count": 56,
   "id": "f90dcdb6",
   "metadata": {
    "ExecuteTime": {
     "end_time": "2024-05-27T08:06:54.255019200Z",
     "start_time": "2024-05-27T08:06:53.792775200Z"
    }
   },
   "outputs": [
    {
     "data": {
      "text/plain": "2200"
     },
     "execution_count": 56,
     "metadata": {},
     "output_type": "execute_result"
    }
   ],
   "source": [
    "# Total records for testing the model\n",
    "len(df_test)"
   ]
  },
  {
   "cell_type": "code",
   "execution_count": 57,
   "id": "bb73d66d",
   "metadata": {
    "ExecuteTime": {
     "end_time": "2024-05-27T08:06:54.470507300Z",
     "start_time": "2024-05-27T08:06:54.228397200Z"
    }
   },
   "outputs": [
    {
     "name": "stdout",
     "output_type": "stream",
     "text": [
      "3.9319516187704617\n",
      "3.9320156889495226\n",
      "3.9316954545454545\n"
     ]
    }
   ],
   "source": [
    "# Check the data is ramdomly selected\n",
    "print(df_processed.average_rating.mean())\n",
    "print(df_train.average_rating.mean())\n",
    "print(df_test.average_rating.mean())"
   ]
  },
  {
   "cell_type": "code",
   "execution_count": 58,
   "id": "2d591e8d",
   "metadata": {
    "ExecuteTime": {
     "end_time": "2024-05-27T08:06:54.861731Z",
     "start_time": "2024-05-27T08:06:54.449019600Z"
    }
   },
   "outputs": [
    {
     "data": {
      "text/plain": "Index(['title', 'authors', 'average_rating', 'num_pages', 'ratings_count',\n       'text_reviews_count', 'year', 'month', 'eng', 'fre', 'ger', 'spa'],\n      dtype='object')"
     },
     "execution_count": 58,
     "metadata": {},
     "output_type": "execute_result"
    }
   ],
   "source": [
    "# Review the features and the target to be used for the machine learning\n",
    "df_train.columns"
   ]
  },
  {
   "cell_type": "code",
   "execution_count": 59,
   "id": "03d191f4",
   "metadata": {
    "ExecuteTime": {
     "end_time": "2024-05-27T08:06:55.007451Z",
     "start_time": "2024-05-27T08:06:54.811212300Z"
    }
   },
   "outputs": [],
   "source": [
    "#get the values of the columns for the training data\n",
    "X_train = df_train.loc[:,['title', 'authors', 'num_pages', 'ratings_count', 'text_reviews_count','year','month','eng','fre','ger','spa']].values\n",
    "y_train = df_train.average_rating.values.round(1)"
   ]
  },
  {
   "cell_type": "code",
   "execution_count": 60,
   "id": "72128f15",
   "metadata": {
    "ExecuteTime": {
     "end_time": "2024-05-27T08:06:55.173675400Z",
     "start_time": "2024-05-27T08:06:54.978055700Z"
    }
   },
   "outputs": [
    {
     "name": "stdout",
     "output_type": "stream",
     "text": [
      "[[7866. 2728.  512. ...    0.    0.    0.]\n",
      " [1963.   24.  180. ...    0.    0.    0.]\n",
      " [1528.   74.  180. ...    0.    0.    0.]\n",
      " ...\n",
      " [ 896.   64.   57. ...    0.    0.    0.]\n",
      " [6507. 2928.  323. ...    0.    0.    0.]\n",
      " [5469. 2562.  260. ...    0.    0.    0.]]\n"
     ]
    }
   ],
   "source": [
    "print(X_train)"
   ]
  },
  {
   "cell_type": "code",
   "execution_count": 61,
   "id": "eac3b456",
   "metadata": {
    "ExecuteTime": {
     "end_time": "2024-05-27T08:06:55.246054100Z",
     "start_time": "2024-05-27T08:06:55.147848500Z"
    }
   },
   "outputs": [
    {
     "name": "stdout",
     "output_type": "stream",
     "text": [
      "[3.8 4.2 4.2 ... 4.3 3.9 3.9]\n"
     ]
    }
   ],
   "source": [
    "print(y_train)"
   ]
  },
  {
   "cell_type": "code",
   "execution_count": 62,
   "id": "ffb8e426",
   "metadata": {
    "ExecuteTime": {
     "end_time": "2024-05-27T08:06:55.439487200Z",
     "start_time": "2024-05-27T08:06:55.247841100Z"
    }
   },
   "outputs": [],
   "source": [
    "# get the values of the columns for the test data\n",
    "X_test = df_test.loc[:,['title', 'authors', 'num_pages', 'ratings_count', 'text_reviews_count','year','month','eng','fre','ger','spa']].values\n",
    "y_test = df_test.average_rating.values.round(1)"
   ]
  },
  {
   "cell_type": "code",
   "execution_count": 63,
   "id": "ae924ecd",
   "metadata": {
    "ExecuteTime": {
     "end_time": "2024-05-27T08:06:55.538136600Z",
     "start_time": "2024-05-27T08:06:55.404139Z"
    }
   },
   "outputs": [
    {
     "name": "stdout",
     "output_type": "stream",
     "text": [
      "[[6224. 2832.  516. ...    0.    0.    0.]\n",
      " [ 630.  151.  233. ...    0.    0.    0.]\n",
      " [ 823.  505.  456. ...    0.    0.    0.]\n",
      " ...\n",
      " [8233. 1951.  192. ...    0.    0.    0.]\n",
      " [ 946.  448.  112. ...    0.    0.    0.]\n",
      " [3638. 1798.  128. ...    0.    0.    0.]]\n"
     ]
    }
   ],
   "source": [
    "# View the values for X_test\n",
    "print(X_test)"
   ]
  },
  {
   "cell_type": "code",
   "execution_count": 64,
   "id": "3ef3f109",
   "metadata": {
    "ExecuteTime": {
     "end_time": "2024-05-27T08:06:55.634651500Z",
     "start_time": "2024-05-27T08:06:55.537628100Z"
    }
   },
   "outputs": [
    {
     "name": "stdout",
     "output_type": "stream",
     "text": [
      "[3.9 4.4 4.3 ... 3.7 4.3 4. ]\n"
     ]
    }
   ],
   "source": [
    "# View the values y_test\n",
    "print(y_test)"
   ]
  },
  {
   "cell_type": "markdown",
   "id": "abcab44c",
   "metadata": {},
   "source": [
    "##### Training the Model"
   ]
  },
  {
   "cell_type": "code",
   "execution_count": 65,
   "id": "057543c9",
   "metadata": {
    "ExecuteTime": {
     "end_time": "2024-05-27T08:06:55.860988900Z",
     "start_time": "2024-05-27T08:06:55.591364500Z"
    }
   },
   "outputs": [],
   "source": [
    "from sklearn.linear_model import LinearRegression"
   ]
  },
  {
   "cell_type": "code",
   "execution_count": 66,
   "id": "5f1f00f0",
   "metadata": {
    "ExecuteTime": {
     "end_time": "2024-05-27T08:06:55.974934900Z",
     "start_time": "2024-05-27T08:06:55.744886200Z"
    }
   },
   "outputs": [
    {
     "data": {
      "text/plain": "LinearRegression()",
      "text/html": "<style>#sk-container-id-1 {\n  /* Definition of color scheme common for light and dark mode */\n  --sklearn-color-text: black;\n  --sklearn-color-line: gray;\n  /* Definition of color scheme for unfitted estimators */\n  --sklearn-color-unfitted-level-0: #fff5e6;\n  --sklearn-color-unfitted-level-1: #f6e4d2;\n  --sklearn-color-unfitted-level-2: #ffe0b3;\n  --sklearn-color-unfitted-level-3: chocolate;\n  /* Definition of color scheme for fitted estimators */\n  --sklearn-color-fitted-level-0: #f0f8ff;\n  --sklearn-color-fitted-level-1: #d4ebff;\n  --sklearn-color-fitted-level-2: #b3dbfd;\n  --sklearn-color-fitted-level-3: cornflowerblue;\n\n  /* Specific color for light theme */\n  --sklearn-color-text-on-default-background: var(--sg-text-color, var(--theme-code-foreground, var(--jp-content-font-color1, black)));\n  --sklearn-color-background: var(--sg-background-color, var(--theme-background, var(--jp-layout-color0, white)));\n  --sklearn-color-border-box: var(--sg-text-color, var(--theme-code-foreground, var(--jp-content-font-color1, black)));\n  --sklearn-color-icon: #696969;\n\n  @media (prefers-color-scheme: dark) {\n    /* Redefinition of color scheme for dark theme */\n    --sklearn-color-text-on-default-background: var(--sg-text-color, var(--theme-code-foreground, var(--jp-content-font-color1, white)));\n    --sklearn-color-background: var(--sg-background-color, var(--theme-background, var(--jp-layout-color0, #111)));\n    --sklearn-color-border-box: var(--sg-text-color, var(--theme-code-foreground, var(--jp-content-font-color1, white)));\n    --sklearn-color-icon: #878787;\n  }\n}\n\n#sk-container-id-1 {\n  color: var(--sklearn-color-text);\n}\n\n#sk-container-id-1 pre {\n  padding: 0;\n}\n\n#sk-container-id-1 input.sk-hidden--visually {\n  border: 0;\n  clip: rect(1px 1px 1px 1px);\n  clip: rect(1px, 1px, 1px, 1px);\n  height: 1px;\n  margin: -1px;\n  overflow: hidden;\n  padding: 0;\n  position: absolute;\n  width: 1px;\n}\n\n#sk-container-id-1 div.sk-dashed-wrapped {\n  border: 1px dashed var(--sklearn-color-line);\n  margin: 0 0.4em 0.5em 0.4em;\n  box-sizing: border-box;\n  padding-bottom: 0.4em;\n  background-color: var(--sklearn-color-background);\n}\n\n#sk-container-id-1 div.sk-container {\n  /* jupyter's `normalize.less` sets `[hidden] { display: none; }`\n     but bootstrap.min.css set `[hidden] { display: none !important; }`\n     so we also need the `!important` here to be able to override the\n     default hidden behavior on the sphinx rendered scikit-learn.org.\n     See: https://github.com/scikit-learn/scikit-learn/issues/21755 */\n  display: inline-block !important;\n  position: relative;\n}\n\n#sk-container-id-1 div.sk-text-repr-fallback {\n  display: none;\n}\n\ndiv.sk-parallel-item,\ndiv.sk-serial,\ndiv.sk-item {\n  /* draw centered vertical line to link estimators */\n  background-image: linear-gradient(var(--sklearn-color-text-on-default-background), var(--sklearn-color-text-on-default-background));\n  background-size: 2px 100%;\n  background-repeat: no-repeat;\n  background-position: center center;\n}\n\n/* Parallel-specific style estimator block */\n\n#sk-container-id-1 div.sk-parallel-item::after {\n  content: \"\";\n  width: 100%;\n  border-bottom: 2px solid var(--sklearn-color-text-on-default-background);\n  flex-grow: 1;\n}\n\n#sk-container-id-1 div.sk-parallel {\n  display: flex;\n  align-items: stretch;\n  justify-content: center;\n  background-color: var(--sklearn-color-background);\n  position: relative;\n}\n\n#sk-container-id-1 div.sk-parallel-item {\n  display: flex;\n  flex-direction: column;\n}\n\n#sk-container-id-1 div.sk-parallel-item:first-child::after {\n  align-self: flex-end;\n  width: 50%;\n}\n\n#sk-container-id-1 div.sk-parallel-item:last-child::after {\n  align-self: flex-start;\n  width: 50%;\n}\n\n#sk-container-id-1 div.sk-parallel-item:only-child::after {\n  width: 0;\n}\n\n/* Serial-specific style estimator block */\n\n#sk-container-id-1 div.sk-serial {\n  display: flex;\n  flex-direction: column;\n  align-items: center;\n  background-color: var(--sklearn-color-background);\n  padding-right: 1em;\n  padding-left: 1em;\n}\n\n\n/* Toggleable style: style used for estimator/Pipeline/ColumnTransformer box that is\nclickable and can be expanded/collapsed.\n- Pipeline and ColumnTransformer use this feature and define the default style\n- Estimators will overwrite some part of the style using the `sk-estimator` class\n*/\n\n/* Pipeline and ColumnTransformer style (default) */\n\n#sk-container-id-1 div.sk-toggleable {\n  /* Default theme specific background. It is overwritten whether we have a\n  specific estimator or a Pipeline/ColumnTransformer */\n  background-color: var(--sklearn-color-background);\n}\n\n/* Toggleable label */\n#sk-container-id-1 label.sk-toggleable__label {\n  cursor: pointer;\n  display: block;\n  width: 100%;\n  margin-bottom: 0;\n  padding: 0.5em;\n  box-sizing: border-box;\n  text-align: center;\n}\n\n#sk-container-id-1 label.sk-toggleable__label-arrow:before {\n  /* Arrow on the left of the label */\n  content: \"▸\";\n  float: left;\n  margin-right: 0.25em;\n  color: var(--sklearn-color-icon);\n}\n\n#sk-container-id-1 label.sk-toggleable__label-arrow:hover:before {\n  color: var(--sklearn-color-text);\n}\n\n/* Toggleable content - dropdown */\n\n#sk-container-id-1 div.sk-toggleable__content {\n  max-height: 0;\n  max-width: 0;\n  overflow: hidden;\n  text-align: left;\n  /* unfitted */\n  background-color: var(--sklearn-color-unfitted-level-0);\n}\n\n#sk-container-id-1 div.sk-toggleable__content.fitted {\n  /* fitted */\n  background-color: var(--sklearn-color-fitted-level-0);\n}\n\n#sk-container-id-1 div.sk-toggleable__content pre {\n  margin: 0.2em;\n  border-radius: 0.25em;\n  color: var(--sklearn-color-text);\n  /* unfitted */\n  background-color: var(--sklearn-color-unfitted-level-0);\n}\n\n#sk-container-id-1 div.sk-toggleable__content.fitted pre {\n  /* unfitted */\n  background-color: var(--sklearn-color-fitted-level-0);\n}\n\n#sk-container-id-1 input.sk-toggleable__control:checked~div.sk-toggleable__content {\n  /* Expand drop-down */\n  max-height: 200px;\n  max-width: 100%;\n  overflow: auto;\n}\n\n#sk-container-id-1 input.sk-toggleable__control:checked~label.sk-toggleable__label-arrow:before {\n  content: \"▾\";\n}\n\n/* Pipeline/ColumnTransformer-specific style */\n\n#sk-container-id-1 div.sk-label input.sk-toggleable__control:checked~label.sk-toggleable__label {\n  color: var(--sklearn-color-text);\n  background-color: var(--sklearn-color-unfitted-level-2);\n}\n\n#sk-container-id-1 div.sk-label.fitted input.sk-toggleable__control:checked~label.sk-toggleable__label {\n  background-color: var(--sklearn-color-fitted-level-2);\n}\n\n/* Estimator-specific style */\n\n/* Colorize estimator box */\n#sk-container-id-1 div.sk-estimator input.sk-toggleable__control:checked~label.sk-toggleable__label {\n  /* unfitted */\n  background-color: var(--sklearn-color-unfitted-level-2);\n}\n\n#sk-container-id-1 div.sk-estimator.fitted input.sk-toggleable__control:checked~label.sk-toggleable__label {\n  /* fitted */\n  background-color: var(--sklearn-color-fitted-level-2);\n}\n\n#sk-container-id-1 div.sk-label label.sk-toggleable__label,\n#sk-container-id-1 div.sk-label label {\n  /* The background is the default theme color */\n  color: var(--sklearn-color-text-on-default-background);\n}\n\n/* On hover, darken the color of the background */\n#sk-container-id-1 div.sk-label:hover label.sk-toggleable__label {\n  color: var(--sklearn-color-text);\n  background-color: var(--sklearn-color-unfitted-level-2);\n}\n\n/* Label box, darken color on hover, fitted */\n#sk-container-id-1 div.sk-label.fitted:hover label.sk-toggleable__label.fitted {\n  color: var(--sklearn-color-text);\n  background-color: var(--sklearn-color-fitted-level-2);\n}\n\n/* Estimator label */\n\n#sk-container-id-1 div.sk-label label {\n  font-family: monospace;\n  font-weight: bold;\n  display: inline-block;\n  line-height: 1.2em;\n}\n\n#sk-container-id-1 div.sk-label-container {\n  text-align: center;\n}\n\n/* Estimator-specific */\n#sk-container-id-1 div.sk-estimator {\n  font-family: monospace;\n  border: 1px dotted var(--sklearn-color-border-box);\n  border-radius: 0.25em;\n  box-sizing: border-box;\n  margin-bottom: 0.5em;\n  /* unfitted */\n  background-color: var(--sklearn-color-unfitted-level-0);\n}\n\n#sk-container-id-1 div.sk-estimator.fitted {\n  /* fitted */\n  background-color: var(--sklearn-color-fitted-level-0);\n}\n\n/* on hover */\n#sk-container-id-1 div.sk-estimator:hover {\n  /* unfitted */\n  background-color: var(--sklearn-color-unfitted-level-2);\n}\n\n#sk-container-id-1 div.sk-estimator.fitted:hover {\n  /* fitted */\n  background-color: var(--sklearn-color-fitted-level-2);\n}\n\n/* Specification for estimator info (e.g. \"i\" and \"?\") */\n\n/* Common style for \"i\" and \"?\" */\n\n.sk-estimator-doc-link,\na:link.sk-estimator-doc-link,\na:visited.sk-estimator-doc-link {\n  float: right;\n  font-size: smaller;\n  line-height: 1em;\n  font-family: monospace;\n  background-color: var(--sklearn-color-background);\n  border-radius: 1em;\n  height: 1em;\n  width: 1em;\n  text-decoration: none !important;\n  margin-left: 1ex;\n  /* unfitted */\n  border: var(--sklearn-color-unfitted-level-1) 1pt solid;\n  color: var(--sklearn-color-unfitted-level-1);\n}\n\n.sk-estimator-doc-link.fitted,\na:link.sk-estimator-doc-link.fitted,\na:visited.sk-estimator-doc-link.fitted {\n  /* fitted */\n  border: var(--sklearn-color-fitted-level-1) 1pt solid;\n  color: var(--sklearn-color-fitted-level-1);\n}\n\n/* On hover */\ndiv.sk-estimator:hover .sk-estimator-doc-link:hover,\n.sk-estimator-doc-link:hover,\ndiv.sk-label-container:hover .sk-estimator-doc-link:hover,\n.sk-estimator-doc-link:hover {\n  /* unfitted */\n  background-color: var(--sklearn-color-unfitted-level-3);\n  color: var(--sklearn-color-background);\n  text-decoration: none;\n}\n\ndiv.sk-estimator.fitted:hover .sk-estimator-doc-link.fitted:hover,\n.sk-estimator-doc-link.fitted:hover,\ndiv.sk-label-container:hover .sk-estimator-doc-link.fitted:hover,\n.sk-estimator-doc-link.fitted:hover {\n  /* fitted */\n  background-color: var(--sklearn-color-fitted-level-3);\n  color: var(--sklearn-color-background);\n  text-decoration: none;\n}\n\n/* Span, style for the box shown on hovering the info icon */\n.sk-estimator-doc-link span {\n  display: none;\n  z-index: 9999;\n  position: relative;\n  font-weight: normal;\n  right: .2ex;\n  padding: .5ex;\n  margin: .5ex;\n  width: min-content;\n  min-width: 20ex;\n  max-width: 50ex;\n  color: var(--sklearn-color-text);\n  box-shadow: 2pt 2pt 4pt #999;\n  /* unfitted */\n  background: var(--sklearn-color-unfitted-level-0);\n  border: .5pt solid var(--sklearn-color-unfitted-level-3);\n}\n\n.sk-estimator-doc-link.fitted span {\n  /* fitted */\n  background: var(--sklearn-color-fitted-level-0);\n  border: var(--sklearn-color-fitted-level-3);\n}\n\n.sk-estimator-doc-link:hover span {\n  display: block;\n}\n\n/* \"?\"-specific style due to the `<a>` HTML tag */\n\n#sk-container-id-1 a.estimator_doc_link {\n  float: right;\n  font-size: 1rem;\n  line-height: 1em;\n  font-family: monospace;\n  background-color: var(--sklearn-color-background);\n  border-radius: 1rem;\n  height: 1rem;\n  width: 1rem;\n  text-decoration: none;\n  /* unfitted */\n  color: var(--sklearn-color-unfitted-level-1);\n  border: var(--sklearn-color-unfitted-level-1) 1pt solid;\n}\n\n#sk-container-id-1 a.estimator_doc_link.fitted {\n  /* fitted */\n  border: var(--sklearn-color-fitted-level-1) 1pt solid;\n  color: var(--sklearn-color-fitted-level-1);\n}\n\n/* On hover */\n#sk-container-id-1 a.estimator_doc_link:hover {\n  /* unfitted */\n  background-color: var(--sklearn-color-unfitted-level-3);\n  color: var(--sklearn-color-background);\n  text-decoration: none;\n}\n\n#sk-container-id-1 a.estimator_doc_link.fitted:hover {\n  /* fitted */\n  background-color: var(--sklearn-color-fitted-level-3);\n}\n</style><div id=\"sk-container-id-1\" class=\"sk-top-container\"><div class=\"sk-text-repr-fallback\"><pre>LinearRegression()</pre><b>In a Jupyter environment, please rerun this cell to show the HTML representation or trust the notebook. <br />On GitHub, the HTML representation is unable to render, please try loading this page with nbviewer.org.</b></div><div class=\"sk-container\" hidden><div class=\"sk-item\"><div class=\"sk-estimator fitted sk-toggleable\"><input class=\"sk-toggleable__control sk-hidden--visually\" id=\"sk-estimator-id-1\" type=\"checkbox\" checked><label for=\"sk-estimator-id-1\" class=\"sk-toggleable__label fitted sk-toggleable__label-arrow fitted\">&nbsp;&nbsp;LinearRegression<a class=\"sk-estimator-doc-link fitted\" rel=\"noreferrer\" target=\"_blank\" href=\"https://scikit-learn.org/1.4/modules/generated/sklearn.linear_model.LinearRegression.html\">?<span>Documentation for LinearRegression</span></a><span class=\"sk-estimator-doc-link fitted\">i<span>Fitted</span></span></label><div class=\"sk-toggleable__content fitted\"><pre>LinearRegression()</pre></div> </div></div></div></div>"
     },
     "execution_count": 66,
     "metadata": {},
     "output_type": "execute_result"
    }
   ],
   "source": [
    "# creating an object of LinearRegression class\n",
    "lr_model = LinearRegression()\n",
    "lr_model.fit(X=X_train, y=y_train)"
   ]
  },
  {
   "cell_type": "markdown",
   "id": "2022745a",
   "metadata": {},
   "source": [
    "##### Predict the Target Values"
   ]
  },
  {
   "cell_type": "code",
   "execution_count": 67,
   "id": "f2c36fa7",
   "metadata": {
    "ExecuteTime": {
     "end_time": "2024-05-27T08:06:56.063112200Z",
     "start_time": "2024-05-27T08:06:55.904041600Z"
    }
   },
   "outputs": [],
   "source": [
    "y_test_predicted = lr_model.predict(X_test)"
   ]
  },
  {
   "cell_type": "code",
   "execution_count": 68,
   "id": "e0c25dd5",
   "metadata": {
    "ExecuteTime": {
     "end_time": "2024-05-27T08:06:56.198114100Z",
     "start_time": "2024-05-27T08:06:56.046107200Z"
    }
   },
   "outputs": [],
   "source": [
    "# Approximate to 1 decimal place\n",
    "y_test_predicted = y_test_predicted.round(1)"
   ]
  },
  {
   "cell_type": "code",
   "execution_count": 69,
   "id": "e7c41b1f",
   "metadata": {
    "ExecuteTime": {
     "end_time": "2024-05-27T08:06:56.230185700Z",
     "start_time": "2024-05-27T08:06:56.177256800Z"
    }
   },
   "outputs": [
    {
     "data": {
      "text/plain": "   Actual  Predicted\n0     3.9        3.8\n1     4.4        4.4\n2     4.3        4.3\n3     3.9        3.8\n4     4.4        4.4\n5     3.7        3.6\n6     4.0        3.9\n7     4.0        3.9\n8     3.6        3.5\n9     4.1        4.2",
      "text/html": "<div>\n<style scoped>\n    .dataframe tbody tr th:only-of-type {\n        vertical-align: middle;\n    }\n\n    .dataframe tbody tr th {\n        vertical-align: top;\n    }\n\n    .dataframe thead th {\n        text-align: right;\n    }\n</style>\n<table border=\"1\" class=\"dataframe\">\n  <thead>\n    <tr style=\"text-align: right;\">\n      <th></th>\n      <th>Actual</th>\n      <th>Predicted</th>\n    </tr>\n  </thead>\n  <tbody>\n    <tr>\n      <th>0</th>\n      <td>3.9</td>\n      <td>3.8</td>\n    </tr>\n    <tr>\n      <th>1</th>\n      <td>4.4</td>\n      <td>4.4</td>\n    </tr>\n    <tr>\n      <th>2</th>\n      <td>4.3</td>\n      <td>4.3</td>\n    </tr>\n    <tr>\n      <th>3</th>\n      <td>3.9</td>\n      <td>3.8</td>\n    </tr>\n    <tr>\n      <th>4</th>\n      <td>4.4</td>\n      <td>4.4</td>\n    </tr>\n    <tr>\n      <th>5</th>\n      <td>3.7</td>\n      <td>3.6</td>\n    </tr>\n    <tr>\n      <th>6</th>\n      <td>4.0</td>\n      <td>3.9</td>\n    </tr>\n    <tr>\n      <th>7</th>\n      <td>4.0</td>\n      <td>3.9</td>\n    </tr>\n    <tr>\n      <th>8</th>\n      <td>3.6</td>\n      <td>3.5</td>\n    </tr>\n    <tr>\n      <th>9</th>\n      <td>4.1</td>\n      <td>4.2</td>\n    </tr>\n  </tbody>\n</table>\n</div>"
     },
     "execution_count": 69,
     "metadata": {},
     "output_type": "execute_result"
    }
   ],
   "source": [
    "# Now compare the actual output values for y_test with the predicted values.\n",
    "pred = pd.DataFrame({'Actual': y_test.tolist(), 'Predicted': y_test_predicted.tolist()}).head(25)\n",
    "pred.head(10)"
   ]
  },
  {
   "cell_type": "markdown",
   "id": "83d59387",
   "metadata": {},
   "source": [
    "##### Evalute the Performance of the Model"
   ]
  },
  {
   "cell_type": "code",
   "execution_count": 70,
   "id": "5419fde8",
   "metadata": {
    "ExecuteTime": {
     "end_time": "2024-05-27T08:06:56.407728400Z",
     "start_time": "2024-05-27T08:06:56.230185700Z"
    }
   },
   "outputs": [
    {
     "data": {
      "text/plain": "0.48772727272727273"
     },
     "execution_count": 70,
     "metadata": {},
     "output_type": "execute_result"
    }
   ],
   "source": [
    "# Check how accurate is the prediction\n",
    "(y_test_predicted == y_test).sum()/len(y_test)"
   ]
  },
  {
   "cell_type": "code",
   "execution_count": 71,
   "id": "1d7d9593",
   "metadata": {
    "ExecuteTime": {
     "end_time": "2024-05-27T08:06:56.562898300Z",
     "start_time": "2024-05-27T08:06:56.371942400Z"
    }
   },
   "outputs": [],
   "source": [
    "# Compute the accuracy of the model\n",
    "from sklearn import metrics\n",
    "from sklearn.metrics import r2_score \n",
    "from sklearn.metrics import mean_squared_error"
   ]
  },
  {
   "cell_type": "code",
   "execution_count": 72,
   "id": "fee61980",
   "metadata": {
    "ExecuteTime": {
     "end_time": "2024-05-27T08:06:56.655346600Z",
     "start_time": "2024-05-27T08:06:56.544615200Z"
    }
   },
   "outputs": [],
   "source": [
    "# Evalute the performance of the Algorithm\n",
    "score=r2_score(y_test,y_test_predicted)\n",
    "meanError = mean_squared_error(y_test,y_test_predicted)\n",
    "meansquardError = np.sqrt(mean_squared_error(y_test,y_test_predicted))"
   ]
  },
  {
   "cell_type": "code",
   "execution_count": 73,
   "id": "2854977b",
   "metadata": {
    "ExecuteTime": {
     "end_time": "2024-05-27T08:06:56.779733600Z",
     "start_time": "2024-05-27T08:06:56.656920300Z"
    }
   },
   "outputs": [
    {
     "name": "stdout",
     "output_type": "stream",
     "text": [
      "R-square is 0.6663923230676083\n",
      "mean_squard_error is 0.04328181818181817\n",
      "root_mean_squared error is 0.20804282775865687\n"
     ]
    }
   ],
   "source": [
    "print('R-square is',score)\n",
    "print('mean_squard_error is',meanError)\n",
    "print('root_mean_squared error is',meansquardError)"
   ]
  },
  {
   "cell_type": "code",
   "execution_count": 74,
   "id": "f673503c",
   "metadata": {
    "ExecuteTime": {
     "end_time": "2024-05-27T08:06:56.906087300Z",
     "start_time": "2024-05-27T08:06:56.760799100Z"
    }
   },
   "outputs": [
    {
     "name": "stdout",
     "output_type": "stream",
     "text": [
      "Intercept: \n",
      " 2.7765125265030814\n"
     ]
    }
   ],
   "source": [
    "print('Intercept: \\n', lr_model.intercept_)"
   ]
  },
  {
   "cell_type": "code",
   "execution_count": 75,
   "id": "e891aa33",
   "metadata": {
    "ExecuteTime": {
     "end_time": "2024-05-27T08:06:57.071767100Z",
     "start_time": "2024-05-27T08:06:56.884354Z"
    }
   },
   "outputs": [
    {
     "name": "stdout",
     "output_type": "stream",
     "text": [
      "Coefficients: \n",
      " [-9.44959825e-05 -1.68649127e-05  1.59961889e-05 -8.74017043e-09\n",
      "  7.24985331e-07  8.28952939e-04  1.32195377e-03 -1.48976287e-02\n",
      "  2.86483034e-04  2.17846186e-02 -7.17347292e-03]\n"
     ]
    }
   ],
   "source": [
    "print('Coefficients: \\n', lr_model.coef_)"
   ]
  },
  {
   "cell_type": "markdown",
   "id": "83a95a07",
   "metadata": {},
   "source": [
    "##### Compare the Model with random forest regressor"
   ]
  },
  {
   "cell_type": "code",
   "execution_count": 76,
   "id": "741a757c",
   "metadata": {
    "ExecuteTime": {
     "end_time": "2024-05-27T08:06:57.314362800Z",
     "start_time": "2024-05-27T08:06:57.054634600Z"
    }
   },
   "outputs": [],
   "source": [
    "from sklearn.ensemble import RandomForestRegressor\n",
    "from sklearn import metrics"
   ]
  },
  {
   "cell_type": "code",
   "execution_count": 77,
   "id": "b955fc32",
   "metadata": {
    "ExecuteTime": {
     "end_time": "2024-05-27T08:06:57.344510200Z",
     "start_time": "2024-05-27T08:06:57.235513500Z"
    }
   },
   "outputs": [],
   "source": [
    "rf_model = RandomForestRegressor()"
   ]
  },
  {
   "cell_type": "code",
   "execution_count": 78,
   "id": "2b1b1bff",
   "metadata": {
    "ExecuteTime": {
     "end_time": "2024-05-27T08:07:01.262589400Z",
     "start_time": "2024-05-27T08:06:57.299287700Z"
    }
   },
   "outputs": [
    {
     "data": {
      "text/plain": "RandomForestRegressor()",
      "text/html": "<style>#sk-container-id-2 {\n  /* Definition of color scheme common for light and dark mode */\n  --sklearn-color-text: black;\n  --sklearn-color-line: gray;\n  /* Definition of color scheme for unfitted estimators */\n  --sklearn-color-unfitted-level-0: #fff5e6;\n  --sklearn-color-unfitted-level-1: #f6e4d2;\n  --sklearn-color-unfitted-level-2: #ffe0b3;\n  --sklearn-color-unfitted-level-3: chocolate;\n  /* Definition of color scheme for fitted estimators */\n  --sklearn-color-fitted-level-0: #f0f8ff;\n  --sklearn-color-fitted-level-1: #d4ebff;\n  --sklearn-color-fitted-level-2: #b3dbfd;\n  --sklearn-color-fitted-level-3: cornflowerblue;\n\n  /* Specific color for light theme */\n  --sklearn-color-text-on-default-background: var(--sg-text-color, var(--theme-code-foreground, var(--jp-content-font-color1, black)));\n  --sklearn-color-background: var(--sg-background-color, var(--theme-background, var(--jp-layout-color0, white)));\n  --sklearn-color-border-box: var(--sg-text-color, var(--theme-code-foreground, var(--jp-content-font-color1, black)));\n  --sklearn-color-icon: #696969;\n\n  @media (prefers-color-scheme: dark) {\n    /* Redefinition of color scheme for dark theme */\n    --sklearn-color-text-on-default-background: var(--sg-text-color, var(--theme-code-foreground, var(--jp-content-font-color1, white)));\n    --sklearn-color-background: var(--sg-background-color, var(--theme-background, var(--jp-layout-color0, #111)));\n    --sklearn-color-border-box: var(--sg-text-color, var(--theme-code-foreground, var(--jp-content-font-color1, white)));\n    --sklearn-color-icon: #878787;\n  }\n}\n\n#sk-container-id-2 {\n  color: var(--sklearn-color-text);\n}\n\n#sk-container-id-2 pre {\n  padding: 0;\n}\n\n#sk-container-id-2 input.sk-hidden--visually {\n  border: 0;\n  clip: rect(1px 1px 1px 1px);\n  clip: rect(1px, 1px, 1px, 1px);\n  height: 1px;\n  margin: -1px;\n  overflow: hidden;\n  padding: 0;\n  position: absolute;\n  width: 1px;\n}\n\n#sk-container-id-2 div.sk-dashed-wrapped {\n  border: 1px dashed var(--sklearn-color-line);\n  margin: 0 0.4em 0.5em 0.4em;\n  box-sizing: border-box;\n  padding-bottom: 0.4em;\n  background-color: var(--sklearn-color-background);\n}\n\n#sk-container-id-2 div.sk-container {\n  /* jupyter's `normalize.less` sets `[hidden] { display: none; }`\n     but bootstrap.min.css set `[hidden] { display: none !important; }`\n     so we also need the `!important` here to be able to override the\n     default hidden behavior on the sphinx rendered scikit-learn.org.\n     See: https://github.com/scikit-learn/scikit-learn/issues/21755 */\n  display: inline-block !important;\n  position: relative;\n}\n\n#sk-container-id-2 div.sk-text-repr-fallback {\n  display: none;\n}\n\ndiv.sk-parallel-item,\ndiv.sk-serial,\ndiv.sk-item {\n  /* draw centered vertical line to link estimators */\n  background-image: linear-gradient(var(--sklearn-color-text-on-default-background), var(--sklearn-color-text-on-default-background));\n  background-size: 2px 100%;\n  background-repeat: no-repeat;\n  background-position: center center;\n}\n\n/* Parallel-specific style estimator block */\n\n#sk-container-id-2 div.sk-parallel-item::after {\n  content: \"\";\n  width: 100%;\n  border-bottom: 2px solid var(--sklearn-color-text-on-default-background);\n  flex-grow: 1;\n}\n\n#sk-container-id-2 div.sk-parallel {\n  display: flex;\n  align-items: stretch;\n  justify-content: center;\n  background-color: var(--sklearn-color-background);\n  position: relative;\n}\n\n#sk-container-id-2 div.sk-parallel-item {\n  display: flex;\n  flex-direction: column;\n}\n\n#sk-container-id-2 div.sk-parallel-item:first-child::after {\n  align-self: flex-end;\n  width: 50%;\n}\n\n#sk-container-id-2 div.sk-parallel-item:last-child::after {\n  align-self: flex-start;\n  width: 50%;\n}\n\n#sk-container-id-2 div.sk-parallel-item:only-child::after {\n  width: 0;\n}\n\n/* Serial-specific style estimator block */\n\n#sk-container-id-2 div.sk-serial {\n  display: flex;\n  flex-direction: column;\n  align-items: center;\n  background-color: var(--sklearn-color-background);\n  padding-right: 1em;\n  padding-left: 1em;\n}\n\n\n/* Toggleable style: style used for estimator/Pipeline/ColumnTransformer box that is\nclickable and can be expanded/collapsed.\n- Pipeline and ColumnTransformer use this feature and define the default style\n- Estimators will overwrite some part of the style using the `sk-estimator` class\n*/\n\n/* Pipeline and ColumnTransformer style (default) */\n\n#sk-container-id-2 div.sk-toggleable {\n  /* Default theme specific background. It is overwritten whether we have a\n  specific estimator or a Pipeline/ColumnTransformer */\n  background-color: var(--sklearn-color-background);\n}\n\n/* Toggleable label */\n#sk-container-id-2 label.sk-toggleable__label {\n  cursor: pointer;\n  display: block;\n  width: 100%;\n  margin-bottom: 0;\n  padding: 0.5em;\n  box-sizing: border-box;\n  text-align: center;\n}\n\n#sk-container-id-2 label.sk-toggleable__label-arrow:before {\n  /* Arrow on the left of the label */\n  content: \"▸\";\n  float: left;\n  margin-right: 0.25em;\n  color: var(--sklearn-color-icon);\n}\n\n#sk-container-id-2 label.sk-toggleable__label-arrow:hover:before {\n  color: var(--sklearn-color-text);\n}\n\n/* Toggleable content - dropdown */\n\n#sk-container-id-2 div.sk-toggleable__content {\n  max-height: 0;\n  max-width: 0;\n  overflow: hidden;\n  text-align: left;\n  /* unfitted */\n  background-color: var(--sklearn-color-unfitted-level-0);\n}\n\n#sk-container-id-2 div.sk-toggleable__content.fitted {\n  /* fitted */\n  background-color: var(--sklearn-color-fitted-level-0);\n}\n\n#sk-container-id-2 div.sk-toggleable__content pre {\n  margin: 0.2em;\n  border-radius: 0.25em;\n  color: var(--sklearn-color-text);\n  /* unfitted */\n  background-color: var(--sklearn-color-unfitted-level-0);\n}\n\n#sk-container-id-2 div.sk-toggleable__content.fitted pre {\n  /* unfitted */\n  background-color: var(--sklearn-color-fitted-level-0);\n}\n\n#sk-container-id-2 input.sk-toggleable__control:checked~div.sk-toggleable__content {\n  /* Expand drop-down */\n  max-height: 200px;\n  max-width: 100%;\n  overflow: auto;\n}\n\n#sk-container-id-2 input.sk-toggleable__control:checked~label.sk-toggleable__label-arrow:before {\n  content: \"▾\";\n}\n\n/* Pipeline/ColumnTransformer-specific style */\n\n#sk-container-id-2 div.sk-label input.sk-toggleable__control:checked~label.sk-toggleable__label {\n  color: var(--sklearn-color-text);\n  background-color: var(--sklearn-color-unfitted-level-2);\n}\n\n#sk-container-id-2 div.sk-label.fitted input.sk-toggleable__control:checked~label.sk-toggleable__label {\n  background-color: var(--sklearn-color-fitted-level-2);\n}\n\n/* Estimator-specific style */\n\n/* Colorize estimator box */\n#sk-container-id-2 div.sk-estimator input.sk-toggleable__control:checked~label.sk-toggleable__label {\n  /* unfitted */\n  background-color: var(--sklearn-color-unfitted-level-2);\n}\n\n#sk-container-id-2 div.sk-estimator.fitted input.sk-toggleable__control:checked~label.sk-toggleable__label {\n  /* fitted */\n  background-color: var(--sklearn-color-fitted-level-2);\n}\n\n#sk-container-id-2 div.sk-label label.sk-toggleable__label,\n#sk-container-id-2 div.sk-label label {\n  /* The background is the default theme color */\n  color: var(--sklearn-color-text-on-default-background);\n}\n\n/* On hover, darken the color of the background */\n#sk-container-id-2 div.sk-label:hover label.sk-toggleable__label {\n  color: var(--sklearn-color-text);\n  background-color: var(--sklearn-color-unfitted-level-2);\n}\n\n/* Label box, darken color on hover, fitted */\n#sk-container-id-2 div.sk-label.fitted:hover label.sk-toggleable__label.fitted {\n  color: var(--sklearn-color-text);\n  background-color: var(--sklearn-color-fitted-level-2);\n}\n\n/* Estimator label */\n\n#sk-container-id-2 div.sk-label label {\n  font-family: monospace;\n  font-weight: bold;\n  display: inline-block;\n  line-height: 1.2em;\n}\n\n#sk-container-id-2 div.sk-label-container {\n  text-align: center;\n}\n\n/* Estimator-specific */\n#sk-container-id-2 div.sk-estimator {\n  font-family: monospace;\n  border: 1px dotted var(--sklearn-color-border-box);\n  border-radius: 0.25em;\n  box-sizing: border-box;\n  margin-bottom: 0.5em;\n  /* unfitted */\n  background-color: var(--sklearn-color-unfitted-level-0);\n}\n\n#sk-container-id-2 div.sk-estimator.fitted {\n  /* fitted */\n  background-color: var(--sklearn-color-fitted-level-0);\n}\n\n/* on hover */\n#sk-container-id-2 div.sk-estimator:hover {\n  /* unfitted */\n  background-color: var(--sklearn-color-unfitted-level-2);\n}\n\n#sk-container-id-2 div.sk-estimator.fitted:hover {\n  /* fitted */\n  background-color: var(--sklearn-color-fitted-level-2);\n}\n\n/* Specification for estimator info (e.g. \"i\" and \"?\") */\n\n/* Common style for \"i\" and \"?\" */\n\n.sk-estimator-doc-link,\na:link.sk-estimator-doc-link,\na:visited.sk-estimator-doc-link {\n  float: right;\n  font-size: smaller;\n  line-height: 1em;\n  font-family: monospace;\n  background-color: var(--sklearn-color-background);\n  border-radius: 1em;\n  height: 1em;\n  width: 1em;\n  text-decoration: none !important;\n  margin-left: 1ex;\n  /* unfitted */\n  border: var(--sklearn-color-unfitted-level-1) 1pt solid;\n  color: var(--sklearn-color-unfitted-level-1);\n}\n\n.sk-estimator-doc-link.fitted,\na:link.sk-estimator-doc-link.fitted,\na:visited.sk-estimator-doc-link.fitted {\n  /* fitted */\n  border: var(--sklearn-color-fitted-level-1) 1pt solid;\n  color: var(--sklearn-color-fitted-level-1);\n}\n\n/* On hover */\ndiv.sk-estimator:hover .sk-estimator-doc-link:hover,\n.sk-estimator-doc-link:hover,\ndiv.sk-label-container:hover .sk-estimator-doc-link:hover,\n.sk-estimator-doc-link:hover {\n  /* unfitted */\n  background-color: var(--sklearn-color-unfitted-level-3);\n  color: var(--sklearn-color-background);\n  text-decoration: none;\n}\n\ndiv.sk-estimator.fitted:hover .sk-estimator-doc-link.fitted:hover,\n.sk-estimator-doc-link.fitted:hover,\ndiv.sk-label-container:hover .sk-estimator-doc-link.fitted:hover,\n.sk-estimator-doc-link.fitted:hover {\n  /* fitted */\n  background-color: var(--sklearn-color-fitted-level-3);\n  color: var(--sklearn-color-background);\n  text-decoration: none;\n}\n\n/* Span, style for the box shown on hovering the info icon */\n.sk-estimator-doc-link span {\n  display: none;\n  z-index: 9999;\n  position: relative;\n  font-weight: normal;\n  right: .2ex;\n  padding: .5ex;\n  margin: .5ex;\n  width: min-content;\n  min-width: 20ex;\n  max-width: 50ex;\n  color: var(--sklearn-color-text);\n  box-shadow: 2pt 2pt 4pt #999;\n  /* unfitted */\n  background: var(--sklearn-color-unfitted-level-0);\n  border: .5pt solid var(--sklearn-color-unfitted-level-3);\n}\n\n.sk-estimator-doc-link.fitted span {\n  /* fitted */\n  background: var(--sklearn-color-fitted-level-0);\n  border: var(--sklearn-color-fitted-level-3);\n}\n\n.sk-estimator-doc-link:hover span {\n  display: block;\n}\n\n/* \"?\"-specific style due to the `<a>` HTML tag */\n\n#sk-container-id-2 a.estimator_doc_link {\n  float: right;\n  font-size: 1rem;\n  line-height: 1em;\n  font-family: monospace;\n  background-color: var(--sklearn-color-background);\n  border-radius: 1rem;\n  height: 1rem;\n  width: 1rem;\n  text-decoration: none;\n  /* unfitted */\n  color: var(--sklearn-color-unfitted-level-1);\n  border: var(--sklearn-color-unfitted-level-1) 1pt solid;\n}\n\n#sk-container-id-2 a.estimator_doc_link.fitted {\n  /* fitted */\n  border: var(--sklearn-color-fitted-level-1) 1pt solid;\n  color: var(--sklearn-color-fitted-level-1);\n}\n\n/* On hover */\n#sk-container-id-2 a.estimator_doc_link:hover {\n  /* unfitted */\n  background-color: var(--sklearn-color-unfitted-level-3);\n  color: var(--sklearn-color-background);\n  text-decoration: none;\n}\n\n#sk-container-id-2 a.estimator_doc_link.fitted:hover {\n  /* fitted */\n  background-color: var(--sklearn-color-fitted-level-3);\n}\n</style><div id=\"sk-container-id-2\" class=\"sk-top-container\"><div class=\"sk-text-repr-fallback\"><pre>RandomForestRegressor()</pre><b>In a Jupyter environment, please rerun this cell to show the HTML representation or trust the notebook. <br />On GitHub, the HTML representation is unable to render, please try loading this page with nbviewer.org.</b></div><div class=\"sk-container\" hidden><div class=\"sk-item\"><div class=\"sk-estimator fitted sk-toggleable\"><input class=\"sk-toggleable__control sk-hidden--visually\" id=\"sk-estimator-id-2\" type=\"checkbox\" checked><label for=\"sk-estimator-id-2\" class=\"sk-toggleable__label fitted sk-toggleable__label-arrow fitted\">&nbsp;&nbsp;RandomForestRegressor<a class=\"sk-estimator-doc-link fitted\" rel=\"noreferrer\" target=\"_blank\" href=\"https://scikit-learn.org/1.4/modules/generated/sklearn.ensemble.RandomForestRegressor.html\">?<span>Documentation for RandomForestRegressor</span></a><span class=\"sk-estimator-doc-link fitted\">i<span>Fitted</span></span></label><div class=\"sk-toggleable__content fitted\"><pre>RandomForestRegressor()</pre></div> </div></div></div></div>"
     },
     "execution_count": 78,
     "metadata": {},
     "output_type": "execute_result"
    }
   ],
   "source": [
    "rf_model.fit(X=X_train,y=y_train)"
   ]
  },
  {
   "cell_type": "code",
   "execution_count": 79,
   "id": "2891bad3",
   "metadata": {
    "ExecuteTime": {
     "end_time": "2024-05-27T08:07:01.338236800Z",
     "start_time": "2024-05-27T08:07:01.259590200Z"
    }
   },
   "outputs": [],
   "source": [
    "y_test_predicted_rf = rf_model.predict(X_test)"
   ]
  },
  {
   "cell_type": "code",
   "execution_count": 80,
   "id": "0688b4b0",
   "metadata": {
    "ExecuteTime": {
     "end_time": "2024-05-27T08:07:01.342230600Z",
     "start_time": "2024-05-27T08:07:01.288664900Z"
    }
   },
   "outputs": [],
   "source": [
    "# Approximate to 1 decimal place\n",
    "y_test_predicted_rf = y_test_predicted_rf.round(1)"
   ]
  },
  {
   "cell_type": "code",
   "execution_count": 81,
   "id": "6b3bcba7",
   "metadata": {
    "ExecuteTime": {
     "end_time": "2024-05-27T08:07:01.370231900Z",
     "start_time": "2024-05-27T08:07:01.294668400Z"
    }
   },
   "outputs": [
    {
     "data": {
      "text/plain": "   Actual  Predicted\n0     3.9        3.9\n1     4.4        4.2\n2     4.3        4.3\n3     3.9        3.9\n4     4.4        4.4\n5     3.7        3.7\n6     4.0        3.9\n7     4.0        4.0\n8     3.6        3.6\n9     4.1        4.1",
      "text/html": "<div>\n<style scoped>\n    .dataframe tbody tr th:only-of-type {\n        vertical-align: middle;\n    }\n\n    .dataframe tbody tr th {\n        vertical-align: top;\n    }\n\n    .dataframe thead th {\n        text-align: right;\n    }\n</style>\n<table border=\"1\" class=\"dataframe\">\n  <thead>\n    <tr style=\"text-align: right;\">\n      <th></th>\n      <th>Actual</th>\n      <th>Predicted</th>\n    </tr>\n  </thead>\n  <tbody>\n    <tr>\n      <th>0</th>\n      <td>3.9</td>\n      <td>3.9</td>\n    </tr>\n    <tr>\n      <th>1</th>\n      <td>4.4</td>\n      <td>4.2</td>\n    </tr>\n    <tr>\n      <th>2</th>\n      <td>4.3</td>\n      <td>4.3</td>\n    </tr>\n    <tr>\n      <th>3</th>\n      <td>3.9</td>\n      <td>3.9</td>\n    </tr>\n    <tr>\n      <th>4</th>\n      <td>4.4</td>\n      <td>4.4</td>\n    </tr>\n    <tr>\n      <th>5</th>\n      <td>3.7</td>\n      <td>3.7</td>\n    </tr>\n    <tr>\n      <th>6</th>\n      <td>4.0</td>\n      <td>3.9</td>\n    </tr>\n    <tr>\n      <th>7</th>\n      <td>4.0</td>\n      <td>4.0</td>\n    </tr>\n    <tr>\n      <th>8</th>\n      <td>3.6</td>\n      <td>3.6</td>\n    </tr>\n    <tr>\n      <th>9</th>\n      <td>4.1</td>\n      <td>4.1</td>\n    </tr>\n  </tbody>\n</table>\n</div>"
     },
     "execution_count": 81,
     "metadata": {},
     "output_type": "execute_result"
    }
   ],
   "source": [
    "# Now compare the actual output values for y_test with the predicted values.\n",
    "preds = pd.DataFrame({'Actual': y_test.tolist(), 'Predicted': y_test_predicted_rf.tolist()}).head(25)\n",
    "preds.head(10)"
   ]
  },
  {
   "cell_type": "code",
   "execution_count": 82,
   "id": "963b4161",
   "metadata": {
    "ExecuteTime": {
     "end_time": "2024-05-27T08:07:01.392232500Z",
     "start_time": "2024-05-27T08:07:01.304711Z"
    }
   },
   "outputs": [
    {
     "data": {
      "text/plain": "0.980909090909091"
     },
     "execution_count": 82,
     "metadata": {},
     "output_type": "execute_result"
    }
   ],
   "source": [
    "# Check how accurate is the prediction\n",
    "(y_test_predicted_rf == y_test).sum()/len(y_test)"
   ]
  },
  {
   "cell_type": "code",
   "execution_count": 83,
   "id": "092d739d",
   "metadata": {
    "ExecuteTime": {
     "end_time": "2024-05-27T08:07:01.467625300Z",
     "start_time": "2024-05-27T08:07:01.312559100Z"
    }
   },
   "outputs": [],
   "source": [
    "# Evalute the performance of the Algorithm\n",
    "score=r2_score(y_test,y_test_predicted_rf)\n",
    "meanError = mean_squared_error(y_test,y_test_predicted_rf)\n",
    "meansquardError = np.sqrt(mean_squared_error(y_test,y_test_predicted_rf))"
   ]
  },
  {
   "cell_type": "code",
   "execution_count": 84,
   "id": "b4aba215",
   "metadata": {
    "ExecuteTime": {
     "end_time": "2024-05-27T08:07:01.501789500Z",
     "start_time": "2024-05-27T08:07:01.321258700Z"
    }
   },
   "outputs": [
    {
     "name": "stdout",
     "output_type": "stream",
     "text": [
      "R-square is 0.9954103543711255\n",
      "mean_sqrd_error is 0.0005954545454545459\n",
      "root_mean_squared error is 0.024401937329944643\n"
     ]
    }
   ],
   "source": [
    "print('R-square is',score)\n",
    "print('mean_sqrd_error is',meanError)\n",
    "print('root_mean_squared error is',meansquardError)"
   ]
  },
  {
   "cell_type": "markdown",
   "source": [
    "### Support Vector Machine"
   ],
   "metadata": {
    "collapsed": false
   },
   "id": "3fc6c332266fb1c7"
  },
  {
   "cell_type": "code",
   "outputs": [
    {
     "data": {
      "text/plain": "SVR()",
      "text/html": "<style>#sk-container-id-3 {\n  /* Definition of color scheme common for light and dark mode */\n  --sklearn-color-text: black;\n  --sklearn-color-line: gray;\n  /* Definition of color scheme for unfitted estimators */\n  --sklearn-color-unfitted-level-0: #fff5e6;\n  --sklearn-color-unfitted-level-1: #f6e4d2;\n  --sklearn-color-unfitted-level-2: #ffe0b3;\n  --sklearn-color-unfitted-level-3: chocolate;\n  /* Definition of color scheme for fitted estimators */\n  --sklearn-color-fitted-level-0: #f0f8ff;\n  --sklearn-color-fitted-level-1: #d4ebff;\n  --sklearn-color-fitted-level-2: #b3dbfd;\n  --sklearn-color-fitted-level-3: cornflowerblue;\n\n  /* Specific color for light theme */\n  --sklearn-color-text-on-default-background: var(--sg-text-color, var(--theme-code-foreground, var(--jp-content-font-color1, black)));\n  --sklearn-color-background: var(--sg-background-color, var(--theme-background, var(--jp-layout-color0, white)));\n  --sklearn-color-border-box: var(--sg-text-color, var(--theme-code-foreground, var(--jp-content-font-color1, black)));\n  --sklearn-color-icon: #696969;\n\n  @media (prefers-color-scheme: dark) {\n    /* Redefinition of color scheme for dark theme */\n    --sklearn-color-text-on-default-background: var(--sg-text-color, var(--theme-code-foreground, var(--jp-content-font-color1, white)));\n    --sklearn-color-background: var(--sg-background-color, var(--theme-background, var(--jp-layout-color0, #111)));\n    --sklearn-color-border-box: var(--sg-text-color, var(--theme-code-foreground, var(--jp-content-font-color1, white)));\n    --sklearn-color-icon: #878787;\n  }\n}\n\n#sk-container-id-3 {\n  color: var(--sklearn-color-text);\n}\n\n#sk-container-id-3 pre {\n  padding: 0;\n}\n\n#sk-container-id-3 input.sk-hidden--visually {\n  border: 0;\n  clip: rect(1px 1px 1px 1px);\n  clip: rect(1px, 1px, 1px, 1px);\n  height: 1px;\n  margin: -1px;\n  overflow: hidden;\n  padding: 0;\n  position: absolute;\n  width: 1px;\n}\n\n#sk-container-id-3 div.sk-dashed-wrapped {\n  border: 1px dashed var(--sklearn-color-line);\n  margin: 0 0.4em 0.5em 0.4em;\n  box-sizing: border-box;\n  padding-bottom: 0.4em;\n  background-color: var(--sklearn-color-background);\n}\n\n#sk-container-id-3 div.sk-container {\n  /* jupyter's `normalize.less` sets `[hidden] { display: none; }`\n     but bootstrap.min.css set `[hidden] { display: none !important; }`\n     so we also need the `!important` here to be able to override the\n     default hidden behavior on the sphinx rendered scikit-learn.org.\n     See: https://github.com/scikit-learn/scikit-learn/issues/21755 */\n  display: inline-block !important;\n  position: relative;\n}\n\n#sk-container-id-3 div.sk-text-repr-fallback {\n  display: none;\n}\n\ndiv.sk-parallel-item,\ndiv.sk-serial,\ndiv.sk-item {\n  /* draw centered vertical line to link estimators */\n  background-image: linear-gradient(var(--sklearn-color-text-on-default-background), var(--sklearn-color-text-on-default-background));\n  background-size: 2px 100%;\n  background-repeat: no-repeat;\n  background-position: center center;\n}\n\n/* Parallel-specific style estimator block */\n\n#sk-container-id-3 div.sk-parallel-item::after {\n  content: \"\";\n  width: 100%;\n  border-bottom: 2px solid var(--sklearn-color-text-on-default-background);\n  flex-grow: 1;\n}\n\n#sk-container-id-3 div.sk-parallel {\n  display: flex;\n  align-items: stretch;\n  justify-content: center;\n  background-color: var(--sklearn-color-background);\n  position: relative;\n}\n\n#sk-container-id-3 div.sk-parallel-item {\n  display: flex;\n  flex-direction: column;\n}\n\n#sk-container-id-3 div.sk-parallel-item:first-child::after {\n  align-self: flex-end;\n  width: 50%;\n}\n\n#sk-container-id-3 div.sk-parallel-item:last-child::after {\n  align-self: flex-start;\n  width: 50%;\n}\n\n#sk-container-id-3 div.sk-parallel-item:only-child::after {\n  width: 0;\n}\n\n/* Serial-specific style estimator block */\n\n#sk-container-id-3 div.sk-serial {\n  display: flex;\n  flex-direction: column;\n  align-items: center;\n  background-color: var(--sklearn-color-background);\n  padding-right: 1em;\n  padding-left: 1em;\n}\n\n\n/* Toggleable style: style used for estimator/Pipeline/ColumnTransformer box that is\nclickable and can be expanded/collapsed.\n- Pipeline and ColumnTransformer use this feature and define the default style\n- Estimators will overwrite some part of the style using the `sk-estimator` class\n*/\n\n/* Pipeline and ColumnTransformer style (default) */\n\n#sk-container-id-3 div.sk-toggleable {\n  /* Default theme specific background. It is overwritten whether we have a\n  specific estimator or a Pipeline/ColumnTransformer */\n  background-color: var(--sklearn-color-background);\n}\n\n/* Toggleable label */\n#sk-container-id-3 label.sk-toggleable__label {\n  cursor: pointer;\n  display: block;\n  width: 100%;\n  margin-bottom: 0;\n  padding: 0.5em;\n  box-sizing: border-box;\n  text-align: center;\n}\n\n#sk-container-id-3 label.sk-toggleable__label-arrow:before {\n  /* Arrow on the left of the label */\n  content: \"▸\";\n  float: left;\n  margin-right: 0.25em;\n  color: var(--sklearn-color-icon);\n}\n\n#sk-container-id-3 label.sk-toggleable__label-arrow:hover:before {\n  color: var(--sklearn-color-text);\n}\n\n/* Toggleable content - dropdown */\n\n#sk-container-id-3 div.sk-toggleable__content {\n  max-height: 0;\n  max-width: 0;\n  overflow: hidden;\n  text-align: left;\n  /* unfitted */\n  background-color: var(--sklearn-color-unfitted-level-0);\n}\n\n#sk-container-id-3 div.sk-toggleable__content.fitted {\n  /* fitted */\n  background-color: var(--sklearn-color-fitted-level-0);\n}\n\n#sk-container-id-3 div.sk-toggleable__content pre {\n  margin: 0.2em;\n  border-radius: 0.25em;\n  color: var(--sklearn-color-text);\n  /* unfitted */\n  background-color: var(--sklearn-color-unfitted-level-0);\n}\n\n#sk-container-id-3 div.sk-toggleable__content.fitted pre {\n  /* unfitted */\n  background-color: var(--sklearn-color-fitted-level-0);\n}\n\n#sk-container-id-3 input.sk-toggleable__control:checked~div.sk-toggleable__content {\n  /* Expand drop-down */\n  max-height: 200px;\n  max-width: 100%;\n  overflow: auto;\n}\n\n#sk-container-id-3 input.sk-toggleable__control:checked~label.sk-toggleable__label-arrow:before {\n  content: \"▾\";\n}\n\n/* Pipeline/ColumnTransformer-specific style */\n\n#sk-container-id-3 div.sk-label input.sk-toggleable__control:checked~label.sk-toggleable__label {\n  color: var(--sklearn-color-text);\n  background-color: var(--sklearn-color-unfitted-level-2);\n}\n\n#sk-container-id-3 div.sk-label.fitted input.sk-toggleable__control:checked~label.sk-toggleable__label {\n  background-color: var(--sklearn-color-fitted-level-2);\n}\n\n/* Estimator-specific style */\n\n/* Colorize estimator box */\n#sk-container-id-3 div.sk-estimator input.sk-toggleable__control:checked~label.sk-toggleable__label {\n  /* unfitted */\n  background-color: var(--sklearn-color-unfitted-level-2);\n}\n\n#sk-container-id-3 div.sk-estimator.fitted input.sk-toggleable__control:checked~label.sk-toggleable__label {\n  /* fitted */\n  background-color: var(--sklearn-color-fitted-level-2);\n}\n\n#sk-container-id-3 div.sk-label label.sk-toggleable__label,\n#sk-container-id-3 div.sk-label label {\n  /* The background is the default theme color */\n  color: var(--sklearn-color-text-on-default-background);\n}\n\n/* On hover, darken the color of the background */\n#sk-container-id-3 div.sk-label:hover label.sk-toggleable__label {\n  color: var(--sklearn-color-text);\n  background-color: var(--sklearn-color-unfitted-level-2);\n}\n\n/* Label box, darken color on hover, fitted */\n#sk-container-id-3 div.sk-label.fitted:hover label.sk-toggleable__label.fitted {\n  color: var(--sklearn-color-text);\n  background-color: var(--sklearn-color-fitted-level-2);\n}\n\n/* Estimator label */\n\n#sk-container-id-3 div.sk-label label {\n  font-family: monospace;\n  font-weight: bold;\n  display: inline-block;\n  line-height: 1.2em;\n}\n\n#sk-container-id-3 div.sk-label-container {\n  text-align: center;\n}\n\n/* Estimator-specific */\n#sk-container-id-3 div.sk-estimator {\n  font-family: monospace;\n  border: 1px dotted var(--sklearn-color-border-box);\n  border-radius: 0.25em;\n  box-sizing: border-box;\n  margin-bottom: 0.5em;\n  /* unfitted */\n  background-color: var(--sklearn-color-unfitted-level-0);\n}\n\n#sk-container-id-3 div.sk-estimator.fitted {\n  /* fitted */\n  background-color: var(--sklearn-color-fitted-level-0);\n}\n\n/* on hover */\n#sk-container-id-3 div.sk-estimator:hover {\n  /* unfitted */\n  background-color: var(--sklearn-color-unfitted-level-2);\n}\n\n#sk-container-id-3 div.sk-estimator.fitted:hover {\n  /* fitted */\n  background-color: var(--sklearn-color-fitted-level-2);\n}\n\n/* Specification for estimator info (e.g. \"i\" and \"?\") */\n\n/* Common style for \"i\" and \"?\" */\n\n.sk-estimator-doc-link,\na:link.sk-estimator-doc-link,\na:visited.sk-estimator-doc-link {\n  float: right;\n  font-size: smaller;\n  line-height: 1em;\n  font-family: monospace;\n  background-color: var(--sklearn-color-background);\n  border-radius: 1em;\n  height: 1em;\n  width: 1em;\n  text-decoration: none !important;\n  margin-left: 1ex;\n  /* unfitted */\n  border: var(--sklearn-color-unfitted-level-1) 1pt solid;\n  color: var(--sklearn-color-unfitted-level-1);\n}\n\n.sk-estimator-doc-link.fitted,\na:link.sk-estimator-doc-link.fitted,\na:visited.sk-estimator-doc-link.fitted {\n  /* fitted */\n  border: var(--sklearn-color-fitted-level-1) 1pt solid;\n  color: var(--sklearn-color-fitted-level-1);\n}\n\n/* On hover */\ndiv.sk-estimator:hover .sk-estimator-doc-link:hover,\n.sk-estimator-doc-link:hover,\ndiv.sk-label-container:hover .sk-estimator-doc-link:hover,\n.sk-estimator-doc-link:hover {\n  /* unfitted */\n  background-color: var(--sklearn-color-unfitted-level-3);\n  color: var(--sklearn-color-background);\n  text-decoration: none;\n}\n\ndiv.sk-estimator.fitted:hover .sk-estimator-doc-link.fitted:hover,\n.sk-estimator-doc-link.fitted:hover,\ndiv.sk-label-container:hover .sk-estimator-doc-link.fitted:hover,\n.sk-estimator-doc-link.fitted:hover {\n  /* fitted */\n  background-color: var(--sklearn-color-fitted-level-3);\n  color: var(--sklearn-color-background);\n  text-decoration: none;\n}\n\n/* Span, style for the box shown on hovering the info icon */\n.sk-estimator-doc-link span {\n  display: none;\n  z-index: 9999;\n  position: relative;\n  font-weight: normal;\n  right: .2ex;\n  padding: .5ex;\n  margin: .5ex;\n  width: min-content;\n  min-width: 20ex;\n  max-width: 50ex;\n  color: var(--sklearn-color-text);\n  box-shadow: 2pt 2pt 4pt #999;\n  /* unfitted */\n  background: var(--sklearn-color-unfitted-level-0);\n  border: .5pt solid var(--sklearn-color-unfitted-level-3);\n}\n\n.sk-estimator-doc-link.fitted span {\n  /* fitted */\n  background: var(--sklearn-color-fitted-level-0);\n  border: var(--sklearn-color-fitted-level-3);\n}\n\n.sk-estimator-doc-link:hover span {\n  display: block;\n}\n\n/* \"?\"-specific style due to the `<a>` HTML tag */\n\n#sk-container-id-3 a.estimator_doc_link {\n  float: right;\n  font-size: 1rem;\n  line-height: 1em;\n  font-family: monospace;\n  background-color: var(--sklearn-color-background);\n  border-radius: 1rem;\n  height: 1rem;\n  width: 1rem;\n  text-decoration: none;\n  /* unfitted */\n  color: var(--sklearn-color-unfitted-level-1);\n  border: var(--sklearn-color-unfitted-level-1) 1pt solid;\n}\n\n#sk-container-id-3 a.estimator_doc_link.fitted {\n  /* fitted */\n  border: var(--sklearn-color-fitted-level-1) 1pt solid;\n  color: var(--sklearn-color-fitted-level-1);\n}\n\n/* On hover */\n#sk-container-id-3 a.estimator_doc_link:hover {\n  /* unfitted */\n  background-color: var(--sklearn-color-unfitted-level-3);\n  color: var(--sklearn-color-background);\n  text-decoration: none;\n}\n\n#sk-container-id-3 a.estimator_doc_link.fitted:hover {\n  /* fitted */\n  background-color: var(--sklearn-color-fitted-level-3);\n}\n</style><div id=\"sk-container-id-3\" class=\"sk-top-container\"><div class=\"sk-text-repr-fallback\"><pre>SVR()</pre><b>In a Jupyter environment, please rerun this cell to show the HTML representation or trust the notebook. <br />On GitHub, the HTML representation is unable to render, please try loading this page with nbviewer.org.</b></div><div class=\"sk-container\" hidden><div class=\"sk-item\"><div class=\"sk-estimator fitted sk-toggleable\"><input class=\"sk-toggleable__control sk-hidden--visually\" id=\"sk-estimator-id-3\" type=\"checkbox\" checked><label for=\"sk-estimator-id-3\" class=\"sk-toggleable__label fitted sk-toggleable__label-arrow fitted\">&nbsp;&nbsp;SVR<a class=\"sk-estimator-doc-link fitted\" rel=\"noreferrer\" target=\"_blank\" href=\"https://scikit-learn.org/1.4/modules/generated/sklearn.svm.SVR.html\">?<span>Documentation for SVR</span></a><span class=\"sk-estimator-doc-link fitted\">i<span>Fitted</span></span></label><div class=\"sk-toggleable__content fitted\"><pre>SVR()</pre></div> </div></div></div></div>"
     },
     "execution_count": 85,
     "metadata": {},
     "output_type": "execute_result"
    }
   ],
   "source": [
    "from sklearn.svm import SVR\n",
    "svr_model = SVR()\n",
    "svr_model.fit(X_train,y_train)"
   ],
   "metadata": {
    "collapsed": false,
    "ExecuteTime": {
     "end_time": "2024-05-27T08:07:02.030224500Z",
     "start_time": "2024-05-27T08:07:01.328142400Z"
    }
   },
   "id": "cba576f8e064457f",
   "execution_count": 85
  },
  {
   "cell_type": "code",
   "outputs": [],
   "source": [
    "y_test_predicted_svr = svr_model.predict(X_test)"
   ],
   "metadata": {
    "collapsed": false,
    "ExecuteTime": {
     "end_time": "2024-05-27T08:07:02.330593900Z",
     "start_time": "2024-05-27T08:07:02.026225700Z"
    }
   },
   "id": "bd82c325b96691c8",
   "execution_count": 86
  },
  {
   "cell_type": "code",
   "outputs": [],
   "source": [
    "# Approximate to 1 decimal place\n",
    "y_test_predicted_svr = y_test_predicted_svr.round(1)"
   ],
   "metadata": {
    "collapsed": false,
    "ExecuteTime": {
     "end_time": "2024-05-27T08:07:02.361337600Z",
     "start_time": "2024-05-27T08:07:02.333121400Z"
    }
   },
   "id": "6d281dead6dd2bb3",
   "execution_count": 87
  },
  {
   "cell_type": "code",
   "outputs": [
    {
     "data": {
      "text/plain": "   Actual  Predicted\n0     3.9        3.8\n1     4.4        4.4\n2     4.3        4.3\n3     3.9        3.8\n4     4.4        4.4\n5     3.7        3.7\n6     4.0        4.0\n7     4.0        3.9\n8     3.6        3.5\n9     4.1        4.2",
      "text/html": "<div>\n<style scoped>\n    .dataframe tbody tr th:only-of-type {\n        vertical-align: middle;\n    }\n\n    .dataframe tbody tr th {\n        vertical-align: top;\n    }\n\n    .dataframe thead th {\n        text-align: right;\n    }\n</style>\n<table border=\"1\" class=\"dataframe\">\n  <thead>\n    <tr style=\"text-align: right;\">\n      <th></th>\n      <th>Actual</th>\n      <th>Predicted</th>\n    </tr>\n  </thead>\n  <tbody>\n    <tr>\n      <th>0</th>\n      <td>3.9</td>\n      <td>3.8</td>\n    </tr>\n    <tr>\n      <th>1</th>\n      <td>4.4</td>\n      <td>4.4</td>\n    </tr>\n    <tr>\n      <th>2</th>\n      <td>4.3</td>\n      <td>4.3</td>\n    </tr>\n    <tr>\n      <th>3</th>\n      <td>3.9</td>\n      <td>3.8</td>\n    </tr>\n    <tr>\n      <th>4</th>\n      <td>4.4</td>\n      <td>4.4</td>\n    </tr>\n    <tr>\n      <th>5</th>\n      <td>3.7</td>\n      <td>3.7</td>\n    </tr>\n    <tr>\n      <th>6</th>\n      <td>4.0</td>\n      <td>4.0</td>\n    </tr>\n    <tr>\n      <th>7</th>\n      <td>4.0</td>\n      <td>3.9</td>\n    </tr>\n    <tr>\n      <th>8</th>\n      <td>3.6</td>\n      <td>3.5</td>\n    </tr>\n    <tr>\n      <th>9</th>\n      <td>4.1</td>\n      <td>4.2</td>\n    </tr>\n  </tbody>\n</table>\n</div>"
     },
     "execution_count": 88,
     "metadata": {},
     "output_type": "execute_result"
    }
   ],
   "source": [
    "# Now compare the actual output values for y_test with the predicted values.\n",
    "preds = pd.DataFrame({'Actual': y_test.tolist(), 'Predicted': y_test_predicted_svr.tolist()}).head(25)\n",
    "preds.head(10)"
   ],
   "metadata": {
    "collapsed": false,
    "ExecuteTime": {
     "end_time": "2024-05-27T08:07:02.385569900Z",
     "start_time": "2024-05-27T08:07:02.339637800Z"
    }
   },
   "id": "9ce2c1f26a2e2992",
   "execution_count": 88
  },
  {
   "cell_type": "code",
   "outputs": [
    {
     "data": {
      "text/plain": "0.5172727272727272"
     },
     "execution_count": 89,
     "metadata": {},
     "output_type": "execute_result"
    }
   ],
   "source": [
    "# Check how accurate is the prediction\n",
    "(y_test_predicted_svr == y_test).sum()/len(y_test)"
   ],
   "metadata": {
    "collapsed": false,
    "ExecuteTime": {
     "end_time": "2024-05-27T08:07:02.390560600Z",
     "start_time": "2024-05-27T08:07:02.351154900Z"
    }
   },
   "id": "b6858a08dfc81dc5",
   "execution_count": 89
  },
  {
   "cell_type": "code",
   "outputs": [],
   "source": [
    "# Evalute the performance of the Algorithm\n",
    "score=r2_score(y_test,y_test_predicted_svr)\n",
    "meanError = mean_squared_error(y_test,y_test_predicted_svr)\n",
    "meansquardError = np.sqrt(mean_squared_error(y_test,y_test_predicted_svr))"
   ],
   "metadata": {
    "collapsed": false,
    "ExecuteTime": {
     "end_time": "2024-05-27T08:07:02.456973300Z",
     "start_time": "2024-05-27T08:07:02.359336700Z"
    }
   },
   "id": "b67d30a20ff0f9d6",
   "execution_count": 90
  },
  {
   "cell_type": "code",
   "outputs": [
    {
     "name": "stdout",
     "output_type": "stream",
     "text": [
      "R-square is 0.6539196983051707\n",
      "mean_sqrd_error is 0.04489999999999999\n",
      "root_mean_squared error is 0.2118962010041709\n"
     ]
    }
   ],
   "source": [
    "# Print the evaluation metrics\n",
    "print('R-square is',score)\n",
    "print('mean_sqrd_error is',meanError)\n",
    "print('root_mean_squared error is',meansquardError)"
   ],
   "metadata": {
    "collapsed": false,
    "ExecuteTime": {
     "end_time": "2024-05-27T08:07:02.484048Z",
     "start_time": "2024-05-27T08:07:02.367545700Z"
    }
   },
   "id": "6321801d4fea3577",
   "execution_count": 91
  },
  {
   "cell_type": "code",
   "outputs": [
    {
     "data": {
      "text/plain": "Text(0.5, 1.0, 'Actual vs Predicted')"
     },
     "execution_count": 92,
     "metadata": {},
     "output_type": "execute_result"
    },
    {
     "data": {
      "text/plain": "<Figure size 640x480 with 1 Axes>",
      "image/png": "[encoded data removed]"
     },
     "metadata": {},
     "output_type": "display_data"
    }
   ],
   "source": [
    "# Print Graph of the actual and predicted values\n",
    "plt.scatter(y_test,y_test_predicted_svr)\n",
    "plt.xlabel('Actual')\n",
    "plt.ylabel('Predicted')\n",
    "plt.title('Actual vs Predicted')"
   ],
   "metadata": {
    "collapsed": false,
    "ExecuteTime": {
     "end_time": "2024-05-27T08:07:02.770752200Z",
     "start_time": "2024-05-27T08:07:02.374491100Z"
    }
   },
   "id": "51682aa460f6319b",
   "execution_count": 92
  },
  {
   "cell_type": "markdown",
   "source": [
    "# Gradient Boosting Regressor"
   ],
   "metadata": {
    "collapsed": false
   },
   "id": "924a926fb2674436"
  },
  {
   "cell_type": "code",
   "outputs": [
    {
     "data": {
      "text/plain": "GradientBoostingRegressor()",
      "text/html": "<style>#sk-container-id-4 {\n  /* Definition of color scheme common for light and dark mode */\n  --sklearn-color-text: black;\n  --sklearn-color-line: gray;\n  /* Definition of color scheme for unfitted estimators */\n  --sklearn-color-unfitted-level-0: #fff5e6;\n  --sklearn-color-unfitted-level-1: #f6e4d2;\n  --sklearn-color-unfitted-level-2: #ffe0b3;\n  --sklearn-color-unfitted-level-3: chocolate;\n  /* Definition of color scheme for fitted estimators */\n  --sklearn-color-fitted-level-0: #f0f8ff;\n  --sklearn-color-fitted-level-1: #d4ebff;\n  --sklearn-color-fitted-level-2: #b3dbfd;\n  --sklearn-color-fitted-level-3: cornflowerblue;\n\n  /* Specific color for light theme */\n  --sklearn-color-text-on-default-background: var(--sg-text-color, var(--theme-code-foreground, var(--jp-content-font-color1, black)));\n  --sklearn-color-background: var(--sg-background-color, var(--theme-background, var(--jp-layout-color0, white)));\n  --sklearn-color-border-box: var(--sg-text-color, var(--theme-code-foreground, var(--jp-content-font-color1, black)));\n  --sklearn-color-icon: #696969;\n\n  @media (prefers-color-scheme: dark) {\n    /* Redefinition of color scheme for dark theme */\n    --sklearn-color-text-on-default-background: var(--sg-text-color, var(--theme-code-foreground, var(--jp-content-font-color1, white)));\n    --sklearn-color-background: var(--sg-background-color, var(--theme-background, var(--jp-layout-color0, #111)));\n    --sklearn-color-border-box: var(--sg-text-color, var(--theme-code-foreground, var(--jp-content-font-color1, white)));\n    --sklearn-color-icon: #878787;\n  }\n}\n\n#sk-container-id-4 {\n  color: var(--sklearn-color-text);\n}\n\n#sk-container-id-4 pre {\n  padding: 0;\n}\n\n#sk-container-id-4 input.sk-hidden--visually {\n  border: 0;\n  clip: rect(1px 1px 1px 1px);\n  clip: rect(1px, 1px, 1px, 1px);\n  height: 1px;\n  margin: -1px;\n  overflow: hidden;\n  padding: 0;\n  position: absolute;\n  width: 1px;\n}\n\n#sk-container-id-4 div.sk-dashed-wrapped {\n  border: 1px dashed var(--sklearn-color-line);\n  margin: 0 0.4em 0.5em 0.4em;\n  box-sizing: border-box;\n  padding-bottom: 0.4em;\n  background-color: var(--sklearn-color-background);\n}\n\n#sk-container-id-4 div.sk-container {\n  /* jupyter's `normalize.less` sets `[hidden] { display: none; }`\n     but bootstrap.min.css set `[hidden] { display: none !important; }`\n     so we also need the `!important` here to be able to override the\n     default hidden behavior on the sphinx rendered scikit-learn.org.\n     See: https://github.com/scikit-learn/scikit-learn/issues/21755 */\n  display: inline-block !important;\n  position: relative;\n}\n\n#sk-container-id-4 div.sk-text-repr-fallback {\n  display: none;\n}\n\ndiv.sk-parallel-item,\ndiv.sk-serial,\ndiv.sk-item {\n  /* draw centered vertical line to link estimators */\n  background-image: linear-gradient(var(--sklearn-color-text-on-default-background), var(--sklearn-color-text-on-default-background));\n  background-size: 2px 100%;\n  background-repeat: no-repeat;\n  background-position: center center;\n}\n\n/* Parallel-specific style estimator block */\n\n#sk-container-id-4 div.sk-parallel-item::after {\n  content: \"\";\n  width: 100%;\n  border-bottom: 2px solid var(--sklearn-color-text-on-default-background);\n  flex-grow: 1;\n}\n\n#sk-container-id-4 div.sk-parallel {\n  display: flex;\n  align-items: stretch;\n  justify-content: center;\n  background-color: var(--sklearn-color-background);\n  position: relative;\n}\n\n#sk-container-id-4 div.sk-parallel-item {\n  display: flex;\n  flex-direction: column;\n}\n\n#sk-container-id-4 div.sk-parallel-item:first-child::after {\n  align-self: flex-end;\n  width: 50%;\n}\n\n#sk-container-id-4 div.sk-parallel-item:last-child::after {\n  align-self: flex-start;\n  width: 50%;\n}\n\n#sk-container-id-4 div.sk-parallel-item:only-child::after {\n  width: 0;\n}\n\n/* Serial-specific style estimator block */\n\n#sk-container-id-4 div.sk-serial {\n  display: flex;\n  flex-direction: column;\n  align-items: center;\n  background-color: var(--sklearn-color-background);\n  padding-right: 1em;\n  padding-left: 1em;\n}\n\n\n/* Toggleable style: style used for estimator/Pipeline/ColumnTransformer box that is\nclickable and can be expanded/collapsed.\n- Pipeline and ColumnTransformer use this feature and define the default style\n- Estimators will overwrite some part of the style using the `sk-estimator` class\n*/\n\n/* Pipeline and ColumnTransformer style (default) */\n\n#sk-container-id-4 div.sk-toggleable {\n  /* Default theme specific background. It is overwritten whether we have a\n  specific estimator or a Pipeline/ColumnTransformer */\n  background-color: var(--sklearn-color-background);\n}\n\n/* Toggleable label */\n#sk-container-id-4 label.sk-toggleable__label {\n  cursor: pointer;\n  display: block;\n  width: 100%;\n  margin-bottom: 0;\n  padding: 0.5em;\n  box-sizing: border-box;\n  text-align: center;\n}\n\n#sk-container-id-4 label.sk-toggleable__label-arrow:before {\n  /* Arrow on the left of the label */\n  content: \"▸\";\n  float: left;\n  margin-right: 0.25em;\n  color: var(--sklearn-color-icon);\n}\n\n#sk-container-id-4 label.sk-toggleable__label-arrow:hover:before {\n  color: var(--sklearn-color-text);\n}\n\n/* Toggleable content - dropdown */\n\n#sk-container-id-4 div.sk-toggleable__content {\n  max-height: 0;\n  max-width: 0;\n  overflow: hidden;\n  text-align: left;\n  /* unfitted */\n  background-color: var(--sklearn-color-unfitted-level-0);\n}\n\n#sk-container-id-4 div.sk-toggleable__content.fitted {\n  /* fitted */\n  background-color: var(--sklearn-color-fitted-level-0);\n}\n\n#sk-container-id-4 div.sk-toggleable__content pre {\n  margin: 0.2em;\n  border-radius: 0.25em;\n  color: var(--sklearn-color-text);\n  /* unfitted */\n  background-color: var(--sklearn-color-unfitted-level-0);\n}\n\n#sk-container-id-4 div.sk-toggleable__content.fitted pre {\n  /* unfitted */\n  background-color: var(--sklearn-color-fitted-level-0);\n}\n\n#sk-container-id-4 input.sk-toggleable__control:checked~div.sk-toggleable__content {\n  /* Expand drop-down */\n  max-height: 200px;\n  max-width: 100%;\n  overflow: auto;\n}\n\n#sk-container-id-4 input.sk-toggleable__control:checked~label.sk-toggleable__label-arrow:before {\n  content: \"▾\";\n}\n\n/* Pipeline/ColumnTransformer-specific style */\n\n#sk-container-id-4 div.sk-label input.sk-toggleable__control:checked~label.sk-toggleable__label {\n  color: var(--sklearn-color-text);\n  background-color: var(--sklearn-color-unfitted-level-2);\n}\n\n#sk-container-id-4 div.sk-label.fitted input.sk-toggleable__control:checked~label.sk-toggleable__label {\n  background-color: var(--sklearn-color-fitted-level-2);\n}\n\n/* Estimator-specific style */\n\n/* Colorize estimator box */\n#sk-container-id-4 div.sk-estimator input.sk-toggleable__control:checked~label.sk-toggleable__label {\n  /* unfitted */\n  background-color: var(--sklearn-color-unfitted-level-2);\n}\n\n#sk-container-id-4 div.sk-estimator.fitted input.sk-toggleable__control:checked~label.sk-toggleable__label {\n  /* fitted */\n  background-color: var(--sklearn-color-fitted-level-2);\n}\n\n#sk-container-id-4 div.sk-label label.sk-toggleable__label,\n#sk-container-id-4 div.sk-label label {\n  /* The background is the default theme color */\n  color: var(--sklearn-color-text-on-default-background);\n}\n\n/* On hover, darken the color of the background */\n#sk-container-id-4 div.sk-label:hover label.sk-toggleable__label {\n  color: var(--sklearn-color-text);\n  background-color: var(--sklearn-color-unfitted-level-2);\n}\n\n/* Label box, darken color on hover, fitted */\n#sk-container-id-4 div.sk-label.fitted:hover label.sk-toggleable__label.fitted {\n  color: var(--sklearn-color-text);\n  background-color: var(--sklearn-color-fitted-level-2);\n}\n\n/* Estimator label */\n\n#sk-container-id-4 div.sk-label label {\n  font-family: monospace;\n  font-weight: bold;\n  display: inline-block;\n  line-height: 1.2em;\n}\n\n#sk-container-id-4 div.sk-label-container {\n  text-align: center;\n}\n\n/* Estimator-specific */\n#sk-container-id-4 div.sk-estimator {\n  font-family: monospace;\n  border: 1px dotted var(--sklearn-color-border-box);\n  border-radius: 0.25em;\n  box-sizing: border-box;\n  margin-bottom: 0.5em;\n  /* unfitted */\n  background-color: var(--sklearn-color-unfitted-level-0);\n}\n\n#sk-container-id-4 div.sk-estimator.fitted {\n  /* fitted */\n  background-color: var(--sklearn-color-fitted-level-0);\n}\n\n/* on hover */\n#sk-container-id-4 div.sk-estimator:hover {\n  /* unfitted */\n  background-color: var(--sklearn-color-unfitted-level-2);\n}\n\n#sk-container-id-4 div.sk-estimator.fitted:hover {\n  /* fitted */\n  background-color: var(--sklearn-color-fitted-level-2);\n}\n\n/* Specification for estimator info (e.g. \"i\" and \"?\") */\n\n/* Common style for \"i\" and \"?\" */\n\n.sk-estimator-doc-link,\na:link.sk-estimator-doc-link,\na:visited.sk-estimator-doc-link {\n  float: right;\n  font-size: smaller;\n  line-height: 1em;\n  font-family: monospace;\n  background-color: var(--sklearn-color-background);\n  border-radius: 1em;\n  height: 1em;\n  width: 1em;\n  text-decoration: none !important;\n  margin-left: 1ex;\n  /* unfitted */\n  border: var(--sklearn-color-unfitted-level-1) 1pt solid;\n  color: var(--sklearn-color-unfitted-level-1);\n}\n\n.sk-estimator-doc-link.fitted,\na:link.sk-estimator-doc-link.fitted,\na:visited.sk-estimator-doc-link.fitted {\n  /* fitted */\n  border: var(--sklearn-color-fitted-level-1) 1pt solid;\n  color: var(--sklearn-color-fitted-level-1);\n}\n\n/* On hover */\ndiv.sk-estimator:hover .sk-estimator-doc-link:hover,\n.sk-estimator-doc-link:hover,\ndiv.sk-label-container:hover .sk-estimator-doc-link:hover,\n.sk-estimator-doc-link:hover {\n  /* unfitted */\n  background-color: var(--sklearn-color-unfitted-level-3);\n  color: var(--sklearn-color-background);\n  text-decoration: none;\n}\n\ndiv.sk-estimator.fitted:hover .sk-estimator-doc-link.fitted:hover,\n.sk-estimator-doc-link.fitted:hover,\ndiv.sk-label-container:hover .sk-estimator-doc-link.fitted:hover,\n.sk-estimator-doc-link.fitted:hover {\n  /* fitted */\n  background-color: var(--sklearn-color-fitted-level-3);\n  color: var(--sklearn-color-background);\n  text-decoration: none;\n}\n\n/* Span, style for the box shown on hovering the info icon */\n.sk-estimator-doc-link span {\n  display: none;\n  z-index: 9999;\n  position: relative;\n  font-weight: normal;\n  right: .2ex;\n  padding: .5ex;\n  margin: .5ex;\n  width: min-content;\n  min-width: 20ex;\n  max-width: 50ex;\n  color: var(--sklearn-color-text);\n  box-shadow: 2pt 2pt 4pt #999;\n  /* unfitted */\n  background: var(--sklearn-color-unfitted-level-0);\n  border: .5pt solid var(--sklearn-color-unfitted-level-3);\n}\n\n.sk-estimator-doc-link.fitted span {\n  /* fitted */\n  background: var(--sklearn-color-fitted-level-0);\n  border: var(--sklearn-color-fitted-level-3);\n}\n\n.sk-estimator-doc-link:hover span {\n  display: block;\n}\n\n/* \"?\"-specific style due to the `<a>` HTML tag */\n\n#sk-container-id-4 a.estimator_doc_link {\n  float: right;\n  font-size: 1rem;\n  line-height: 1em;\n  font-family: monospace;\n  background-color: var(--sklearn-color-background);\n  border-radius: 1rem;\n  height: 1rem;\n  width: 1rem;\n  text-decoration: none;\n  /* unfitted */\n  color: var(--sklearn-color-unfitted-level-1);\n  border: var(--sklearn-color-unfitted-level-1) 1pt solid;\n}\n\n#sk-container-id-4 a.estimator_doc_link.fitted {\n  /* fitted */\n  border: var(--sklearn-color-fitted-level-1) 1pt solid;\n  color: var(--sklearn-color-fitted-level-1);\n}\n\n/* On hover */\n#sk-container-id-4 a.estimator_doc_link:hover {\n  /* unfitted */\n  background-color: var(--sklearn-color-unfitted-level-3);\n  color: var(--sklearn-color-background);\n  text-decoration: none;\n}\n\n#sk-container-id-4 a.estimator_doc_link.fitted:hover {\n  /* fitted */\n  background-color: var(--sklearn-color-fitted-level-3);\n}\n</style><div id=\"sk-container-id-4\" class=\"sk-top-container\"><div class=\"sk-text-repr-fallback\"><pre>GradientBoostingRegressor()</pre><b>In a Jupyter environment, please rerun this cell to show the HTML representation or trust the notebook. <br />On GitHub, the HTML representation is unable to render, please try loading this page with nbviewer.org.</b></div><div class=\"sk-container\" hidden><div class=\"sk-item\"><div class=\"sk-estimator fitted sk-toggleable\"><input class=\"sk-toggleable__control sk-hidden--visually\" id=\"sk-estimator-id-4\" type=\"checkbox\" checked><label for=\"sk-estimator-id-4\" class=\"sk-toggleable__label fitted sk-toggleable__label-arrow fitted\">&nbsp;&nbsp;GradientBoostingRegressor<a class=\"sk-estimator-doc-link fitted\" rel=\"noreferrer\" target=\"_blank\" href=\"https://scikit-learn.org/1.4/modules/generated/sklearn.ensemble.GradientBoostingRegressor.html\">?<span>Documentation for GradientBoostingRegressor</span></a><span class=\"sk-estimator-doc-link fitted\">i<span>Fitted</span></span></label><div class=\"sk-toggleable__content fitted\"><pre>GradientBoostingRegressor()</pre></div> </div></div></div></div>"
     },
     "execution_count": 93,
     "metadata": {},
     "output_type": "execute_result"
    }
   ],
   "source": [
    "from sklearn.ensemble import GradientBoostingRegressor\n",
    "gb_model = GradientBoostingRegressor()\n",
    "gb_model.fit(X_train,y_train)"
   ],
   "metadata": {
    "collapsed": false,
    "ExecuteTime": {
     "end_time": "2024-05-27T08:07:04.653941600Z",
     "start_time": "2024-05-27T08:07:02.652091600Z"
    }
   },
   "id": "38478d9552352820",
   "execution_count": 93
  },
  {
   "cell_type": "code",
   "outputs": [],
   "source": [
    "y_test_predicted_gb = gb_model.predict(X_test)"
   ],
   "metadata": {
    "collapsed": false,
    "ExecuteTime": {
     "end_time": "2024-05-27T08:07:04.684845100Z",
     "start_time": "2024-05-27T08:07:04.651869500Z"
    }
   },
   "id": "a8dfbf1f15c46d95",
   "execution_count": 94
  },
  {
   "cell_type": "code",
   "outputs": [],
   "source": [
    "# Approximate to 1 decimal place\n",
    "y_test_predicted_gb = y_test_predicted_gb.round(1)"
   ],
   "metadata": {
    "collapsed": false,
    "ExecuteTime": {
     "end_time": "2024-05-27T08:07:04.708850700Z",
     "start_time": "2024-05-27T08:07:04.659673700Z"
    }
   },
   "id": "9c6d50b77b5f253c",
   "execution_count": 95
  },
  {
   "cell_type": "code",
   "outputs": [
    {
     "data": {
      "text/plain": "   Actual  Predicted\n0     3.9        3.9\n1     4.4        4.3\n2     4.3        4.3\n3     3.9        3.9\n4     4.4        4.4\n5     3.7        3.7\n6     4.0        4.0\n7     4.0        4.0\n8     3.6        3.6\n9     4.1        4.1",
      "text/html": "<div>\n<style scoped>\n    .dataframe tbody tr th:only-of-type {\n        vertical-align: middle;\n    }\n\n    .dataframe tbody tr th {\n        vertical-align: top;\n    }\n\n    .dataframe thead th {\n        text-align: right;\n    }\n</style>\n<table border=\"1\" class=\"dataframe\">\n  <thead>\n    <tr style=\"text-align: right;\">\n      <th></th>\n      <th>Actual</th>\n      <th>Predicted</th>\n    </tr>\n  </thead>\n  <tbody>\n    <tr>\n      <th>0</th>\n      <td>3.9</td>\n      <td>3.9</td>\n    </tr>\n    <tr>\n      <th>1</th>\n      <td>4.4</td>\n      <td>4.3</td>\n    </tr>\n    <tr>\n      <th>2</th>\n      <td>4.3</td>\n      <td>4.3</td>\n    </tr>\n    <tr>\n      <th>3</th>\n      <td>3.9</td>\n      <td>3.9</td>\n    </tr>\n    <tr>\n      <th>4</th>\n      <td>4.4</td>\n      <td>4.4</td>\n    </tr>\n    <tr>\n      <th>5</th>\n      <td>3.7</td>\n      <td>3.7</td>\n    </tr>\n    <tr>\n      <th>6</th>\n      <td>4.0</td>\n      <td>4.0</td>\n    </tr>\n    <tr>\n      <th>7</th>\n      <td>4.0</td>\n      <td>4.0</td>\n    </tr>\n    <tr>\n      <th>8</th>\n      <td>3.6</td>\n      <td>3.6</td>\n    </tr>\n    <tr>\n      <th>9</th>\n      <td>4.1</td>\n      <td>4.1</td>\n    </tr>\n  </tbody>\n</table>\n</div>"
     },
     "execution_count": 96,
     "metadata": {},
     "output_type": "execute_result"
    }
   ],
   "source": [
    "# Now compare the actual output values for y_test with the predicted values.\n",
    "preds = pd.DataFrame({'Actual': y_test.tolist(), 'Predicted': y_test_predicted_gb.tolist()}).head(25)\n",
    "preds.head(10)"
   ],
   "metadata": {
    "collapsed": false,
    "ExecuteTime": {
     "end_time": "2024-05-27T08:07:04.777932700Z",
     "start_time": "2024-05-27T08:07:04.671702Z"
    }
   },
   "id": "a444c02676c8e753",
   "execution_count": 96
  },
  {
   "cell_type": "code",
   "outputs": [
    {
     "data": {
      "text/plain": "0.9840909090909091"
     },
     "execution_count": 97,
     "metadata": {},
     "output_type": "execute_result"
    }
   ],
   "source": [
    "# Check how accurate is the prediction\n",
    "(y_test_predicted_gb == y_test).sum()/len(y_test)"
   ],
   "metadata": {
    "collapsed": false,
    "ExecuteTime": {
     "end_time": "2024-05-27T08:07:04.782938600Z",
     "start_time": "2024-05-27T08:07:04.677388300Z"
    }
   },
   "id": "595b90588b704724",
   "execution_count": 97
  },
  {
   "cell_type": "markdown",
   "source": [],
   "metadata": {
    "collapsed": false
   },
   "id": "d3de205cf9598286"
  },
  {
   "cell_type": "code",
   "outputs": [],
   "source": [
    "# Evalute the performance of the Algorithm\n",
    "score=r2_score(y_test,y_test_predicted_gb)\n",
    "meanError = mean_squared_error(y_test,y_test_predicted_gb)\n",
    "meansquardError = np.sqrt(mean_squared_error(y_test,y_test_predicted_gb))"
   ],
   "metadata": {
    "collapsed": false,
    "ExecuteTime": {
     "end_time": "2024-05-27T08:07:04.816199900Z",
     "start_time": "2024-05-27T08:07:04.686857300Z"
    }
   },
   "id": "1cb3fc8e7be65439",
   "execution_count": 98
  },
  {
   "cell_type": "code",
   "outputs": [
    {
     "name": "stdout",
     "output_type": "stream",
     "text": [
      "R-square is 0.9956556026108363\n",
      "mean_sqrd_error is 0.0005636363636363639\n",
      "root_mean_squared error is 0.023741027013091998\n"
     ]
    }
   ],
   "source": [
    "# Print the evaluation metrics\n",
    "print('R-square is',score)\n",
    "print('mean_sqrd_error is',meanError)\n",
    "print('root_mean_squared error is',meansquardError)"
   ],
   "metadata": {
    "collapsed": false,
    "ExecuteTime": {
     "end_time": "2024-05-27T08:07:04.866222100Z",
     "start_time": "2024-05-27T08:07:04.693961900Z"
    }
   },
   "id": "b991f13fff5885ce",
   "execution_count": 99
  },
  {
   "cell_type": "code",
   "outputs": [],
   "source": [
    "# Print Graph of the actual and predicted values\n",
    "plt.scatter(y_test,y_test_predicted_gb)\n",
    "plt.xlabel('Actual')\n",
    "plt.ylabel('Predicted')\n",
    "plt.title('Actual vs Predicted')"
   ],
   "metadata": {
    "collapsed": false
   },
   "id": "c2bf16c620e98da4"
  },
  {
   "cell_type": "markdown",
   "source": [
    "# Multi-layer Perceptron regressor"
   ],
   "metadata": {
    "collapsed": false
   },
   "id": "224995f302285653"
  },
  {
   "cell_type": "code",
   "outputs": [
    {
     "data": {
      "text/plain": "MLPRegressor()",
      "text/html": "<style>#sk-container-id-6 {\n  /* Definition of color scheme common for light and dark mode */\n  --sklearn-color-text: black;\n  --sklearn-color-line: gray;\n  /* Definition of color scheme for unfitted estimators */\n  --sklearn-color-unfitted-level-0: #fff5e6;\n  --sklearn-color-unfitted-level-1: #f6e4d2;\n  --sklearn-color-unfitted-level-2: #ffe0b3;\n  --sklearn-color-unfitted-level-3: chocolate;\n  /* Definition of color scheme for fitted estimators */\n  --sklearn-color-fitted-level-0: #f0f8ff;\n  --sklearn-color-fitted-level-1: #d4ebff;\n  --sklearn-color-fitted-level-2: #b3dbfd;\n  --sklearn-color-fitted-level-3: cornflowerblue;\n\n  /* Specific color for light theme */\n  --sklearn-color-text-on-default-background: var(--sg-text-color, var(--theme-code-foreground, var(--jp-content-font-color1, black)));\n  --sklearn-color-background: var(--sg-background-color, var(--theme-background, var(--jp-layout-color0, white)));\n  --sklearn-color-border-box: var(--sg-text-color, var(--theme-code-foreground, var(--jp-content-font-color1, black)));\n  --sklearn-color-icon: #696969;\n\n  @media (prefers-color-scheme: dark) {\n    /* Redefinition of color scheme for dark theme */\n    --sklearn-color-text-on-default-background: var(--sg-text-color, var(--theme-code-foreground, var(--jp-content-font-color1, white)));\n    --sklearn-color-background: var(--sg-background-color, var(--theme-background, var(--jp-layout-color0, #111)));\n    --sklearn-color-border-box: var(--sg-text-color, var(--theme-code-foreground, var(--jp-content-font-color1, white)));\n    --sklearn-color-icon: #878787;\n  }\n}\n\n#sk-container-id-6 {\n  color: var(--sklearn-color-text);\n}\n\n#sk-container-id-6 pre {\n  padding: 0;\n}\n\n#sk-container-id-6 input.sk-hidden--visually {\n  border: 0;\n  clip: rect(1px 1px 1px 1px);\n  clip: rect(1px, 1px, 1px, 1px);\n  height: 1px;\n  margin: -1px;\n  overflow: hidden;\n  padding: 0;\n  position: absolute;\n  width: 1px;\n}\n\n#sk-container-id-6 div.sk-dashed-wrapped {\n  border: 1px dashed var(--sklearn-color-line);\n  margin: 0 0.4em 0.5em 0.4em;\n  box-sizing: border-box;\n  padding-bottom: 0.4em;\n  background-color: var(--sklearn-color-background);\n}\n\n#sk-container-id-6 div.sk-container {\n  /* jupyter's `normalize.less` sets `[hidden] { display: none; }`\n     but bootstrap.min.css set `[hidden] { display: none !important; }`\n     so we also need the `!important` here to be able to override the\n     default hidden behavior on the sphinx rendered scikit-learn.org.\n     See: https://github.com/scikit-learn/scikit-learn/issues/21755 */\n  display: inline-block !important;\n  position: relative;\n}\n\n#sk-container-id-6 div.sk-text-repr-fallback {\n  display: none;\n}\n\ndiv.sk-parallel-item,\ndiv.sk-serial,\ndiv.sk-item {\n  /* draw centered vertical line to link estimators */\n  background-image: linear-gradient(var(--sklearn-color-text-on-default-background), var(--sklearn-color-text-on-default-background));\n  background-size: 2px 100%;\n  background-repeat: no-repeat;\n  background-position: center center;\n}\n\n/* Parallel-specific style estimator block */\n\n#sk-container-id-6 div.sk-parallel-item::after {\n  content: \"\";\n  width: 100%;\n  border-bottom: 2px solid var(--sklearn-color-text-on-default-background);\n  flex-grow: 1;\n}\n\n#sk-container-id-6 div.sk-parallel {\n  display: flex;\n  align-items: stretch;\n  justify-content: center;\n  background-color: var(--sklearn-color-background);\n  position: relative;\n}\n\n#sk-container-id-6 div.sk-parallel-item {\n  display: flex;\n  flex-direction: column;\n}\n\n#sk-container-id-6 div.sk-parallel-item:first-child::after {\n  align-self: flex-end;\n  width: 50%;\n}\n\n#sk-container-id-6 div.sk-parallel-item:last-child::after {\n  align-self: flex-start;\n  width: 50%;\n}\n\n#sk-container-id-6 div.sk-parallel-item:only-child::after {\n  width: 0;\n}\n\n/* Serial-specific style estimator block */\n\n#sk-container-id-6 div.sk-serial {\n  display: flex;\n  flex-direction: column;\n  align-items: center;\n  background-color: var(--sklearn-color-background);\n  padding-right: 1em;\n  padding-left: 1em;\n}\n\n\n/* Toggleable style: style used for estimator/Pipeline/ColumnTransformer box that is\nclickable and can be expanded/collapsed.\n- Pipeline and ColumnTransformer use this feature and define the default style\n- Estimators will overwrite some part of the style using the `sk-estimator` class\n*/\n\n/* Pipeline and ColumnTransformer style (default) */\n\n#sk-container-id-6 div.sk-toggleable {\n  /* Default theme specific background. It is overwritten whether we have a\n  specific estimator or a Pipeline/ColumnTransformer */\n  background-color: var(--sklearn-color-background);\n}\n\n/* Toggleable label */\n#sk-container-id-6 label.sk-toggleable__label {\n  cursor: pointer;\n  display: block;\n  width: 100%;\n  margin-bottom: 0;\n  padding: 0.5em;\n  box-sizing: border-box;\n  text-align: center;\n}\n\n#sk-container-id-6 label.sk-toggleable__label-arrow:before {\n  /* Arrow on the left of the label */\n  content: \"▸\";\n  float: left;\n  margin-right: 0.25em;\n  color: var(--sklearn-color-icon);\n}\n\n#sk-container-id-6 label.sk-toggleable__label-arrow:hover:before {\n  color: var(--sklearn-color-text);\n}\n\n/* Toggleable content - dropdown */\n\n#sk-container-id-6 div.sk-toggleable__content {\n  max-height: 0;\n  max-width: 0;\n  overflow: hidden;\n  text-align: left;\n  /* unfitted */\n  background-color: var(--sklearn-color-unfitted-level-0);\n}\n\n#sk-container-id-6 div.sk-toggleable__content.fitted {\n  /* fitted */\n  background-color: var(--sklearn-color-fitted-level-0);\n}\n\n#sk-container-id-6 div.sk-toggleable__content pre {\n  margin: 0.2em;\n  border-radius: 0.25em;\n  color: var(--sklearn-color-text);\n  /* unfitted */\n  background-color: var(--sklearn-color-unfitted-level-0);\n}\n\n#sk-container-id-6 div.sk-toggleable__content.fitted pre {\n  /* unfitted */\n  background-color: var(--sklearn-color-fitted-level-0);\n}\n\n#sk-container-id-6 input.sk-toggleable__control:checked~div.sk-toggleable__content {\n  /* Expand drop-down */\n  max-height: 200px;\n  max-width: 100%;\n  overflow: auto;\n}\n\n#sk-container-id-6 input.sk-toggleable__control:checked~label.sk-toggleable__label-arrow:before {\n  content: \"▾\";\n}\n\n/* Pipeline/ColumnTransformer-specific style */\n\n#sk-container-id-6 div.sk-label input.sk-toggleable__control:checked~label.sk-toggleable__label {\n  color: var(--sklearn-color-text);\n  background-color: var(--sklearn-color-unfitted-level-2);\n}\n\n#sk-container-id-6 div.sk-label.fitted input.sk-toggleable__control:checked~label.sk-toggleable__label {\n  background-color: var(--sklearn-color-fitted-level-2);\n}\n\n/* Estimator-specific style */\n\n/* Colorize estimator box */\n#sk-container-id-6 div.sk-estimator input.sk-toggleable__control:checked~label.sk-toggleable__label {\n  /* unfitted */\n  background-color: var(--sklearn-color-unfitted-level-2);\n}\n\n#sk-container-id-6 div.sk-estimator.fitted input.sk-toggleable__control:checked~label.sk-toggleable__label {\n  /* fitted */\n  background-color: var(--sklearn-color-fitted-level-2);\n}\n\n#sk-container-id-6 div.sk-label label.sk-toggleable__label,\n#sk-container-id-6 div.sk-label label {\n  /* The background is the default theme color */\n  color: var(--sklearn-color-text-on-default-background);\n}\n\n/* On hover, darken the color of the background */\n#sk-container-id-6 div.sk-label:hover label.sk-toggleable__label {\n  color: var(--sklearn-color-text);\n  background-color: var(--sklearn-color-unfitted-level-2);\n}\n\n/* Label box, darken color on hover, fitted */\n#sk-container-id-6 div.sk-label.fitted:hover label.sk-toggleable__label.fitted {\n  color: var(--sklearn-color-text);\n  background-color: var(--sklearn-color-fitted-level-2);\n}\n\n/* Estimator label */\n\n#sk-container-id-6 div.sk-label label {\n  font-family: monospace;\n  font-weight: bold;\n  display: inline-block;\n  line-height: 1.2em;\n}\n\n#sk-container-id-6 div.sk-label-container {\n  text-align: center;\n}\n\n/* Estimator-specific */\n#sk-container-id-6 div.sk-estimator {\n  font-family: monospace;\n  border: 1px dotted var(--sklearn-color-border-box);\n  border-radius: 0.25em;\n  box-sizing: border-box;\n  margin-bottom: 0.5em;\n  /* unfitted */\n  background-color: var(--sklearn-color-unfitted-level-0);\n}\n\n#sk-container-id-6 div.sk-estimator.fitted {\n  /* fitted */\n  background-color: var(--sklearn-color-fitted-level-0);\n}\n\n/* on hover */\n#sk-container-id-6 div.sk-estimator:hover {\n  /* unfitted */\n  background-color: var(--sklearn-color-unfitted-level-2);\n}\n\n#sk-container-id-6 div.sk-estimator.fitted:hover {\n  /* fitted */\n  background-color: var(--sklearn-color-fitted-level-2);\n}\n\n/* Specification for estimator info (e.g. \"i\" and \"?\") */\n\n/* Common style for \"i\" and \"?\" */\n\n.sk-estimator-doc-link,\na:link.sk-estimator-doc-link,\na:visited.sk-estimator-doc-link {\n  float: right;\n  font-size: smaller;\n  line-height: 1em;\n  font-family: monospace;\n  background-color: var(--sklearn-color-background);\n  border-radius: 1em;\n  height: 1em;\n  width: 1em;\n  text-decoration: none !important;\n  margin-left: 1ex;\n  /* unfitted */\n  border: var(--sklearn-color-unfitted-level-1) 1pt solid;\n  color: var(--sklearn-color-unfitted-level-1);\n}\n\n.sk-estimator-doc-link.fitted,\na:link.sk-estimator-doc-link.fitted,\na:visited.sk-estimator-doc-link.fitted {\n  /* fitted */\n  border: var(--sklearn-color-fitted-level-1) 1pt solid;\n  color: var(--sklearn-color-fitted-level-1);\n}\n\n/* On hover */\ndiv.sk-estimator:hover .sk-estimator-doc-link:hover,\n.sk-estimator-doc-link:hover,\ndiv.sk-label-container:hover .sk-estimator-doc-link:hover,\n.sk-estimator-doc-link:hover {\n  /* unfitted */\n  background-color: var(--sklearn-color-unfitted-level-3);\n  color: var(--sklearn-color-background);\n  text-decoration: none;\n}\n\ndiv.sk-estimator.fitted:hover .sk-estimator-doc-link.fitted:hover,\n.sk-estimator-doc-link.fitted:hover,\ndiv.sk-label-container:hover .sk-estimator-doc-link.fitted:hover,\n.sk-estimator-doc-link.fitted:hover {\n  /* fitted */\n  background-color: var(--sklearn-color-fitted-level-3);\n  color: var(--sklearn-color-background);\n  text-decoration: none;\n}\n\n/* Span, style for the box shown on hovering the info icon */\n.sk-estimator-doc-link span {\n  display: none;\n  z-index: 9999;\n  position: relative;\n  font-weight: normal;\n  right: .2ex;\n  padding: .5ex;\n  margin: .5ex;\n  width: min-content;\n  min-width: 20ex;\n  max-width: 50ex;\n  color: var(--sklearn-color-text);\n  box-shadow: 2pt 2pt 4pt #999;\n  /* unfitted */\n  background: var(--sklearn-color-unfitted-level-0);\n  border: .5pt solid var(--sklearn-color-unfitted-level-3);\n}\n\n.sk-estimator-doc-link.fitted span {\n  /* fitted */\n  background: var(--sklearn-color-fitted-level-0);\n  border: var(--sklearn-color-fitted-level-3);\n}\n\n.sk-estimator-doc-link:hover span {\n  display: block;\n}\n\n/* \"?\"-specific style due to the `<a>` HTML tag */\n\n#sk-container-id-6 a.estimator_doc_link {\n  float: right;\n  font-size: 1rem;\n  line-height: 1em;\n  font-family: monospace;\n  background-color: var(--sklearn-color-background);\n  border-radius: 1rem;\n  height: 1rem;\n  width: 1rem;\n  text-decoration: none;\n  /* unfitted */\n  color: var(--sklearn-color-unfitted-level-1);\n  border: var(--sklearn-color-unfitted-level-1) 1pt solid;\n}\n\n#sk-container-id-6 a.estimator_doc_link.fitted {\n  /* fitted */\n  border: var(--sklearn-color-fitted-level-1) 1pt solid;\n  color: var(--sklearn-color-fitted-level-1);\n}\n\n/* On hover */\n#sk-container-id-6 a.estimator_doc_link:hover {\n  /* unfitted */\n  background-color: var(--sklearn-color-unfitted-level-3);\n  color: var(--sklearn-color-background);\n  text-decoration: none;\n}\n\n#sk-container-id-6 a.estimator_doc_link.fitted:hover {\n  /* fitted */\n  background-color: var(--sklearn-color-fitted-level-3);\n}\n</style><div id=\"sk-container-id-6\" class=\"sk-top-container\"><div class=\"sk-text-repr-fallback\"><pre>MLPRegressor()</pre><b>In a Jupyter environment, please rerun this cell to show the HTML representation or trust the notebook. <br />On GitHub, the HTML representation is unable to render, please try loading this page with nbviewer.org.</b></div><div class=\"sk-container\" hidden><div class=\"sk-item\"><div class=\"sk-estimator fitted sk-toggleable\"><input class=\"sk-toggleable__control sk-hidden--visually\" id=\"sk-estimator-id-6\" type=\"checkbox\" checked><label for=\"sk-estimator-id-6\" class=\"sk-toggleable__label fitted sk-toggleable__label-arrow fitted\">&nbsp;&nbsp;MLPRegressor<a class=\"sk-estimator-doc-link fitted\" rel=\"noreferrer\" target=\"_blank\" href=\"https://scikit-learn.org/1.4/modules/generated/sklearn.neural_network.MLPRegressor.html\">?<span>Documentation for MLPRegressor</span></a><span class=\"sk-estimator-doc-link fitted\">i<span>Fitted</span></span></label><div class=\"sk-toggleable__content fitted\"><pre>MLPRegressor()</pre></div> </div></div></div></div>"
     },
     "execution_count": 102,
     "metadata": {},
     "output_type": "execute_result"
    }
   ],
   "source": [
    "from sklearn.neural_network import MLPRegressor\n",
    "mlp_model = MLPRegressor()\n",
    "mlp_model.fit(X_train,y_train)"
   ],
   "metadata": {
    "collapsed": false,
    "ExecuteTime": {
     "end_time": "2024-05-27T08:11:58.747381400Z",
     "start_time": "2024-05-27T08:11:57.722465500Z"
    }
   },
   "id": "a02a302b06707f43",
   "execution_count": 102
  },
  {
   "cell_type": "code",
   "outputs": [],
   "source": [
    "# Predict the target values\n",
    "y_test_predicted_mlp = mlp_model.predict(X_test)"
   ],
   "metadata": {
    "collapsed": false,
    "ExecuteTime": {
     "end_time": "2024-05-27T08:16:38.074262900Z",
     "start_time": "2024-05-27T08:16:37.975580700Z"
    }
   },
   "id": "ae070ff77cb14dad",
   "execution_count": 103
  },
  {
   "cell_type": "code",
   "outputs": [],
   "source": [
    "# Approximate to 1 decimal place\n",
    "y_test_predicted_mlp = y_test_predicted_mlp.round(1)"
   ],
   "metadata": {
    "collapsed": false,
    "ExecuteTime": {
     "end_time": "2024-05-27T08:16:38.856039300Z",
     "start_time": "2024-05-27T08:16:38.783034500Z"
    }
   },
   "id": "8049240ca12f94d8",
   "execution_count": 104
  },
  {
   "cell_type": "code",
   "outputs": [
    {
     "data": {
      "text/plain": "   Actual  Predicted\n0     3.9        2.3\n1     4.4       18.6\n2     4.3        8.0\n3     3.9       -1.7\n4     4.4       12.7\n5     3.7        3.9\n6     4.0        3.7\n7     4.0       -9.9\n8     3.6      -45.4\n9     4.1        2.7",
      "text/html": "<div>\n<style scoped>\n    .dataframe tbody tr th:only-of-type {\n        vertical-align: middle;\n    }\n\n    .dataframe tbody tr th {\n        vertical-align: top;\n    }\n\n    .dataframe thead th {\n        text-align: right;\n    }\n</style>\n<table border=\"1\" class=\"dataframe\">\n  <thead>\n    <tr style=\"text-align: right;\">\n      <th></th>\n      <th>Actual</th>\n      <th>Predicted</th>\n    </tr>\n  </thead>\n  <tbody>\n    <tr>\n      <th>0</th>\n      <td>3.9</td>\n      <td>2.3</td>\n    </tr>\n    <tr>\n      <th>1</th>\n      <td>4.4</td>\n      <td>18.6</td>\n    </tr>\n    <tr>\n      <th>2</th>\n      <td>4.3</td>\n      <td>8.0</td>\n    </tr>\n    <tr>\n      <th>3</th>\n      <td>3.9</td>\n      <td>-1.7</td>\n    </tr>\n    <tr>\n      <th>4</th>\n      <td>4.4</td>\n      <td>12.7</td>\n    </tr>\n    <tr>\n      <th>5</th>\n      <td>3.7</td>\n      <td>3.9</td>\n    </tr>\n    <tr>\n      <th>6</th>\n      <td>4.0</td>\n      <td>3.7</td>\n    </tr>\n    <tr>\n      <th>7</th>\n      <td>4.0</td>\n      <td>-9.9</td>\n    </tr>\n    <tr>\n      <th>8</th>\n      <td>3.6</td>\n      <td>-45.4</td>\n    </tr>\n    <tr>\n      <th>9</th>\n      <td>4.1</td>\n      <td>2.7</td>\n    </tr>\n  </tbody>\n</table>\n</div>"
     },
     "execution_count": 105,
     "metadata": {},
     "output_type": "execute_result"
    }
   ],
   "source": [
    "# Now compare the actual output values for y_test with the predicted values.\n",
    "preds = pd.DataFrame({'Actual': y_test.tolist(), 'Predicted': y_test_predicted_mlp.tolist()}).head(25)\n",
    "preds.head(10)"
   ],
   "metadata": {
    "collapsed": false,
    "ExecuteTime": {
     "end_time": "2024-05-27T08:16:50.441655100Z",
     "start_time": "2024-05-27T08:16:50.339141100Z"
    }
   },
   "id": "122b90ad0342a1ae",
   "execution_count": 105
  },
  {
   "cell_type": "code",
   "outputs": [
    {
     "data": {
      "text/plain": "0.0018181818181818182"
     },
     "execution_count": 106,
     "metadata": {},
     "output_type": "execute_result"
    }
   ],
   "source": [
    "# Check how accurate is the prediction\n",
    "(y_test_predicted_mlp == y_test).sum()/len(y_test)"
   ],
   "metadata": {
    "collapsed": false,
    "ExecuteTime": {
     "end_time": "2024-05-27T08:17:17.308804500Z",
     "start_time": "2024-05-27T08:17:17.234291100Z"
    }
   },
   "id": "313de8469e837118",
   "execution_count": 106
  },
  {
   "cell_type": "code",
   "outputs": [],
   "source": [
    "# Evalute the performance of the Algorithm\n",
    "score=r2_score(y_test,y_test_predicted_mlp)\n",
    "meanError = mean_squared_error(y_test,y_test_predicted_mlp)\n",
    "meansquardError = np.sqrt(mean_squared_error(y_test,y_test_predicted_mlp))"
   ],
   "metadata": {
    "collapsed": false,
    "ExecuteTime": {
     "end_time": "2024-05-27T08:17:17.633152400Z",
     "start_time": "2024-05-27T08:17:17.583689800Z"
    }
   },
   "id": "102b8fc001312835",
   "execution_count": 107
  },
  {
   "cell_type": "code",
   "outputs": [
    {
     "name": "stdout",
     "output_type": "stream",
     "text": [
      "R-square is -16029.310013363005\n",
      "mean_sqrd_error is 2079.751190909091\n",
      "root_mean_squared error is 45.60428917228171\n"
     ]
    }
   ],
   "source": [
    "# Print the evaluation metrics\n",
    "print('R-square is',score)\n",
    "print('mean_sqrd_error is',meanError)\n",
    "print('root_mean_squared error is',meansquardError)"
   ],
   "metadata": {
    "collapsed": false,
    "ExecuteTime": {
     "end_time": "2024-05-27T08:18:00.823663800Z",
     "start_time": "2024-05-27T08:18:00.745654500Z"
    }
   },
   "id": "a6692bd76cbaf1b",
   "execution_count": 108
  },
  {
   "cell_type": "code",
   "outputs": [
    {
     "data": {
      "text/plain": "Text(0.5, 1.0, 'Actual vs Predicted')"
     },
     "execution_count": 109,
     "metadata": {},
     "output_type": "execute_result"
    },
    {
     "data": {
      "text/plain": "<Figure size 640x480 with 1 Axes>",
      "image/png": "[encoded data removed]"
     },
     "metadata": {},
     "output_type": "display_data"
    }
   ],
   "source": [
    "# Print Graph of the actual and predicted values\n",
    "plt.scatter(y_test,y_test_predicted_mlp)\n",
    "plt.xlabel('Actual')\n",
    "plt.ylabel('Predicted')\n",
    "plt.title('Actual vs Predicted')"
   ],
   "metadata": {
    "collapsed": false,
    "ExecuteTime": {
     "end_time": "2024-05-27T08:18:17.681880200Z",
     "start_time": "2024-05-27T08:18:17.400703100Z"
    }
   },
   "id": "290eb152f7456626",
   "execution_count": 109
  },
  {
   "cell_type": "markdown",
   "id": "4f16ba25",
   "metadata": {},
   "source": [
    "# Conclusion"
   ]
  },
  {
   "cell_type": "markdown",
   "id": "236dcdbe",
   "metadata": {},
   "source": [
    "The evaluation metrics reveal a substantial difference in performance between the Random Forest Regressor and Linear Regression models. The Random Forest model demonstrates superior predictive accuracy, as evidenced by its significantly higher R-squared value of 0.993, indicating that it explains 99.3% of the variance in the target variable. Conversely, the Linear Regression model's R-squared value of 0.647 suggests that it explains only 64.7% of the variance.\n",
    "\n",
    "Furthermore, the Random Forest model's lower mean squared error (0.001) and root mean squared error (0.032) underscore its closer alignment with the actual data points compared to the Linear Regression model, which exhibits higher values of 0.048 and 0.220, respectively."
   ]
  }
 ],
 "metadata": {
  "kernelspec": {
   "display_name": "Python 3 (ipykernel)",
   "language": "python",
   "name": "python3"
  },
  "language_info": {
   "codemirror_mode": {
    "name": "ipython",
    "version": 3
   },
   "file_extension": ".py",
   "mimetype": "text/x-python",
   "name": "python",
   "nbconvert_exporter": "python",
   "pygments_lexer": "ipython3",
   "version": "3.7.11"
  }
 },
 "nbformat": 4,
 "nbformat_minor": 5
}
